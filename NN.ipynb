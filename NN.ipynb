{
 "cells": [
  {
   "cell_type": "code",
   "execution_count": 25,
   "metadata": {},
   "outputs": [],
   "source": [
    "import pandas as pd\n",
    "import pickle\n",
    "import matplotlib.pyplot as plt\n",
    "import numpy as np\n",
    "\n",
    "# Tensorflow Stuff\n",
    "import tensorflow.keras.initializers\n",
    "import statistics\n",
    "import tensorflow.keras as keras\n",
    "from sklearn import metrics\n",
    "from sklearn.model_selection import StratifiedKFold\n",
    "from tensorflow.keras.models import Sequential\n",
    "from tensorflow.keras.layers import Dense, Activation, Dropout, InputLayer\n",
    "from tensorflow.keras import regularizers\n",
    "from tensorflow.keras.callbacks import EarlyStopping\n",
    "from sklearn.model_selection import ShuffleSplit\n",
    "from tensorflow.keras.layers import ReLU\n",
    "from tensorflow.keras.optimizers import Adam\n",
    "import tensorflow as tf\n",
    "from bayes_opt import BayesianOptimization\n",
    "import matplotlib.pyplot as plt\n",
    "import logging, os\n",
    "logging.disable(logging.WARNING)\n",
    "os.environ[\"TF_CPP_MIN_LOG_LEVEL\"] = \"3\""
   ]
  },
  {
   "cell_type": "code",
   "execution_count": 26,
   "metadata": {},
   "outputs": [],
   "source": [
    "with open('keVtoLightYield.pickle', 'rb') as handle:\n",
    "    data = pickle.load(handle)"
   ]
  },
  {
   "cell_type": "code",
   "execution_count": 30,
   "metadata": {},
   "outputs": [],
   "source": [
    "def loadRandomGaussianData(data, num):\n",
    "    \n",
    "    # Takes index from \n",
    "    indexToKey = [key for key in data.keys() if key not in \"bins\"]\n",
    "    indexToKey.sort()\n",
    "    indexToKey = np.array(indexToKey)\n",
    "    \n",
    "    # Gets the dimensions of the x and y data\n",
    "    xDim = len(data[indexToKey[0]])\n",
    "    yDim = len(indexToKey)\n",
    "    \n",
    "    # Normalizes the data\n",
    "    def normalize(counts):\n",
    "        bins = data[\"bins\"]\n",
    "        binWidth = bins[1] - bins[0]\n",
    "        counts = counts / ( binWidth * sum(counts) )\n",
    "        return counts\n",
    "\n",
    "    # Randomly adds a gaussian peak to a 1D array\n",
    "    def addGaussian(data, i):\n",
    "        # Randomly picks the width and height of the gaussian\n",
    "        # ~8 is placeholder for typical width of peak in the real-world data (depends on detector resolution)\n",
    "        H = np.random.normal(loc = 20.0, scale = 10.0)\n",
    "        W = int( np.abs(np.random.normal(loc = 30.0, scale = 15.0 / (np.abs(H) + 0.01) ))) + 1\n",
    "\n",
    "        for k in range(-W, W + 1):\n",
    "            if (i + k) >= len(data):\n",
    "                break\n",
    "            elif (i + k) < 0:\n",
    "                continue\n",
    "            else:\n",
    "                data[i + k] += H * np.exp(- (2.5*k/W)**2)\n",
    "                \n",
    "    # Gets the detector response of a given neutron spectra\n",
    "    def getX(yRow):\n",
    "        xRow = np.zeros(xDim)\n",
    "        for index in range(yDim):\n",
    "            xRow += yRow[index] * data[indexToKey[index]]\n",
    "            \n",
    "        return normalize(xRow)\n",
    "          \n",
    "    x = np.zeros( (0, xDim) )\n",
    "    y = np.zeros( (0, yDim) )\n",
    "    #14045\n",
    "    for _ in range(2000):\n",
    "        yRow = np.zeros(len(indexToKey))\n",
    "\n",
    "        i = np.random.randint(low = 0, high = yDim + 1)\n",
    "        addGaussian(yRow, i)\n",
    "        \n",
    "        # Flip a coin and keep adding gaussian spikes\n",
    "        p = np.random.random()\n",
    "        while p > 0.2:\n",
    "            i = np.random.randint(low = 0, high = yDim + 1)\n",
    "            addGaussian(yRow, i)\n",
    "            p = np.random.random()\n",
    "                \n",
    "        yRow = np.abs(yRow)\n",
    "        yRow = yRow / sum(yRow)\n",
    "        xRow = getX(yRow)\n",
    "\n",
    "        x = np.vstack( (x, xRow) )\n",
    "        y = np.vstack( (y, yRow) )    \n",
    "\n",
    "    return x,y"
   ]
  },
  {
   "cell_type": "code",
   "execution_count": 31,
   "metadata": {},
   "outputs": [],
   "source": [
    "def bootstrapModel(numNeurons2, alpha2):\n",
    "\n",
    "    # Gets x and y dimension of the data \n",
    "    indexToKey = [key for key in data.keys() if key not in \"bins\"]\n",
    "    indexToKey.sort()\n",
    "    indexToKey = np.array(indexToKey)\n",
    "\n",
    "    xDim = len(data[indexToKey[0]])\n",
    "    yDim = len(indexToKey)\n",
    "    \n",
    "    error = []\n",
    "    \n",
    "    for _ in range(2):\n",
    "        model = getModel(xDim, yDim, numNeurons0, numNeurons1, numNeurons2, alpha0, alpha1, alpha2, alpha3, dropout)\n",
    "        model.compile(loss = \"categorical_crossentropy\", optimizer = Adam() )\n",
    "\n",
    "        monitor = EarlyStopping(monitor='val_loss', min_delta=1e-6, \n",
    "                                patience=1, verbose=0,\n",
    "                                mode='min', restore_best_weights=True)\n",
    "\n",
    "        x,y = loadRandomGaussianData(data, 500)\n",
    "        \n",
    "        model.fit(x, y, validation_split=0.1, batch_size = 60, callbacks=[monitor], verbose=0, epochs=10000)\n",
    "\n",
    "        xtest, ytest = loadRandomGaussianData(data, 30)\n",
    "        ypred = model( xtest )\n",
    "        error.append( metrics.mean_squared_error(ytest, ypred) )\n",
    "        \n",
    "    print( \"Error : \" , np.mean(error), \" ± \", np.std(error) )\n",
    "    return - np.mean( error )\n",
    "\n",
    "def getModel(xDim, yDim, numNeurons0, numNeurons1, numNeurons2, alpha0, alpha1, alpha2, dropout):\n",
    "    \n",
    "    numNeurons0 = int( numNeurons0 )\n",
    "    numNeurons1 = int( numNeurons1 )\n",
    "    numNeurons2 = int( numNeurons2 )\n",
    "    \n",
    "    model = keras.Sequential()\n",
    "    model.add(keras.Input(xDim))\n",
    "    if numNeurons0 >= 1:\n",
    "        model.add(Dropout(dropout))\n",
    "        model.add(Dense(numNeurons0, activation=keras.layers.LeakyReLU(alpha=alpha0)))\n",
    "    if numNeurons1 >= 1:\n",
    "        model.add(Dropout(dropout))\n",
    "        model.add(Dense(numNeurons1, activation=keras.layers.LeakyReLU(alpha=alpha1)))\n",
    "    if numNeurons2 >= 1:\n",
    "        model.add(Dropout(dropout))\n",
    "        model.add(Dense(numNeurons2, activation=keras.layers.LeakyReLU(alpha=alpha2)))\n",
    "    #model.add(Dense(yDim, activation=keras.layers.LeakyReLU(alpha=alpha3)))\n",
    "    model.add(Dense(yDim, activation='softmax'))\n",
    "    return model\n",
    "    \n",
    "    "
   ]
  },
  {
   "cell_type": "code",
   "execution_count": 32,
   "metadata": {
    "scrolled": true
   },
   "outputs": [
    {
     "name": "stdout",
     "output_type": "stream",
     "text": [
      "|   iter    |  target   |  alpha2   | numNeu... |\n",
      "-------------------------------------------------\n"
     ]
    },
    {
     "ename": "NameError",
     "evalue": "name 'alpha3' is not defined",
     "output_type": "error",
     "traceback": [
      "\u001b[0;31m---------------------------------------------------------------------------\u001b[0m",
      "\u001b[0;31mKeyError\u001b[0m                                  Traceback (most recent call last)",
      "\u001b[0;32m/Library/Frameworks/Python.framework/Versions/3.8/lib/python3.8/site-packages/bayes_opt/target_space.py\u001b[0m in \u001b[0;36mprobe\u001b[0;34m(self, params)\u001b[0m\n\u001b[1;32m    190\u001b[0m         \u001b[0;32mtry\u001b[0m\u001b[0;34m:\u001b[0m\u001b[0;34m\u001b[0m\u001b[0;34m\u001b[0m\u001b[0m\n\u001b[0;32m--> 191\u001b[0;31m             \u001b[0mtarget\u001b[0m \u001b[0;34m=\u001b[0m \u001b[0mself\u001b[0m\u001b[0;34m.\u001b[0m\u001b[0m_cache\u001b[0m\u001b[0;34m[\u001b[0m\u001b[0m_hashable\u001b[0m\u001b[0;34m(\u001b[0m\u001b[0mx\u001b[0m\u001b[0;34m)\u001b[0m\u001b[0;34m]\u001b[0m\u001b[0;34m\u001b[0m\u001b[0;34m\u001b[0m\u001b[0m\n\u001b[0m\u001b[1;32m    192\u001b[0m         \u001b[0;32mexcept\u001b[0m \u001b[0mKeyError\u001b[0m\u001b[0;34m:\u001b[0m\u001b[0;34m\u001b[0m\u001b[0;34m\u001b[0m\u001b[0m\n",
      "\u001b[0;31mKeyError\u001b[0m: (0.28340440094051483, 372.87787842611795)",
      "\nDuring handling of the above exception, another exception occurred:\n",
      "\u001b[0;31mNameError\u001b[0m                                 Traceback (most recent call last)",
      "\u001b[0;32m<ipython-input-32-ab5653ace7e2>\u001b[0m in \u001b[0;36m<module>\u001b[0;34m\u001b[0m\n\u001b[1;32m     14\u001b[0m )\n\u001b[1;32m     15\u001b[0m \u001b[0;34m\u001b[0m\u001b[0m\n\u001b[0;32m---> 16\u001b[0;31m \u001b[0moptimizer\u001b[0m\u001b[0;34m.\u001b[0m\u001b[0mmaximize\u001b[0m\u001b[0;34m(\u001b[0m\u001b[0minit_points\u001b[0m\u001b[0;34m=\u001b[0m\u001b[0;36m4\u001b[0m\u001b[0;34m,\u001b[0m \u001b[0mn_iter\u001b[0m\u001b[0;34m=\u001b[0m\u001b[0;36m4\u001b[0m\u001b[0;34m)\u001b[0m\u001b[0;34m\u001b[0m\u001b[0;34m\u001b[0m\u001b[0m\n\u001b[0m\u001b[1;32m     17\u001b[0m \u001b[0;34m\u001b[0m\u001b[0m\n\u001b[1;32m     18\u001b[0m \u001b[0mprint\u001b[0m\u001b[0;34m(\u001b[0m\u001b[0;34m\"Best Value : \"\u001b[0m \u001b[0;34m,\u001b[0m \u001b[0moptimizer\u001b[0m\u001b[0;34m.\u001b[0m\u001b[0mmax\u001b[0m\u001b[0;34m)\u001b[0m\u001b[0;34m\u001b[0m\u001b[0;34m\u001b[0m\u001b[0m\n",
      "\u001b[0;32m/Library/Frameworks/Python.framework/Versions/3.8/lib/python3.8/site-packages/bayes_opt/bayesian_optimization.py\u001b[0m in \u001b[0;36mmaximize\u001b[0;34m(self, init_points, n_iter, acq, kappa, kappa_decay, kappa_decay_delay, xi, **gp_params)\u001b[0m\n\u001b[1;32m    183\u001b[0m                 \u001b[0miteration\u001b[0m \u001b[0;34m+=\u001b[0m \u001b[0;36m1\u001b[0m\u001b[0;34m\u001b[0m\u001b[0;34m\u001b[0m\u001b[0m\n\u001b[1;32m    184\u001b[0m \u001b[0;34m\u001b[0m\u001b[0m\n\u001b[0;32m--> 185\u001b[0;31m             \u001b[0mself\u001b[0m\u001b[0;34m.\u001b[0m\u001b[0mprobe\u001b[0m\u001b[0;34m(\u001b[0m\u001b[0mx_probe\u001b[0m\u001b[0;34m,\u001b[0m \u001b[0mlazy\u001b[0m\u001b[0;34m=\u001b[0m\u001b[0;32mFalse\u001b[0m\u001b[0;34m)\u001b[0m\u001b[0;34m\u001b[0m\u001b[0;34m\u001b[0m\u001b[0m\n\u001b[0m\u001b[1;32m    186\u001b[0m \u001b[0;34m\u001b[0m\u001b[0m\n\u001b[1;32m    187\u001b[0m             \u001b[0;32mif\u001b[0m \u001b[0mself\u001b[0m\u001b[0;34m.\u001b[0m\u001b[0m_bounds_transformer\u001b[0m\u001b[0;34m:\u001b[0m\u001b[0;34m\u001b[0m\u001b[0;34m\u001b[0m\u001b[0m\n",
      "\u001b[0;32m/Library/Frameworks/Python.framework/Versions/3.8/lib/python3.8/site-packages/bayes_opt/bayesian_optimization.py\u001b[0m in \u001b[0;36mprobe\u001b[0;34m(self, params, lazy)\u001b[0m\n\u001b[1;32m    114\u001b[0m             \u001b[0mself\u001b[0m\u001b[0;34m.\u001b[0m\u001b[0m_queue\u001b[0m\u001b[0;34m.\u001b[0m\u001b[0madd\u001b[0m\u001b[0;34m(\u001b[0m\u001b[0mparams\u001b[0m\u001b[0;34m)\u001b[0m\u001b[0;34m\u001b[0m\u001b[0;34m\u001b[0m\u001b[0m\n\u001b[1;32m    115\u001b[0m         \u001b[0;32melse\u001b[0m\u001b[0;34m:\u001b[0m\u001b[0;34m\u001b[0m\u001b[0;34m\u001b[0m\u001b[0m\n\u001b[0;32m--> 116\u001b[0;31m             \u001b[0mself\u001b[0m\u001b[0;34m.\u001b[0m\u001b[0m_space\u001b[0m\u001b[0;34m.\u001b[0m\u001b[0mprobe\u001b[0m\u001b[0;34m(\u001b[0m\u001b[0mparams\u001b[0m\u001b[0;34m)\u001b[0m\u001b[0;34m\u001b[0m\u001b[0;34m\u001b[0m\u001b[0m\n\u001b[0m\u001b[1;32m    117\u001b[0m             \u001b[0mself\u001b[0m\u001b[0;34m.\u001b[0m\u001b[0mdispatch\u001b[0m\u001b[0;34m(\u001b[0m\u001b[0mEvents\u001b[0m\u001b[0;34m.\u001b[0m\u001b[0mOPTIMIZATION_STEP\u001b[0m\u001b[0;34m)\u001b[0m\u001b[0;34m\u001b[0m\u001b[0;34m\u001b[0m\u001b[0m\n\u001b[1;32m    118\u001b[0m \u001b[0;34m\u001b[0m\u001b[0m\n",
      "\u001b[0;32m/Library/Frameworks/Python.framework/Versions/3.8/lib/python3.8/site-packages/bayes_opt/target_space.py\u001b[0m in \u001b[0;36mprobe\u001b[0;34m(self, params)\u001b[0m\n\u001b[1;32m    192\u001b[0m         \u001b[0;32mexcept\u001b[0m \u001b[0mKeyError\u001b[0m\u001b[0;34m:\u001b[0m\u001b[0;34m\u001b[0m\u001b[0;34m\u001b[0m\u001b[0m\n\u001b[1;32m    193\u001b[0m             \u001b[0mparams\u001b[0m \u001b[0;34m=\u001b[0m \u001b[0mdict\u001b[0m\u001b[0;34m(\u001b[0m\u001b[0mzip\u001b[0m\u001b[0;34m(\u001b[0m\u001b[0mself\u001b[0m\u001b[0;34m.\u001b[0m\u001b[0m_keys\u001b[0m\u001b[0;34m,\u001b[0m \u001b[0mx\u001b[0m\u001b[0;34m)\u001b[0m\u001b[0;34m)\u001b[0m\u001b[0;34m\u001b[0m\u001b[0;34m\u001b[0m\u001b[0m\n\u001b[0;32m--> 194\u001b[0;31m             \u001b[0mtarget\u001b[0m \u001b[0;34m=\u001b[0m \u001b[0mself\u001b[0m\u001b[0;34m.\u001b[0m\u001b[0mtarget_func\u001b[0m\u001b[0;34m(\u001b[0m\u001b[0;34m**\u001b[0m\u001b[0mparams\u001b[0m\u001b[0;34m)\u001b[0m\u001b[0;34m\u001b[0m\u001b[0;34m\u001b[0m\u001b[0m\n\u001b[0m\u001b[1;32m    195\u001b[0m             \u001b[0mself\u001b[0m\u001b[0;34m.\u001b[0m\u001b[0mregister\u001b[0m\u001b[0;34m(\u001b[0m\u001b[0mx\u001b[0m\u001b[0;34m,\u001b[0m \u001b[0mtarget\u001b[0m\u001b[0;34m)\u001b[0m\u001b[0;34m\u001b[0m\u001b[0;34m\u001b[0m\u001b[0m\n\u001b[1;32m    196\u001b[0m         \u001b[0;32mreturn\u001b[0m \u001b[0mtarget\u001b[0m\u001b[0;34m\u001b[0m\u001b[0;34m\u001b[0m\u001b[0m\n",
      "\u001b[0;32m<ipython-input-31-8ee780cbbb25>\u001b[0m in \u001b[0;36mbootstrapModel\u001b[0;34m(numNeurons2, alpha2)\u001b[0m\n\u001b[1;32m     12\u001b[0m \u001b[0;34m\u001b[0m\u001b[0m\n\u001b[1;32m     13\u001b[0m     \u001b[0;32mfor\u001b[0m \u001b[0m_\u001b[0m \u001b[0;32min\u001b[0m \u001b[0mrange\u001b[0m\u001b[0;34m(\u001b[0m\u001b[0;36m2\u001b[0m\u001b[0;34m)\u001b[0m\u001b[0;34m:\u001b[0m\u001b[0;34m\u001b[0m\u001b[0;34m\u001b[0m\u001b[0m\n\u001b[0;32m---> 14\u001b[0;31m         \u001b[0mmodel\u001b[0m \u001b[0;34m=\u001b[0m \u001b[0mgetModel\u001b[0m\u001b[0;34m(\u001b[0m\u001b[0mxDim\u001b[0m\u001b[0;34m,\u001b[0m \u001b[0myDim\u001b[0m\u001b[0;34m,\u001b[0m \u001b[0mnumNeurons0\u001b[0m\u001b[0;34m,\u001b[0m \u001b[0mnumNeurons1\u001b[0m\u001b[0;34m,\u001b[0m \u001b[0mnumNeurons2\u001b[0m\u001b[0;34m,\u001b[0m \u001b[0malpha0\u001b[0m\u001b[0;34m,\u001b[0m \u001b[0malpha1\u001b[0m\u001b[0;34m,\u001b[0m \u001b[0malpha2\u001b[0m\u001b[0;34m,\u001b[0m \u001b[0malpha3\u001b[0m\u001b[0;34m,\u001b[0m \u001b[0mdropout\u001b[0m\u001b[0;34m)\u001b[0m\u001b[0;34m\u001b[0m\u001b[0;34m\u001b[0m\u001b[0m\n\u001b[0m\u001b[1;32m     15\u001b[0m         \u001b[0mmodel\u001b[0m\u001b[0;34m.\u001b[0m\u001b[0mcompile\u001b[0m\u001b[0;34m(\u001b[0m\u001b[0mloss\u001b[0m \u001b[0;34m=\u001b[0m \u001b[0;34m\"categorical_crossentropy\"\u001b[0m\u001b[0;34m,\u001b[0m \u001b[0moptimizer\u001b[0m \u001b[0;34m=\u001b[0m \u001b[0mAdam\u001b[0m\u001b[0;34m(\u001b[0m\u001b[0;34m)\u001b[0m \u001b[0;34m)\u001b[0m\u001b[0;34m\u001b[0m\u001b[0;34m\u001b[0m\u001b[0m\n\u001b[1;32m     16\u001b[0m \u001b[0;34m\u001b[0m\u001b[0m\n",
      "\u001b[0;31mNameError\u001b[0m: name 'alpha3' is not defined"
     ]
    }
   ],
   "source": [
    "pbounds = {#'numNeurons0' : (520,550),\n",
    "           #'numNeurons1' : (320,350), \n",
    "           'numNeurons2' : (200,440), \n",
    "          #'alpha0' : (0.1, 0.2), \n",
    "          #'alpha1' : (0.2, 0.4), \n",
    "          'alpha2' : (0.2, 0.4), \n",
    "          #'dropout': (0, 0.8)\n",
    "           }\n",
    "optimizer = BayesianOptimization(\n",
    "    f=bootstrapModel,\n",
    "    pbounds=pbounds,\n",
    "    verbose=2,\n",
    "    random_state=1\n",
    ")\n",
    "\n",
    "optimizer.maximize(init_points=4, n_iter=4)\n",
    "\n",
    "print(\"Best Value : \" , optimizer.max)\n",
    "Best = optimizer.max"
   ]
  },
  {
   "cell_type": "code",
   "execution_count": 33,
   "metadata": {},
   "outputs": [
    {
     "data": {
      "text/plain": [
       "<tensorflow.python.keras.callbacks.History at 0x7fd0c90f3f70>"
      ]
     },
     "execution_count": 33,
     "metadata": {},
     "output_type": "execute_result"
    }
   ],
   "source": [
    "Best = {'target': -0.0002807046020602577, \n",
    "        'params': {\n",
    "            'numNeurons0': 532.5106601410772, \n",
    "            'numNeurons1': 341.60973480326476, \n",
    "            'numNeurons2': 439.0057187408672,\n",
    "            'dropout'    : 0.01841923339536132,\n",
    "            'alpha0': 0.13, \n",
    "            'alpha1': 0.23,\n",
    "            'alpha2': 0.27\n",
    "             }}\n",
    "\n",
    "alpha0 = Best['params']['alpha0']\n",
    "alpha1 = Best['params']['alpha1']\n",
    "alpha2 = Best['params']['alpha2']\n",
    "dropout = Best['params']['dropout']\n",
    "numNeurons0 = Best['params']['numNeurons0']\n",
    "numNeurons1 = Best['params']['numNeurons1']\n",
    "numNeurons2 = Best['params']['numNeurons2']\n",
    "\n",
    "indexToKey = [key for key in data.keys() if key not in \"bins\"]\n",
    "indexToKey.sort()\n",
    "indexToKey = np.array(indexToKey)\n",
    "\n",
    "xDim = len(data[indexToKey[0]])\n",
    "yDim = len(indexToKey)\n",
    "\n",
    "model = getModel(xDim, yDim, numNeurons0, numNeurons1, numNeurons2, alpha0, alpha1, alpha2, dropout)\n",
    "\n",
    "model.compile(loss = \"categorical_crossentropy\", optimizer = Adam() )\n",
    "\n",
    "monitor = EarlyStopping(monitor='val_loss', min_delta=1e-8, \n",
    "                        patience=10, verbose=0,\n",
    "                        mode='min', restore_best_weights=True)\n",
    "\n",
    "x,y = loadRandomGaussianData(data, 10000)\n",
    "        \n",
    "model.fit(x, y, validation_split=0.1, batch_size = 120, callbacks=[monitor], verbose=0, epochs=10000)"
   ]
  },
  {
   "cell_type": "code",
   "execution_count": 21,
   "metadata": {},
   "outputs": [
    {
     "name": "stdout",
     "output_type": "stream",
     "text": [
      "8.54613737279207e-05  ±  1.5596171019401064e-06\n"
     ]
    }
   ],
   "source": [
    "meanErr = []\n",
    "for _ in range(20):\n",
    "    xtest, ytest = loadRandomGaussianData(data, 300)\n",
    "    error = metrics.mean_squared_error(ytest, model(xtest))\n",
    "    meanErr.append(error)\n",
    "    \n",
    "print(np.mean(meanErr), \" ± \", np.std(meanErr))"
   ]
  },
  {
   "cell_type": "code",
   "execution_count": 34,
   "metadata": {},
   "outputs": [],
   "source": [
    "# (0, 4) and 100 Bins -> 0.000144 ± 1.57e-5\n",
    "# (0, 4) and 50 Bins -> 0.000182 ± 1.5e-5\n",
    "# (0, 1) and 100 Bins -> 0.000112 ± 2e-5\n",
    "# (0, 0.5) and 100 Bins -> 0.000093 ± 3.6e-5\n",
    "# (0, 0.5) and 50 Bins -> 0.000124 ± 2.8e-5\n",
    "# (0, 0.5) and 200 Bins -> 5.433e-05 ± 9.5e-06"
   ]
  },
  {
   "cell_type": "code",
   "execution_count": 35,
   "metadata": {},
   "outputs": [],
   "source": [
    "xtest, ytest = loadRandomGaussianData(data, 20)"
   ]
  },
  {
   "cell_type": "code",
   "execution_count": 39,
   "metadata": {},
   "outputs": [
    {
     "data": {
      "text/plain": [
       "<matplotlib.legend.Legend at 0x7fd0b0777a30>"
      ]
     },
     "execution_count": 39,
     "metadata": {},
     "output_type": "execute_result"
    },
    {
     "data": {
      "image/png": "[encoded data removed]",
      "text/plain": [
       "<Figure size 432x288 with 1 Axes>"
      ]
     },
     "metadata": {
      "needs_background": "light"
     },
     "output_type": "display_data"
    }
   ],
   "source": [
    "i = 15\n",
    "plt.plot(np.linspace(1, 20000, 400), ytest[i], label = \"actual\")\n",
    "plt.plot(np.linspace(1, 20000, 400), model(xtest)[i])\n",
    "plt.xlabel(\"Energy (keV)\")\n",
    "plt.ylabel(\"Neutron Flux\")\n",
    "plt.legend()"
   ]
  },
  {
   "cell_type": "code",
   "execution_count": 399,
   "metadata": {},
   "outputs": [
    {
     "data": {
      "text/plain": [
       "array([2.00000000e+04, 1.97979899e+04, 1.95959798e+04, 1.93939697e+04,\n",
       "       1.91919596e+04, 1.89899495e+04, 1.87879394e+04, 1.85859293e+04,\n",
       "       1.83839192e+04, 1.81819091e+04, 1.79798990e+04, 1.77778889e+04,\n",
       "       1.75758788e+04, 1.73738687e+04, 1.71718586e+04, 1.69698485e+04,\n",
       "       1.67678384e+04, 1.65658283e+04, 1.63638182e+04, 1.61618081e+04,\n",
       "       1.59597980e+04, 1.57577879e+04, 1.55557778e+04, 1.53537677e+04,\n",
       "       1.51517576e+04, 1.49497475e+04, 1.47477374e+04, 1.45457273e+04,\n",
       "       1.43437172e+04, 1.41417071e+04, 1.39396970e+04, 1.37376869e+04,\n",
       "       1.35356768e+04, 1.33336667e+04, 1.31316566e+04, 1.29296465e+04,\n",
       "       1.27276364e+04, 1.25256263e+04, 1.23236162e+04, 1.21216061e+04,\n",
       "       1.19195960e+04, 1.17175859e+04, 1.15155758e+04, 1.13135657e+04,\n",
       "       1.11115556e+04, 1.09095455e+04, 1.07075354e+04, 1.05055253e+04,\n",
       "       1.03035152e+04, 1.01015051e+04, 9.89949495e+03, 9.69748485e+03,\n",
       "       9.49547475e+03, 9.29346465e+03, 9.09145455e+03, 8.88944444e+03,\n",
       "       8.68743434e+03, 8.48542424e+03, 8.28341414e+03, 8.08140404e+03,\n",
       "       7.87939394e+03, 7.67738384e+03, 7.47537374e+03, 7.27336364e+03,\n",
       "       7.07135354e+03, 6.86934343e+03, 6.66733333e+03, 6.46532323e+03,\n",
       "       6.26331313e+03, 6.06130303e+03, 5.85929293e+03, 5.65728283e+03,\n",
       "       5.45527273e+03, 5.25326263e+03, 5.05125253e+03, 4.84924242e+03,\n",
       "       4.64723232e+03, 4.44522222e+03, 4.24321212e+03, 4.04120202e+03,\n",
       "       3.83919192e+03, 3.63718182e+03, 3.43517172e+03, 3.23316162e+03,\n",
       "       3.03115152e+03, 2.82914141e+03, 2.62713131e+03, 2.42512121e+03,\n",
       "       2.22311111e+03, 2.02110101e+03, 1.81909091e+03, 1.61708081e+03,\n",
       "       1.41507071e+03, 1.21306061e+03, 1.01105051e+03, 8.09040404e+02,\n",
       "       6.07030303e+02, 4.05020202e+02, 2.03010101e+02, 1.00000000e+00])"
      ]
     },
     "execution_count": 399,
     "metadata": {},
     "output_type": "execute_result"
    }
   ],
   "source": []
  },
  {
   "cell_type": "code",
   "execution_count": 366,
   "metadata": {},
   "outputs": [
    {
     "data": {
      "text/plain": [
       "<tf.Tensor: shape=(), dtype=float32, numpy=1.0000001>"
      ]
     },
     "execution_count": 366,
     "metadata": {},
     "output_type": "execute_result"
    }
   ],
   "source": [
    "sum(model(xtest)[1])"
   ]
  },
  {
   "cell_type": "code",
   "execution_count": 401,
   "metadata": {},
   "outputs": [
    {
     "data": {
      "text/plain": [
       "[<matplotlib.lines.Line2D at 0x7fca559858b0>]"
      ]
     },
     "execution_count": 401,
     "metadata": {},
     "output_type": "execute_result"
    },
    {
     "data": {
      "image/png": "[encoded data removed]",
      "text/plain": [
       "<Figure size 432x288 with 1 Axes>"
      ]
     },
     "metadata": {
      "needs_background": "light"
     },
     "output_type": "display_data"
    }
   ],
   "source": [
    "plt.plot(data[\"bins\"], xtest[-10])\n"
   ]
  },
  {
   "cell_type": "code",
   "execution_count": 277,
   "metadata": {},
   "outputs": [
    {
     "data": {
      "text/plain": [
       "200"
      ]
     },
     "execution_count": 277,
     "metadata": {},
     "output_type": "execute_result"
    }
   ],
   "source": [
    "len(data[\"bins\"])"
   ]
  },
  {
   "cell_type": "code",
   "execution_count": null,
   "metadata": {},
   "outputs": [],
   "source": []
  },
  {
   "cell_type": "code",
   "execution_count": 7,
   "metadata": {},
   "outputs": [
    {
     "data": {
      "image/png": "[encoded data removed]",
      "text/plain": [
       "<Figure size 432x288 with 1 Axes>"
      ]
     },
     "metadata": {
      "needs_background": "light"
     },
     "output_type": "display_data"
    }
   ],
   "source": [
    "def normalize(counts):\n",
    "    bins = data[\"bins\"]\n",
    "    binWidth = bins[1] - bins[0]\n",
    "    counts = counts / ( binWidth * sum(counts) )\n",
    "    return counts\n",
    "\n",
    "for k in data:\n",
    "    plt.plot(data[\"bins\"], normalize(data[k]))"
   ]
  },
  {
   "cell_type": "code",
   "execution_count": null,
   "metadata": {},
   "outputs": [],
   "source": []
  }
 ],
 "metadata": {
  "kernelspec": {
   "display_name": "Python 3",
   "language": "python",
   "name": "python3"
  },
  "language_info": {
   "codemirror_mode": {
    "name": "ipython",
    "version": 3
   },
   "file_extension": ".py",
   "mimetype": "text/x-python",
   "name": "python",
   "nbconvert_exporter": "python",
   "pygments_lexer": "ipython3",
   "version": "3.8.1"
  }
 },
 "nbformat": 4,
 "nbformat_minor": 4
}
