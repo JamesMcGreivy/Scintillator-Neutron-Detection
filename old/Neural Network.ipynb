{
 "cells": [
  {
   "cell_type": "code",
   "execution_count": 1,
   "metadata": {
    "scrolled": false
   },
   "outputs": [],
   "source": [
    "import pandas as pd\n",
    "import os\n",
    "import numpy as np\n",
    "import time\n",
    "import tensorflow.keras.initializers\n",
    "import statistics\n",
    "import tensorflow.keras as keras\n",
    "from sklearn import metrics\n",
    "from sklearn.model_selection import StratifiedKFold\n",
    "from tensorflow.keras.models import Sequential\n",
    "from tensorflow.keras.layers import Dense, Activation, Dropout, InputLayer\n",
    "from tensorflow.keras import regularizers\n",
    "from tensorflow.keras.callbacks import EarlyStopping\n",
    "from sklearn.model_selection import ShuffleSplit\n",
    "from tensorflow.keras.layers import ReLU\n",
    "from tensorflow.keras.optimizers import Adam\n",
    "import tensorflow as tf\n",
    "from bayes_opt import BayesianOptimization\n",
    "import matplotlib.pyplot as plt\n",
    "import logging, os\n",
    "logging.disable(logging.WARNING)\n",
    "os.environ[\"TF_CPP_MIN_LOG_LEVEL\"] = \"3\""
   ]
  },
  {
   "cell_type": "code",
   "execution_count": 5,
   "metadata": {},
   "outputs": [
    {
     "data": {
      "text/plain": [
       "15800000.0"
      ]
     },
     "execution_count": 5,
     "metadata": {},
     "output_type": "execute_result"
    }
   ],
   "source": [
    "1.58e7"
   ]
  },
  {
   "cell_type": "code",
   "execution_count": 6,
   "metadata": {},
   "outputs": [
    {
     "data": {
      "text/plain": [
       "20000"
      ]
     },
     "execution_count": 6,
     "metadata": {},
     "output_type": "execute_result"
    }
   ],
   "source": [
    "20000"
   ]
  },
  {
   "cell_type": "code",
   "execution_count": null,
   "metadata": {},
   "outputs": [],
   "source": []
  },
  {
   "cell_type": "code",
   "execution_count": 3,
   "metadata": {
    "scrolled": false
   },
   "outputs": [],
   "source": [
    "# Data directly taken from PDF\n",
    "Ebins = np.array([1.00E-03,2.15E-03,4.64E-03,1.00E-02,2.15E-02,4.64E-02,1.00E-01,2.15E-01,4.64E-01,1.00E+00,2.15E+00,4.64E+00,1.00E+01,2.15E+01,4.64E+01,1.00E+02,2.15E+02,4.64E+02,1.00E+03,2.15E+03,4.64E+03,1.00E+04,1.25E+04,1.58E+04,1.99E+04,2.51E+04,3.16E+04,3.98E+04,5.01E+04,6.30E+04,7.94E+04,1.00E+05,1.25E+05,1.58E+05,1.99E+05,2.51E+05,3.16E+05,3.98E+05,5.01E+05,6.30E+05,7.94E+05,1.00E+06,1.25E+06,1.58E+06,1.99E+06,2.51E+06,3.16E+06,3.98E+06,5.01E+06,6.30E+06,7.94E+06,1.00E+07,1.58E+07])\n",
    "\n",
    "cm = np.array([\n",
    "[6.11E+00,5.60E+00,4.80E+00,3.89E+00,3.03E+00,2.27E+00,1.64E+00,1.17E+00,8.20E-01,5.72E-01,3.94E-01,2.73E-01,1.90E-01,1.28E-01,8.88E-02,6.02E-02,4.05E-02,2.79E-02,1.91E-02,1.27E-02,9.01E-03,6.86E-03,6.24E-03,5.62E-03,4.99E-03,4.37E-03,3.83E-03,3.36E-03,2.90E-03,2.43E-03,1.97E-03,1.64E-03,1.47E-03,1.31E-03,1.15E-03,9.96E-04,8.95E-04,8.61E-04,8.28E-04,7.94E-04,7.60E-04,7.22E-04,6.79E-04,6.37E-04,5.94E-04,5.51E-04,4.94E-04,4.19E-04,3.44E-04,2.70E-04,1.97E-04,1.39E-04,1.00E-04],\n",
    "[7.36E-01,8.08E-01,9.34E-01,1.12E+00,1.36E+00,1.72E+00,2.11E+00,2.38E+00,2.47E+00,2.46E+00,2.37E+00,2.24E+00,2.04E+00,1.85E+00,1.65E+00,1.47E+00,1.30E+00,1.14E+00,1.01E+00,8.83E-01,7.64E-01,6.98E-01,6.69E-01,6.39E-01,6.09E-01,5.81E-01,5.54E-01,5.26E-01,4.99E-01,4.71E-01,4.41E-01,4.09E-01,3.77E-01,3.45E-01,3.13E-01,2.81E-01,2.49E-01,2.17E-01,1.87E-01,1.59E-01,1.34E-01,1.11E-01,9.38E-02,7.58E-02,5.80E-02,4.42E-02,3.52E-02,2.63E-02,1.95E-02,1.52E-02,1.10E-02,7.43E-03,4.65E-03],\n",
    "[5.98E-01,6.57E-01,7.58E-01,9.00E-01,1.08E+00,1.42E+00,1.89E+00,2.27E+00,2.51E+00,2.65E+00,2.69E+00,2.67E+00,2.58E+00,2.45E+00,2.29E+00,2.14E+00,1.98E+00,1.83E+00,1.67E+00,1.53E+00,1.39E+00,1.31E+00,1.27E+00,1.23E+00,1.20E+00,1.16E+00,1.13E+00,1.09E+00,1.05E+00,1.02E+00,9.77E-01,9.33E-01,8.87E-01,8.35E-01,7.78E-01,7.19E-01,6.57E-01,5.94E-01,5.27E-01,4.61E-01,3.96E-01,3.39E-01,2.90E-01,2.42E-01,1.94E-01,1.54E-01,1.24E-01,9.54E-02,7.21E-02,5.66E-02,4.15E-02,2.81E-02,1.77E-02],\n",
    "[5.01E-01,5.50E-01,6.34E-01,7.50E-01,9.18E-01,1.22E+00,1.62E+00,2.00E+00,2.31E+00,2.52E+00,2.66E+00,2.75E+00,2.75E+00,2.71E+00,2.63E+00,2.53E+00,2.41E+00,2.30E+00,2.18E+00,2.04E+00,1.92E+00,1.84E+00,1.81E+00,1.78E+00,1.74E+00,1.71E+00,1.67E+00,1.64E+00,1.61E+00,1.57E+00,1.53E+00,1.49E+00,1.44E+00,1.38E+00,1.32E+00,1.25E+00,1.17E+00,1.09E+00,9.97E-01,8.96E-01,7.96E-01,6.97E-01,6.02E-01,5.13E-01,4.24E-01,3.47E-01,2.85E-01,2.24E-01,1.77E-01,1.49E-01,1.21E-01,7.95E-02,4.26E-02],\n",
    "[4.15E-01,4.55E-01,5.24E-01,6.18E-01,7.61E-01,1.01E+00,1.36E+00,1.72E+00,2.04E+00,2.27E+00,2.45E+00,2.58E+00,2.64E+00,2.67E+00,2.66E+00,2.63E+00,2.58E+00,2.51E+00,2.43E+00,2.35E+00,2.26E+00,2.21E+00,2.18E+00,2.15E+00,2.13E+00,2.10E+00,2.08E+00,2.06E+00,2.04E+00,2.02E+00,1.99E+00,1.95E+00,1.92E+00,1.88E+00,1.83E+00,1.77E+00,1.70E+00,1.61E+00,1.51E+00,1.38E+00,1.26E+00,1.13E+00,1.00E+00,8.67E-01,7.33E-01,6.13E-01,5.10E-01,4.08E-01,3.30E-01,2.80E-01,2.30E-01,1.55E-01,8.39E-02],\n",
    "[3.43E-01,3.75E-01,4.31E-01,5.11E-01,6.31E-01,8.34E-01,1.12E+00,1.43E+00,1.72E+00,1.95E+00,2.13E+00,2.29E+00,2.39E+00,2.46E+00,2.50E+00,2.51E+00,2.52E+00,2.52E+00,2.47E+00,2.44E+00,2.39E+00,2.36E+00,2.35E+00,2.34E+00,2.33E+00,2.32E+00,2.31E+00,2.31E+00,2.30E+00,2.29E+00,2.28E+00,2.27E+00,2.26E+00,2.24E+00,2.22E+00,2.19E+00,2.13E+00,2.07E+00,1.97E+00,1.86E+00,1.73E+00,1.59E+00,1.42E+00,1.25E+00,1.08E+00,9.20E-01,7.60E-01,6.27E-01,5.14E-01,4.09E-01,3.03E-01,2.25E-01,1.40E-01],\n",
    "[2.80E-01,3.07E-01,3.53E-01,4.23E-01,5.13E-01,6.91E-01,9.32E-01,1.18E+00,1.41E+00,1.62E+00,1.81E+00,1.95E+00,2.07E+00,2.18E+00,2.24E+00,2.29E+00,2.32E+00,2.34E+00,2.36E+00,2.36E+00,2.33E+00,2.33E+00,2.33E+00,2.33E+00,2.34E+00,2.34E+00,2.35E+00,2.37E+00,2.38E+00,2.39E+00,2.41E+00,2.43E+00,2.44E+00,2.46E+00,2.47E+00,2.47E+00,2.44E+00,2.40E+00,2.33E+00,2.23E+00,2.10E+00,1.98E+00,1.82E+00,1.63E+00,1.45E+00,1.26E+00,1.07E+00,8.88E-01,7.36E-01,6.29E-01,5.22E-01,3.61E-01,2.04E-01],\n",
    "[1.85E-01,2.05E-01,2.34E-01,2.79E-01,3.42E-01,4.57E-01,6.16E-01,7.74E-01,9.38E-01,1.08E+00,1.22E+00,1.34E+00,1.44E+00,1.52E+00,1.61E+00,1.69E+00,1.74E+00,1.80E+00,1.87E+00,1.90E+00,1.92E+00,1.96E+00,1.98E+00,2.00E+00,2.02E+00,2.05E+00,2.08E+00,2.12E+00,2.16E+00,2.20E+00,2.25E+00,2.31E+00,2.37E+00,2.43E+00,2.50E+00,2.57E+00,2.62E+00,2.66E+00,2.68E+00,2.67E+00,2.61E+00,2.53E+00,2.42E+00,2.25E+00,2.06E+00,1.82E+00,1.57E+00,1.36E+00,1.16E+00,9.63E-01,7.98E-01,5.95E-01,3.53E-01],\n",
    "[1.18E-01,1.30E-01,1.52E-01,1.79E-01,2.13E-01,2.91E-01,3.95E-01,5.07E-01,6.09E-01,7.04E-01,7.92E-01,8.66E-01,9.43E-01,1.02E+00,1.08E+00,1.14E+00,1.20E+00,1.25E+00,1.31E+00,1.37E+00,1.42E+00,1.46E+00,1.48E+00,1.50E+00,1.53E+00,1.55E+00,1.58E+00,1.62E+00,1.67E+00,1.73E+00,1.80E+00,1.87E+00,1.95E+00,2.05E+00,2.15E+00,2.27E+00,2.41E+00,2.52E+00,2.59E+00,2.65E+00,2.70E+00,2.71E+00,2.67E+00,2.58E+00,2.44E+00,2.25E+00,2.02E+00,1.78E+00,1.55E+00,1.31E+00,1.07E+00,8.07E-01,5.25E-01],\n",
    "[7.19E-02,8.04E-02,9.38E-02,1.13E-01,1.40E-01,1.84E-01,2.52E-01,3.21E-01,3.84E-01,4.42E-01,5.04E-01,5.58E-01,6.06E-01,6.49E-01,6.77E-01,7.23E-01,7.85E-01,8.28E-01,8.73E-01,9.13E-01,9.47E-01,9.90E-01,1.01E+00,1.04E+00,1.06E+00,1.08E+00,1.12E+00,1.16E+00,1.21E+00,1.25E+00,1.32E+00,1.38E+00,1.46E+00,1.56E+00,1.68E+00,1.80E+00,1.95E+00,2.08E+00,2.22E+00,2.35E+00,2.47E+00,2.57E+00,2.65E+00,2.64E+00,2.54E+00,2.38E+00,2.16E+00,2.01E+00,1.87E+00,1.62E+00,1.31E+00,1.02E+00,6.80E-01],\n",
    "[3.63E-02,4.04E-02,4.84E-02,5.66E-02,6.52E-02,8.84E-02,1.21E-01,1.55E-01,1.90E-01,2.19E-01,2.43E-01,2.75E-01,2.99E-01,3.16E-01,3.39E-01,3.64E-01,3.90E-01,4.13E-01,4.36E-01,4.68E-01,5.00E-01,5.23E-01,5.34E-01,5.45E-01,5.56E-01,5.70E-01,5.91E-01,6.15E-01,6.37E-01,6.64E-01,7.03E-01,7.52E-01,8.14E-01,8.93E-01,9.84E-01,1.08E+00,1.21E+00,1.35E+00,1.52E+00,1.69E+00,1.88E+00,2.06E+00,2.22E+00,2.35E+00,2.41E+00,2.36E+00,2.22E+00,2.13E+00,2.03E+00,1.80E+00,1.56E+00,1.24E+00,8.69E-01],\n",
    "[2.72E-02,3.05E-02,3.71E-02,4.49E-02,5.41E-02,6.96E-02,9.36E-02,1.26E-01,1.48E-01,1.70E-01,1.92E-01,2.18E-01,2.33E-01,2.37E-01,2.65E-01,2.89E-01,3.08E-01,3.26E-01,3.46E-01,3.70E-01,3.83E-01,4.06E-01,4.22E-01,4.38E-01,4.53E-01,4.69E-01,4.83E-01,4.97E-01,5.10E-01,5.29E-01,5.61E-01,6.09E-01,6.70E-01,7.43E-01,8.24E-01,9.19E-01,1.03E+00,1.14E+00,1.29E+00,1.46E+00,1.66E+00,1.85E+00,2.02E+00,2.19E+00,2.30E+00,2.29E+00,2.18E+00,2.10E+00,2.03E+00,1.82E+00,1.60E+00,1.31E+00,9.15E-01],\n",
    "[1.05E-02,1.11E-02,1.29E-02,1.55E-02,1.94E-02,2.79E-02,3.72E-02,4.61E-02,5.23E-02,5.95E-02,7.00E-02,7.80E-02,8.42E-02,8.85E-02,9.14E-02,1.01E-01,1.17E-01,1.20E-01,1.28E-01,1.34E-01,1.43E-01,1.46E-01,1.54E-01,1.62E-01,1.66E-01,1.65E-01,1.67E-01,1.73E-01,1.87E-01,2.06E-01,2.26E-01,2.40E-01,2.54E-01,2.84E-01,3.25E-01,3.79E-01,4.50E-01,5.37E-01,6.52E-01,7.77E-01,9.34E-01,1.12E+00,1.32E+00,1.51E+00,1.68E+00,1.77E+00,1.77E+00,1.88E+00,1.98E+00,1.89E+00,1.68E+00,1.43E+00,1.05E+00],\n",
    "[1.65E-03,2.14E-03,2.62E-03,3.40E-03,4.49E-03,5.06E-03,6.08E-03,8.28E-03,1.04E-02,1.26E-02,1.46E-02,1.60E-02,1.70E-02,1.80E-02,2.01E-02,2.21E-02,2.39E-02,2.40E-02,2.27E-02,2.46E-02,2.65E-02,2.94E-02,3.12E-02,3.30E-02,3.48E-02,3.63E-02,3.72E-02,3.78E-02,3.84E-02,4.01E-02,4.48E-02,5.09E-02,5.71E-02,6.37E-02,7.14E-02,8.52E-02,1.06E-01,1.32E-01,1.73E-01,2.28E-01,3.12E-01,4.31E-01,5.70E-01,7.23E-01,8.93E-01,1.03E+00,1.11E+00,1.31E+00,1.55E+00,1.59E+00,1.52E+00,1.40E+00,1.09E+00],\n",
    "[4.83E-04,4.94E-04,5.05E-04,6.48E-04,9.25E-04,1.11E-03,1.21E-03,1.33E-03,1.45E-03,1.63E-03,1.87E-03,2.12E-03,3.00E-03,4.46E-03,4.11E-03,3.78E-03,3.54E-03,3.66E-03,4.27E-03,4.84E-03,5.42E-03,6.01E-03,6.35E-03,6.69E-03,7.03E-03,7.31E-03,7.49E-03,7.62E-03,7.76E-03,7.97E-03,8.39E-03,9.16E-03,1.03E-02,1.20E-02,1.42E-02,1.83E-02,2.47E-02,3.10E-02,4.07E-02,5.80E-02,8.93E-02,1.39E-01,2.08E-01,3.07E-01,4.30E-01,5.79E-01,7.51E-01,9.22E-01,1.10E+00,1.22E+00,1.25E+00,1.22E+00,1.08E+00]])"
   ]
  },
  {
   "cell_type": "code",
   "execution_count": 4,
   "metadata": {},
   "outputs": [
    {
     "data": {
      "text/plain": [
       "array([1.00e-03, 2.15e-03, 4.64e-03, 1.00e-02, 2.15e-02, 4.64e-02,\n",
       "       1.00e-01, 2.15e-01, 4.64e-01, 1.00e+00, 2.15e+00, 4.64e+00,\n",
       "       1.00e+01, 2.15e+01, 4.64e+01, 1.00e+02, 2.15e+02, 4.64e+02,\n",
       "       1.00e+03, 2.15e+03, 4.64e+03, 1.00e+04, 1.25e+04, 1.58e+04,\n",
       "       1.99e+04, 2.51e+04, 3.16e+04, 3.98e+04, 5.01e+04, 6.30e+04,\n",
       "       7.94e+04, 1.00e+05, 1.25e+05, 1.58e+05, 1.99e+05, 2.51e+05,\n",
       "       3.16e+05, 3.98e+05, 5.01e+05, 6.30e+05, 7.94e+05, 1.00e+06,\n",
       "       1.25e+06, 1.58e+06, 1.99e+06, 2.51e+06, 3.16e+06, 3.98e+06,\n",
       "       5.01e+06, 6.30e+06, 7.94e+06, 1.00e+07, 1.58e+07])"
      ]
     },
     "execution_count": 4,
     "metadata": {},
     "output_type": "execute_result"
    }
   ],
   "source": [
    "Ebins"
   ]
  },
  {
   "cell_type": "markdown",
   "metadata": {},
   "source": [
    "# For Using Bayesian Optimization on Various Types of Data"
   ]
  },
  {
   "cell_type": "code",
   "execution_count": 111,
   "metadata": {
    "scrolled": false
   },
   "outputs": [],
   "source": [
    "def getModel(numNeurons0, numNeurons1, numNeurons2, numNeurons3, alpha0, alpha1, alpha2, alpha3, dropout):\n",
    "    \n",
    "    numNeurons0 = int(numNeurons0)\n",
    "    numNeurons1 = int(numNeurons1)\n",
    "    numNeurons2 = int(numNeurons2)\n",
    "    numNeurons3 = int(numNeurons3)\n",
    " \n",
    "    model = keras.Sequential()\n",
    "    \n",
    "    model.add(keras.Input(15))\n",
    "    \n",
    "    if numNeurons0 >= 1:\n",
    "        model.add(Dropout(dropout))\n",
    "        model.add(Dense(numNeurons0, activation=keras.layers.LeakyReLU(alpha=alpha0)))\n",
    "    if numNeurons1 >= 1:\n",
    "        model.add(Dropout(dropout))\n",
    "        model.add(Dense(numNeurons1, activation=keras.layers.LeakyReLU(alpha=alpha1)))\n",
    "    if numNeurons2 >= 1:\n",
    "        model.add(Dropout(dropout))\n",
    "        model.add(Dense(numNeurons2, activation=keras.layers.LeakyReLU(alpha=alpha2)))\n",
    "    if numNeurons3 >= 1:\n",
    "        model.add(Dropout(dropout))\n",
    "        model.add(Dense(numNeurons3, activation=keras.layers.LeakyReLU(alpha=alpha3)))\n",
    "   \n",
    "    model.add(Dense(53, activation='linear'))\n",
    "    \n",
    "    return model\n",
    "\n",
    "\n",
    "def getMeanError(numNeurons0, numNeurons1, numNeurons2, numNeurons3, alpha0, alpha1, alpha2, alpha3, dropout, lr, dataSource, retMore = False):\n",
    "    \n",
    "    x,y = dataSource()\n",
    "    \n",
    "    # Splits the data into 3 folds for bootstrapping\n",
    "    SPLITS = 1\n",
    "    boot = ShuffleSplit(n_splits = SPLITS, test_size=0.1, random_state=42)\n",
    "    \n",
    "    # Track the progress\n",
    "    benchmarks = []\n",
    "    epochs_needed = []\n",
    "    num = 0\n",
    "    \n",
    "    model = None\n",
    "    \n",
    "    # Bootstrap the data for mean error\n",
    "    for train, test in boot.split(x):\n",
    "                \n",
    "        # Compile model\n",
    "        model = getModel(numNeurons0, numNeurons1, numNeurons2, numNeurons3, alpha0, alpha1, alpha2, alpha3, dropout)\n",
    "        model.compile(loss = \"mse\", optimizer = Adam(lr=lr) )\n",
    "        \n",
    "        # Sets up early stopping\n",
    "        monitor = EarlyStopping(monitor='val_loss', min_delta=1e-5, \n",
    "                                patience=150, verbose=0,\n",
    "                                mode='min', restore_best_weights=True)\n",
    "        \n",
    "        # Split test and train data\n",
    "        xtrain = x[train]\n",
    "        xtest = x[test]\n",
    "\n",
    "        ytrain = y[train]\n",
    "        ytest = y[test]\n",
    "            \n",
    "        # Fits to the bootstrap data\n",
    "        model.fit(xtrain,ytrain,validation_data=(xtest,ytest),batch_size=120,callbacks=[monitor],verbose=0,epochs=10000)\n",
    "\n",
    "        # Gets the epochs needed to converge\n",
    "        epochs_needed.append(monitor.stopped_epoch)\n",
    "        \n",
    "        # Checks how well the test data was fit\n",
    "        if retMore:\n",
    "            xtest, ytest = loadXY()\n",
    "        ypred = model(xtest)\n",
    "        score = metrics.mean_squared_error(ytest, ypred)\n",
    "        benchmarks.append(score)\n",
    "        \n",
    "    mean_benchmark = np.mean(benchmarks)\n",
    "    std_benchmark = np.std(benchmarks)\n",
    "    mean_epochs = np.mean(epochs_needed)\n",
    "    \n",
    "    if retMore:\n",
    "        return mean_benchmark, std_benchmark, model\n",
    "    else:\n",
    "        print(\"Score : \" , mean_benchmark, \" ± \", std_benchmark, \" Epochs Needed : \" , mean_epochs)\n",
    "        return -mean_benchmark\n",
    "        "
   ]
  },
  {
   "cell_type": "markdown",
   "metadata": {},
   "source": [
    "# Training NN on Mono-Energetic Data"
   ]
  },
  {
   "cell_type": "code",
   "execution_count": 349,
   "metadata": {
    "scrolled": true
   },
   "outputs": [
    {
     "name": "stdout",
     "output_type": "stream",
     "text": [
      "|   iter    |  target   |  alpha0   |  alpha1   |  alpha2   |  alpha3   |  dropout  |    lr     | numNeu... | numNeu... | numNeu... | numNeu... |\n",
      "-------------------------------------------------------------------------------------------------------------------------------------------------\n",
      "Score :  0.001346620834513558  ±  0.00033440234609357706  Epochs Needed :  347.6\n",
      "| \u001b[0m 1       \u001b[0m | \u001b[0m-0.001347\u001b[0m | \u001b[0m 0.3753  \u001b[0m | \u001b[0m 0.6483  \u001b[0m | \u001b[0m 0.000102\u001b[0m | \u001b[0m 0.2721  \u001b[0m | \u001b[0m 0.007338\u001b[0m | \u001b[0m 0.004617\u001b[0m | \u001b[0m 55.88   \u001b[0m | \u001b[0m 103.7   \u001b[0m | \u001b[0m 119.0   \u001b[0m | \u001b[0m 161.6   \u001b[0m |\n",
      "Score :  0.007662438283426688  ±  0.0034872800513473393  Epochs Needed :  1133.4\n",
      "| \u001b[0m 2       \u001b[0m | \u001b[0m-0.007662\u001b[0m | \u001b[0m 0.3773  \u001b[0m | \u001b[0m 0.6167  \u001b[0m | \u001b[0m 0.184   \u001b[0m | \u001b[0m 0.7903  \u001b[0m | \u001b[0m 0.001369\u001b[0m | \u001b[0m 0.03352 \u001b[0m | \u001b[0m 125.2   \u001b[0m | \u001b[0m 167.6   \u001b[0m | \u001b[0m 42.12   \u001b[0m | \u001b[0m 59.43   \u001b[0m |\n",
      "Score :  0.0096199315169988  ±  0.006302024147402533  Epochs Needed :  1176.0\n",
      "| \u001b[0m 3       \u001b[0m | \u001b[0m-0.00962 \u001b[0m | \u001b[0m 0.7207  \u001b[0m | \u001b[0m 0.8714  \u001b[0m | \u001b[0m 0.2821  \u001b[0m | \u001b[0m 0.6231  \u001b[0m | \u001b[0m 0.04382 \u001b[0m | \u001b[0m 0.04473 \u001b[0m | \u001b[0m 25.51   \u001b[0m | \u001b[0m 11.72   \u001b[0m | \u001b[0m 50.95   \u001b[0m | \u001b[0m 263.4   \u001b[0m |\n",
      "Score :  0.003589417161538019  ±  0.0011382013486653342  Epochs Needed :  637.0\n",
      "| \u001b[0m 4       \u001b[0m | \u001b[0m-0.003589\u001b[0m | \u001b[0m 0.08851 \u001b[0m | \u001b[0m 0.379   \u001b[0m | \u001b[0m 0.8621  \u001b[0m | \u001b[0m 0.4798  \u001b[0m | \u001b[0m 0.03459 \u001b[0m | \u001b[0m 0.01578 \u001b[0m | \u001b[0m 206.0   \u001b[0m | \u001b[0m 250.4   \u001b[0m | \u001b[0m 5.486   \u001b[0m | \u001b[0m 225.0   \u001b[0m |\n",
      "Score :  0.006475666862747543  ±  0.0010870371391029203  Epochs Needed :  850.4\n",
      "| \u001b[0m 5       \u001b[0m | \u001b[0m-0.006476\u001b[0m | \u001b[0m 0.89    \u001b[0m | \u001b[0m 0.6733  \u001b[0m | \u001b[0m 0.2524  \u001b[0m | \u001b[0m 0.7104  \u001b[0m | \u001b[0m 0.005161\u001b[0m | \u001b[0m 0.02239 \u001b[0m | \u001b[0m 272.6   \u001b[0m | \u001b[0m 88.08   \u001b[0m | \u001b[0m 86.33   \u001b[0m | \u001b[0m 39.01   \u001b[0m |\n",
      "Score :  0.004016965066708787  ±  0.0035489979329959413  Epochs Needed :  459.4\n",
      "| \u001b[0m 6       \u001b[0m | \u001b[0m-0.004017\u001b[0m | \u001b[0m 0.01743 \u001b[0m | \u001b[0m 0.611   \u001b[0m | \u001b[0m 0.1905  \u001b[0m | \u001b[0m 0.239   \u001b[0m | \u001b[0m 0.02458 \u001b[0m | \u001b[0m 0.002668\u001b[0m | \u001b[0m 172.2   \u001b[0m | \u001b[0m 44.02   \u001b[0m | \u001b[0m 176.8   \u001b[0m | \u001b[0m 209.9   \u001b[0m |\n",
      "Score :  0.010546508563766422  ±  0.008067238930730171  Epochs Needed :  1439.6\n",
      "| \u001b[0m 7       \u001b[0m | \u001b[0m-0.01055 \u001b[0m | \u001b[0m 0.0921  \u001b[0m | \u001b[0m 0.3727  \u001b[0m | \u001b[0m 0.625   \u001b[0m | \u001b[0m 0.3728  \u001b[0m | \u001b[0m 0.002498\u001b[0m | \u001b[0m 0.02679 \u001b[0m | \u001b[0m 199.1   \u001b[0m | \u001b[0m 154.5   \u001b[0m | \u001b[0m 283.4   \u001b[0m | \u001b[0m 176.0   \u001b[0m |\n",
      "Score :  0.0029683882272953876  ±  0.0014245250373483825  Epochs Needed :  432.8\n",
      "| \u001b[0m 8       \u001b[0m | \u001b[0m-0.002968\u001b[0m | \u001b[0m 0.8131  \u001b[0m | \u001b[0m 0.1237  \u001b[0m | \u001b[0m 0.1253  \u001b[0m | \u001b[0m 0.7267  \u001b[0m | \u001b[0m 0.01988 \u001b[0m | \u001b[0m 0.008268\u001b[0m | \u001b[0m 278.3   \u001b[0m | \u001b[0m 104.3   \u001b[0m | \u001b[0m 225.2   \u001b[0m | \u001b[0m 217.8   \u001b[0m |\n",
      "Score :  0.02343267584823593  ±  0.014817426407589004  Epochs Needed :  1812.2\n",
      "| \u001b[0m 9       \u001b[0m | \u001b[0m-0.02343 \u001b[0m | \u001b[0m 0.795   \u001b[0m | \u001b[0m 0.5613  \u001b[0m | \u001b[0m 0.6758  \u001b[0m | \u001b[0m 0.314   \u001b[0m | \u001b[0m 0.0135  \u001b[0m | \u001b[0m 0.04479 \u001b[0m | \u001b[0m 128.4   \u001b[0m | \u001b[0m 289.5   \u001b[0m | \u001b[0m 199.0   \u001b[0m | \u001b[0m 186.5   \u001b[0m |\n",
      "Score :  0.003974274147411215  ±  0.0034974181460575085  Epochs Needed :  634.6\n",
      "| \u001b[0m 10      \u001b[0m | \u001b[0m-0.003974\u001b[0m | \u001b[0m 0.1033  \u001b[0m | \u001b[0m 0.8545  \u001b[0m | \u001b[0m 0.4049  \u001b[0m | \u001b[0m 0.5206  \u001b[0m | \u001b[0m 0.02041 \u001b[0m | \u001b[0m 0.01185 \u001b[0m | \u001b[0m 271.0   \u001b[0m | \u001b[0m 172.1   \u001b[0m | \u001b[0m 0.8611  \u001b[0m | \u001b[0m 185.1   \u001b[0m |\n"
     ]
    },
    {
     "ename": "KeyboardInterrupt",
     "evalue": "",
     "output_type": "error",
     "traceback": [
      "\u001b[0;31m---------------------------------------------------------------------------\u001b[0m",
      "\u001b[0;31mKeyError\u001b[0m                                  Traceback (most recent call last)",
      "\u001b[0;32m/Library/Frameworks/Python.framework/Versions/3.8/lib/python3.8/site-packages/bayes_opt/target_space.py\u001b[0m in \u001b[0;36mprobe\u001b[0;34m(self, params)\u001b[0m\n\u001b[1;32m    190\u001b[0m         \u001b[0;32mtry\u001b[0m\u001b[0;34m:\u001b[0m\u001b[0;34m\u001b[0m\u001b[0;34m\u001b[0m\u001b[0m\n\u001b[0;32m--> 191\u001b[0;31m             \u001b[0mtarget\u001b[0m \u001b[0;34m=\u001b[0m \u001b[0mself\u001b[0m\u001b[0;34m.\u001b[0m\u001b[0m_cache\u001b[0m\u001b[0;34m[\u001b[0m\u001b[0m_hashable\u001b[0m\u001b[0;34m(\u001b[0m\u001b[0mx\u001b[0m\u001b[0;34m)\u001b[0m\u001b[0;34m]\u001b[0m\u001b[0;34m\u001b[0m\u001b[0;34m\u001b[0m\u001b[0m\n\u001b[0m\u001b[1;32m    192\u001b[0m         \u001b[0;32mexcept\u001b[0m \u001b[0mKeyError\u001b[0m\u001b[0;34m:\u001b[0m\u001b[0;34m\u001b[0m\u001b[0;34m\u001b[0m\u001b[0m\n",
      "\u001b[0;31mKeyError\u001b[0m: (0.2939804115948865, 0.47435229203184837, 0.797347889379697, 0.3215427840022498, 0.04542675754598996, 0.03116800578959014, 4.746372853966885, 278.8311701231284, 207.26907525507718, 299.19685513544414)",
      "\nDuring handling of the above exception, another exception occurred:\n",
      "\u001b[0;31mKeyboardInterrupt\u001b[0m                         Traceback (most recent call last)",
      "\u001b[0;32m<ipython-input-349-e19d129ae616>\u001b[0m in \u001b[0;36m<module>\u001b[0;34m\u001b[0m\n\u001b[1;32m     23\u001b[0m )\n\u001b[1;32m     24\u001b[0m \u001b[0;34m\u001b[0m\u001b[0m\n\u001b[0;32m---> 25\u001b[0;31m \u001b[0moptimizer\u001b[0m\u001b[0;34m.\u001b[0m\u001b[0mmaximize\u001b[0m\u001b[0;34m(\u001b[0m\u001b[0minit_points\u001b[0m\u001b[0;34m=\u001b[0m\u001b[0;36m100\u001b[0m\u001b[0;34m,\u001b[0m \u001b[0mn_iter\u001b[0m\u001b[0;34m=\u001b[0m\u001b[0;36m100\u001b[0m\u001b[0;34m)\u001b[0m\u001b[0;34m\u001b[0m\u001b[0;34m\u001b[0m\u001b[0m\n\u001b[0m\u001b[1;32m     26\u001b[0m \u001b[0;34m\u001b[0m\u001b[0m\n\u001b[1;32m     27\u001b[0m \u001b[0mprint\u001b[0m\u001b[0;34m(\u001b[0m\u001b[0;34m\"Best Value : \"\u001b[0m \u001b[0;34m,\u001b[0m \u001b[0moptimizer\u001b[0m\u001b[0;34m.\u001b[0m\u001b[0mmax\u001b[0m\u001b[0;34m)\u001b[0m\u001b[0;34m\u001b[0m\u001b[0;34m\u001b[0m\u001b[0m\n",
      "\u001b[0;32m/Library/Frameworks/Python.framework/Versions/3.8/lib/python3.8/site-packages/bayes_opt/bayesian_optimization.py\u001b[0m in \u001b[0;36mmaximize\u001b[0;34m(self, init_points, n_iter, acq, kappa, kappa_decay, kappa_decay_delay, xi, **gp_params)\u001b[0m\n\u001b[1;32m    183\u001b[0m                 \u001b[0miteration\u001b[0m \u001b[0;34m+=\u001b[0m \u001b[0;36m1\u001b[0m\u001b[0;34m\u001b[0m\u001b[0;34m\u001b[0m\u001b[0m\n\u001b[1;32m    184\u001b[0m \u001b[0;34m\u001b[0m\u001b[0m\n\u001b[0;32m--> 185\u001b[0;31m             \u001b[0mself\u001b[0m\u001b[0;34m.\u001b[0m\u001b[0mprobe\u001b[0m\u001b[0;34m(\u001b[0m\u001b[0mx_probe\u001b[0m\u001b[0;34m,\u001b[0m \u001b[0mlazy\u001b[0m\u001b[0;34m=\u001b[0m\u001b[0;32mFalse\u001b[0m\u001b[0;34m)\u001b[0m\u001b[0;34m\u001b[0m\u001b[0;34m\u001b[0m\u001b[0m\n\u001b[0m\u001b[1;32m    186\u001b[0m \u001b[0;34m\u001b[0m\u001b[0m\n\u001b[1;32m    187\u001b[0m             \u001b[0;32mif\u001b[0m \u001b[0mself\u001b[0m\u001b[0;34m.\u001b[0m\u001b[0m_bounds_transformer\u001b[0m\u001b[0;34m:\u001b[0m\u001b[0;34m\u001b[0m\u001b[0;34m\u001b[0m\u001b[0m\n",
      "\u001b[0;32m/Library/Frameworks/Python.framework/Versions/3.8/lib/python3.8/site-packages/bayes_opt/bayesian_optimization.py\u001b[0m in \u001b[0;36mprobe\u001b[0;34m(self, params, lazy)\u001b[0m\n\u001b[1;32m    114\u001b[0m             \u001b[0mself\u001b[0m\u001b[0;34m.\u001b[0m\u001b[0m_queue\u001b[0m\u001b[0;34m.\u001b[0m\u001b[0madd\u001b[0m\u001b[0;34m(\u001b[0m\u001b[0mparams\u001b[0m\u001b[0;34m)\u001b[0m\u001b[0;34m\u001b[0m\u001b[0;34m\u001b[0m\u001b[0m\n\u001b[1;32m    115\u001b[0m         \u001b[0;32melse\u001b[0m\u001b[0;34m:\u001b[0m\u001b[0;34m\u001b[0m\u001b[0;34m\u001b[0m\u001b[0m\n\u001b[0;32m--> 116\u001b[0;31m             \u001b[0mself\u001b[0m\u001b[0;34m.\u001b[0m\u001b[0m_space\u001b[0m\u001b[0;34m.\u001b[0m\u001b[0mprobe\u001b[0m\u001b[0;34m(\u001b[0m\u001b[0mparams\u001b[0m\u001b[0;34m)\u001b[0m\u001b[0;34m\u001b[0m\u001b[0;34m\u001b[0m\u001b[0m\n\u001b[0m\u001b[1;32m    117\u001b[0m             \u001b[0mself\u001b[0m\u001b[0;34m.\u001b[0m\u001b[0mdispatch\u001b[0m\u001b[0;34m(\u001b[0m\u001b[0mEvents\u001b[0m\u001b[0;34m.\u001b[0m\u001b[0mOPTIMIZATION_STEP\u001b[0m\u001b[0;34m)\u001b[0m\u001b[0;34m\u001b[0m\u001b[0;34m\u001b[0m\u001b[0m\n\u001b[1;32m    118\u001b[0m \u001b[0;34m\u001b[0m\u001b[0m\n",
      "\u001b[0;32m/Library/Frameworks/Python.framework/Versions/3.8/lib/python3.8/site-packages/bayes_opt/target_space.py\u001b[0m in \u001b[0;36mprobe\u001b[0;34m(self, params)\u001b[0m\n\u001b[1;32m    192\u001b[0m         \u001b[0;32mexcept\u001b[0m \u001b[0mKeyError\u001b[0m\u001b[0;34m:\u001b[0m\u001b[0;34m\u001b[0m\u001b[0;34m\u001b[0m\u001b[0m\n\u001b[1;32m    193\u001b[0m             \u001b[0mparams\u001b[0m \u001b[0;34m=\u001b[0m \u001b[0mdict\u001b[0m\u001b[0;34m(\u001b[0m\u001b[0mzip\u001b[0m\u001b[0;34m(\u001b[0m\u001b[0mself\u001b[0m\u001b[0;34m.\u001b[0m\u001b[0m_keys\u001b[0m\u001b[0;34m,\u001b[0m \u001b[0mx\u001b[0m\u001b[0;34m)\u001b[0m\u001b[0;34m)\u001b[0m\u001b[0;34m\u001b[0m\u001b[0;34m\u001b[0m\u001b[0m\n\u001b[0;32m--> 194\u001b[0;31m             \u001b[0mtarget\u001b[0m \u001b[0;34m=\u001b[0m \u001b[0mself\u001b[0m\u001b[0;34m.\u001b[0m\u001b[0mtarget_func\u001b[0m\u001b[0;34m(\u001b[0m\u001b[0;34m**\u001b[0m\u001b[0mparams\u001b[0m\u001b[0;34m)\u001b[0m\u001b[0;34m\u001b[0m\u001b[0;34m\u001b[0m\u001b[0m\n\u001b[0m\u001b[1;32m    195\u001b[0m             \u001b[0mself\u001b[0m\u001b[0;34m.\u001b[0m\u001b[0mregister\u001b[0m\u001b[0;34m(\u001b[0m\u001b[0mx\u001b[0m\u001b[0;34m,\u001b[0m \u001b[0mtarget\u001b[0m\u001b[0;34m)\u001b[0m\u001b[0;34m\u001b[0m\u001b[0;34m\u001b[0m\u001b[0m\n\u001b[1;32m    196\u001b[0m         \u001b[0;32mreturn\u001b[0m \u001b[0mtarget\u001b[0m\u001b[0;34m\u001b[0m\u001b[0;34m\u001b[0m\u001b[0m\n",
      "\u001b[0;32m<ipython-input-349-e19d129ae616>\u001b[0m in \u001b[0;36mconvolutedMonoData\u001b[0;34m(numNeurons0, numNeurons1, numNeurons2, numNeurons3, alpha0, alpha1, alpha2, alpha3, dropout, lr)\u001b[0m\n\u001b[1;32m     14\u001b[0m \u001b[0;34m\u001b[0m\u001b[0m\n\u001b[1;32m     15\u001b[0m \u001b[0;32mdef\u001b[0m \u001b[0mconvolutedMonoData\u001b[0m\u001b[0;34m(\u001b[0m\u001b[0mnumNeurons0\u001b[0m\u001b[0;34m,\u001b[0m \u001b[0mnumNeurons1\u001b[0m\u001b[0;34m,\u001b[0m \u001b[0mnumNeurons2\u001b[0m\u001b[0;34m,\u001b[0m \u001b[0mnumNeurons3\u001b[0m\u001b[0;34m,\u001b[0m \u001b[0malpha0\u001b[0m\u001b[0;34m,\u001b[0m \u001b[0malpha1\u001b[0m\u001b[0;34m,\u001b[0m \u001b[0malpha2\u001b[0m\u001b[0;34m,\u001b[0m \u001b[0malpha3\u001b[0m\u001b[0;34m,\u001b[0m \u001b[0mdropout\u001b[0m\u001b[0;34m,\u001b[0m \u001b[0mlr\u001b[0m\u001b[0;34m)\u001b[0m\u001b[0;34m:\u001b[0m\u001b[0;34m\u001b[0m\u001b[0;34m\u001b[0m\u001b[0m\n\u001b[0;32m---> 16\u001b[0;31m     \u001b[0;32mreturn\u001b[0m \u001b[0mgetMeanError\u001b[0m\u001b[0;34m(\u001b[0m\u001b[0mnumNeurons0\u001b[0m\u001b[0;34m,\u001b[0m \u001b[0mnumNeurons1\u001b[0m\u001b[0;34m,\u001b[0m \u001b[0mnumNeurons2\u001b[0m\u001b[0;34m,\u001b[0m \u001b[0mnumNeurons3\u001b[0m\u001b[0;34m,\u001b[0m \u001b[0malpha0\u001b[0m\u001b[0;34m,\u001b[0m \u001b[0malpha1\u001b[0m\u001b[0;34m,\u001b[0m \u001b[0malpha2\u001b[0m\u001b[0;34m,\u001b[0m \u001b[0malpha3\u001b[0m\u001b[0;34m,\u001b[0m \u001b[0mdropout\u001b[0m\u001b[0;34m,\u001b[0m \u001b[0mlr\u001b[0m\u001b[0;34m,\u001b[0m \u001b[0mloadRandomGaussianMonoData\u001b[0m\u001b[0;34m)\u001b[0m\u001b[0;34m\u001b[0m\u001b[0;34m\u001b[0m\u001b[0m\n\u001b[0m\u001b[1;32m     17\u001b[0m \u001b[0;34m\u001b[0m\u001b[0m\n\u001b[1;32m     18\u001b[0m optimizer = BayesianOptimization(\n",
      "\u001b[0;32m<ipython-input-348-33d070f15c30>\u001b[0m in \u001b[0;36mgetMeanError\u001b[0;34m(numNeurons0, numNeurons1, numNeurons2, numNeurons3, alpha0, alpha1, alpha2, alpha3, dropout, lr, dataSource, retMore)\u001b[0m\n\u001b[1;32m     63\u001b[0m \u001b[0;34m\u001b[0m\u001b[0m\n\u001b[1;32m     64\u001b[0m         \u001b[0;31m# Fits to the bootstrap data\u001b[0m\u001b[0;34m\u001b[0m\u001b[0;34m\u001b[0m\u001b[0;34m\u001b[0m\u001b[0m\n\u001b[0;32m---> 65\u001b[0;31m         \u001b[0mmodel\u001b[0m\u001b[0;34m.\u001b[0m\u001b[0mfit\u001b[0m\u001b[0;34m(\u001b[0m\u001b[0mxtrain\u001b[0m\u001b[0;34m,\u001b[0m\u001b[0mytrain\u001b[0m\u001b[0;34m,\u001b[0m\u001b[0mvalidation_data\u001b[0m\u001b[0;34m=\u001b[0m\u001b[0;34m(\u001b[0m\u001b[0mxtest\u001b[0m\u001b[0;34m,\u001b[0m\u001b[0mytest\u001b[0m\u001b[0;34m)\u001b[0m\u001b[0;34m,\u001b[0m\u001b[0mbatch_size\u001b[0m\u001b[0;34m=\u001b[0m\u001b[0;36m120\u001b[0m\u001b[0;34m,\u001b[0m\u001b[0mcallbacks\u001b[0m\u001b[0;34m=\u001b[0m\u001b[0;34m[\u001b[0m\u001b[0mmonitor\u001b[0m\u001b[0;34m]\u001b[0m\u001b[0;34m,\u001b[0m\u001b[0mverbose\u001b[0m\u001b[0;34m=\u001b[0m\u001b[0;36m0\u001b[0m\u001b[0;34m,\u001b[0m\u001b[0mepochs\u001b[0m\u001b[0;34m=\u001b[0m\u001b[0;36m10000\u001b[0m\u001b[0;34m)\u001b[0m\u001b[0;34m\u001b[0m\u001b[0;34m\u001b[0m\u001b[0m\n\u001b[0m\u001b[1;32m     66\u001b[0m \u001b[0;34m\u001b[0m\u001b[0m\n\u001b[1;32m     67\u001b[0m         \u001b[0;31m# Gets the epochs needed to converge\u001b[0m\u001b[0;34m\u001b[0m\u001b[0;34m\u001b[0m\u001b[0;34m\u001b[0m\u001b[0m\n",
      "\u001b[0;32m/Library/Frameworks/Python.framework/Versions/3.8/lib/python3.8/site-packages/tensorflow/python/keras/engine/training.py\u001b[0m in \u001b[0;36m_method_wrapper\u001b[0;34m(self, *args, **kwargs)\u001b[0m\n\u001b[1;32m    106\u001b[0m   \u001b[0;32mdef\u001b[0m \u001b[0m_method_wrapper\u001b[0m\u001b[0;34m(\u001b[0m\u001b[0mself\u001b[0m\u001b[0;34m,\u001b[0m \u001b[0;34m*\u001b[0m\u001b[0margs\u001b[0m\u001b[0;34m,\u001b[0m \u001b[0;34m**\u001b[0m\u001b[0mkwargs\u001b[0m\u001b[0;34m)\u001b[0m\u001b[0;34m:\u001b[0m\u001b[0;34m\u001b[0m\u001b[0;34m\u001b[0m\u001b[0m\n\u001b[1;32m    107\u001b[0m     \u001b[0;32mif\u001b[0m \u001b[0;32mnot\u001b[0m \u001b[0mself\u001b[0m\u001b[0;34m.\u001b[0m\u001b[0m_in_multi_worker_mode\u001b[0m\u001b[0;34m(\u001b[0m\u001b[0;34m)\u001b[0m\u001b[0;34m:\u001b[0m  \u001b[0;31m# pylint: disable=protected-access\u001b[0m\u001b[0;34m\u001b[0m\u001b[0;34m\u001b[0m\u001b[0m\n\u001b[0;32m--> 108\u001b[0;31m       \u001b[0;32mreturn\u001b[0m \u001b[0mmethod\u001b[0m\u001b[0;34m(\u001b[0m\u001b[0mself\u001b[0m\u001b[0;34m,\u001b[0m \u001b[0;34m*\u001b[0m\u001b[0margs\u001b[0m\u001b[0;34m,\u001b[0m \u001b[0;34m**\u001b[0m\u001b[0mkwargs\u001b[0m\u001b[0;34m)\u001b[0m\u001b[0;34m\u001b[0m\u001b[0;34m\u001b[0m\u001b[0m\n\u001b[0m\u001b[1;32m    109\u001b[0m \u001b[0;34m\u001b[0m\u001b[0m\n\u001b[1;32m    110\u001b[0m     \u001b[0;31m# Running inside `run_distribute_coordinator` already.\u001b[0m\u001b[0;34m\u001b[0m\u001b[0;34m\u001b[0m\u001b[0;34m\u001b[0m\u001b[0m\n",
      "\u001b[0;32m/Library/Frameworks/Python.framework/Versions/3.8/lib/python3.8/site-packages/tensorflow/python/keras/engine/training.py\u001b[0m in \u001b[0;36mfit\u001b[0;34m(self, x, y, batch_size, epochs, verbose, callbacks, validation_split, validation_data, shuffle, class_weight, sample_weight, initial_epoch, steps_per_epoch, validation_steps, validation_batch_size, validation_freq, max_queue_size, workers, use_multiprocessing)\u001b[0m\n\u001b[1;32m   1096\u001b[0m                 batch_size=batch_size):\n\u001b[1;32m   1097\u001b[0m               \u001b[0mcallbacks\u001b[0m\u001b[0;34m.\u001b[0m\u001b[0mon_train_batch_begin\u001b[0m\u001b[0;34m(\u001b[0m\u001b[0mstep\u001b[0m\u001b[0;34m)\u001b[0m\u001b[0;34m\u001b[0m\u001b[0;34m\u001b[0m\u001b[0m\n\u001b[0;32m-> 1098\u001b[0;31m               \u001b[0mtmp_logs\u001b[0m \u001b[0;34m=\u001b[0m \u001b[0mtrain_function\u001b[0m\u001b[0;34m(\u001b[0m\u001b[0miterator\u001b[0m\u001b[0;34m)\u001b[0m\u001b[0;34m\u001b[0m\u001b[0;34m\u001b[0m\u001b[0m\n\u001b[0m\u001b[1;32m   1099\u001b[0m               \u001b[0;32mif\u001b[0m \u001b[0mdata_handler\u001b[0m\u001b[0;34m.\u001b[0m\u001b[0mshould_sync\u001b[0m\u001b[0;34m:\u001b[0m\u001b[0;34m\u001b[0m\u001b[0;34m\u001b[0m\u001b[0m\n\u001b[1;32m   1100\u001b[0m                 \u001b[0mcontext\u001b[0m\u001b[0;34m.\u001b[0m\u001b[0masync_wait\u001b[0m\u001b[0;34m(\u001b[0m\u001b[0;34m)\u001b[0m\u001b[0;34m\u001b[0m\u001b[0;34m\u001b[0m\u001b[0m\n",
      "\u001b[0;32m/Library/Frameworks/Python.framework/Versions/3.8/lib/python3.8/site-packages/tensorflow/python/eager/def_function.py\u001b[0m in \u001b[0;36m__call__\u001b[0;34m(self, *args, **kwds)\u001b[0m\n\u001b[1;32m    778\u001b[0m       \u001b[0;32melse\u001b[0m\u001b[0;34m:\u001b[0m\u001b[0;34m\u001b[0m\u001b[0;34m\u001b[0m\u001b[0m\n\u001b[1;32m    779\u001b[0m         \u001b[0mcompiler\u001b[0m \u001b[0;34m=\u001b[0m \u001b[0;34m\"nonXla\"\u001b[0m\u001b[0;34m\u001b[0m\u001b[0;34m\u001b[0m\u001b[0m\n\u001b[0;32m--> 780\u001b[0;31m         \u001b[0mresult\u001b[0m \u001b[0;34m=\u001b[0m \u001b[0mself\u001b[0m\u001b[0;34m.\u001b[0m\u001b[0m_call\u001b[0m\u001b[0;34m(\u001b[0m\u001b[0;34m*\u001b[0m\u001b[0margs\u001b[0m\u001b[0;34m,\u001b[0m \u001b[0;34m**\u001b[0m\u001b[0mkwds\u001b[0m\u001b[0;34m)\u001b[0m\u001b[0;34m\u001b[0m\u001b[0;34m\u001b[0m\u001b[0m\n\u001b[0m\u001b[1;32m    781\u001b[0m \u001b[0;34m\u001b[0m\u001b[0m\n\u001b[1;32m    782\u001b[0m       \u001b[0mnew_tracing_count\u001b[0m \u001b[0;34m=\u001b[0m \u001b[0mself\u001b[0m\u001b[0;34m.\u001b[0m\u001b[0m_get_tracing_count\u001b[0m\u001b[0;34m(\u001b[0m\u001b[0;34m)\u001b[0m\u001b[0;34m\u001b[0m\u001b[0;34m\u001b[0m\u001b[0m\n",
      "\u001b[0;32m/Library/Frameworks/Python.framework/Versions/3.8/lib/python3.8/site-packages/tensorflow/python/eager/def_function.py\u001b[0m in \u001b[0;36m_call\u001b[0;34m(self, *args, **kwds)\u001b[0m\n\u001b[1;32m    805\u001b[0m       \u001b[0;31m# In this case we have created variables on the first call, so we run the\u001b[0m\u001b[0;34m\u001b[0m\u001b[0;34m\u001b[0m\u001b[0;34m\u001b[0m\u001b[0m\n\u001b[1;32m    806\u001b[0m       \u001b[0;31m# defunned version which is guaranteed to never create variables.\u001b[0m\u001b[0;34m\u001b[0m\u001b[0;34m\u001b[0m\u001b[0;34m\u001b[0m\u001b[0m\n\u001b[0;32m--> 807\u001b[0;31m       \u001b[0;32mreturn\u001b[0m \u001b[0mself\u001b[0m\u001b[0;34m.\u001b[0m\u001b[0m_stateless_fn\u001b[0m\u001b[0;34m(\u001b[0m\u001b[0;34m*\u001b[0m\u001b[0margs\u001b[0m\u001b[0;34m,\u001b[0m \u001b[0;34m**\u001b[0m\u001b[0mkwds\u001b[0m\u001b[0;34m)\u001b[0m  \u001b[0;31m# pylint: disable=not-callable\u001b[0m\u001b[0;34m\u001b[0m\u001b[0;34m\u001b[0m\u001b[0m\n\u001b[0m\u001b[1;32m    808\u001b[0m     \u001b[0;32melif\u001b[0m \u001b[0mself\u001b[0m\u001b[0;34m.\u001b[0m\u001b[0m_stateful_fn\u001b[0m \u001b[0;32mis\u001b[0m \u001b[0;32mnot\u001b[0m \u001b[0;32mNone\u001b[0m\u001b[0;34m:\u001b[0m\u001b[0;34m\u001b[0m\u001b[0;34m\u001b[0m\u001b[0m\n\u001b[1;32m    809\u001b[0m       \u001b[0;31m# Release the lock early so that multiple threads can perform the call\u001b[0m\u001b[0;34m\u001b[0m\u001b[0;34m\u001b[0m\u001b[0;34m\u001b[0m\u001b[0m\n",
      "\u001b[0;32m/Library/Frameworks/Python.framework/Versions/3.8/lib/python3.8/site-packages/tensorflow/python/eager/function.py\u001b[0m in \u001b[0;36m__call__\u001b[0;34m(self, *args, **kwargs)\u001b[0m\n\u001b[1;32m   2827\u001b[0m     \u001b[0;32mwith\u001b[0m \u001b[0mself\u001b[0m\u001b[0;34m.\u001b[0m\u001b[0m_lock\u001b[0m\u001b[0;34m:\u001b[0m\u001b[0;34m\u001b[0m\u001b[0;34m\u001b[0m\u001b[0m\n\u001b[1;32m   2828\u001b[0m       \u001b[0mgraph_function\u001b[0m\u001b[0;34m,\u001b[0m \u001b[0margs\u001b[0m\u001b[0;34m,\u001b[0m \u001b[0mkwargs\u001b[0m \u001b[0;34m=\u001b[0m \u001b[0mself\u001b[0m\u001b[0;34m.\u001b[0m\u001b[0m_maybe_define_function\u001b[0m\u001b[0;34m(\u001b[0m\u001b[0margs\u001b[0m\u001b[0;34m,\u001b[0m \u001b[0mkwargs\u001b[0m\u001b[0;34m)\u001b[0m\u001b[0;34m\u001b[0m\u001b[0;34m\u001b[0m\u001b[0m\n\u001b[0;32m-> 2829\u001b[0;31m     \u001b[0;32mreturn\u001b[0m \u001b[0mgraph_function\u001b[0m\u001b[0;34m.\u001b[0m\u001b[0m_filtered_call\u001b[0m\u001b[0;34m(\u001b[0m\u001b[0margs\u001b[0m\u001b[0;34m,\u001b[0m \u001b[0mkwargs\u001b[0m\u001b[0;34m)\u001b[0m  \u001b[0;31m# pylint: disable=protected-access\u001b[0m\u001b[0;34m\u001b[0m\u001b[0;34m\u001b[0m\u001b[0m\n\u001b[0m\u001b[1;32m   2830\u001b[0m \u001b[0;34m\u001b[0m\u001b[0m\n\u001b[1;32m   2831\u001b[0m   \u001b[0;34m@\u001b[0m\u001b[0mproperty\u001b[0m\u001b[0;34m\u001b[0m\u001b[0;34m\u001b[0m\u001b[0m\n",
      "\u001b[0;32m/Library/Frameworks/Python.framework/Versions/3.8/lib/python3.8/site-packages/tensorflow/python/eager/function.py\u001b[0m in \u001b[0;36m_filtered_call\u001b[0;34m(self, args, kwargs, cancellation_manager)\u001b[0m\n\u001b[1;32m   1841\u001b[0m       \u001b[0;31m`\u001b[0m\u001b[0margs\u001b[0m\u001b[0;31m`\u001b[0m \u001b[0;32mand\u001b[0m\u001b[0;31m \u001b[0m\u001b[0;31m`\u001b[0m\u001b[0mkwargs\u001b[0m\u001b[0;31m`\u001b[0m\u001b[0;34m.\u001b[0m\u001b[0;34m\u001b[0m\u001b[0;34m\u001b[0m\u001b[0m\n\u001b[1;32m   1842\u001b[0m     \"\"\"\n\u001b[0;32m-> 1843\u001b[0;31m     return self._call_flat(\n\u001b[0m\u001b[1;32m   1844\u001b[0m         [t for t in nest.flatten((args, kwargs), expand_composites=True)\n\u001b[1;32m   1845\u001b[0m          if isinstance(t, (ops.Tensor,\n",
      "\u001b[0;32m/Library/Frameworks/Python.framework/Versions/3.8/lib/python3.8/site-packages/tensorflow/python/eager/function.py\u001b[0m in \u001b[0;36m_call_flat\u001b[0;34m(self, args, captured_inputs, cancellation_manager)\u001b[0m\n\u001b[1;32m   1921\u001b[0m         and executing_eagerly):\n\u001b[1;32m   1922\u001b[0m       \u001b[0;31m# No tape is watching; skip to running the function.\u001b[0m\u001b[0;34m\u001b[0m\u001b[0;34m\u001b[0m\u001b[0;34m\u001b[0m\u001b[0m\n\u001b[0;32m-> 1923\u001b[0;31m       return self._build_call_outputs(self._inference_function.call(\n\u001b[0m\u001b[1;32m   1924\u001b[0m           ctx, args, cancellation_manager=cancellation_manager))\n\u001b[1;32m   1925\u001b[0m     forward_backward = self._select_forward_and_backward_functions(\n",
      "\u001b[0;32m/Library/Frameworks/Python.framework/Versions/3.8/lib/python3.8/site-packages/tensorflow/python/eager/function.py\u001b[0m in \u001b[0;36mcall\u001b[0;34m(self, ctx, args, cancellation_manager)\u001b[0m\n\u001b[1;32m    543\u001b[0m       \u001b[0;32mwith\u001b[0m \u001b[0m_InterpolateFunctionError\u001b[0m\u001b[0;34m(\u001b[0m\u001b[0mself\u001b[0m\u001b[0;34m)\u001b[0m\u001b[0;34m:\u001b[0m\u001b[0;34m\u001b[0m\u001b[0;34m\u001b[0m\u001b[0m\n\u001b[1;32m    544\u001b[0m         \u001b[0;32mif\u001b[0m \u001b[0mcancellation_manager\u001b[0m \u001b[0;32mis\u001b[0m \u001b[0;32mNone\u001b[0m\u001b[0;34m:\u001b[0m\u001b[0;34m\u001b[0m\u001b[0;34m\u001b[0m\u001b[0m\n\u001b[0;32m--> 545\u001b[0;31m           outputs = execute.execute(\n\u001b[0m\u001b[1;32m    546\u001b[0m               \u001b[0mstr\u001b[0m\u001b[0;34m(\u001b[0m\u001b[0mself\u001b[0m\u001b[0;34m.\u001b[0m\u001b[0msignature\u001b[0m\u001b[0;34m.\u001b[0m\u001b[0mname\u001b[0m\u001b[0;34m)\u001b[0m\u001b[0;34m,\u001b[0m\u001b[0;34m\u001b[0m\u001b[0;34m\u001b[0m\u001b[0m\n\u001b[1;32m    547\u001b[0m               \u001b[0mnum_outputs\u001b[0m\u001b[0;34m=\u001b[0m\u001b[0mself\u001b[0m\u001b[0;34m.\u001b[0m\u001b[0m_num_outputs\u001b[0m\u001b[0;34m,\u001b[0m\u001b[0;34m\u001b[0m\u001b[0;34m\u001b[0m\u001b[0m\n",
      "\u001b[0;32m/Library/Frameworks/Python.framework/Versions/3.8/lib/python3.8/site-packages/tensorflow/python/eager/execute.py\u001b[0m in \u001b[0;36mquick_execute\u001b[0;34m(op_name, num_outputs, inputs, attrs, ctx, name)\u001b[0m\n\u001b[1;32m     57\u001b[0m   \u001b[0;32mtry\u001b[0m\u001b[0;34m:\u001b[0m\u001b[0;34m\u001b[0m\u001b[0;34m\u001b[0m\u001b[0m\n\u001b[1;32m     58\u001b[0m     \u001b[0mctx\u001b[0m\u001b[0;34m.\u001b[0m\u001b[0mensure_initialized\u001b[0m\u001b[0;34m(\u001b[0m\u001b[0;34m)\u001b[0m\u001b[0;34m\u001b[0m\u001b[0;34m\u001b[0m\u001b[0m\n\u001b[0;32m---> 59\u001b[0;31m     tensors = pywrap_tfe.TFE_Py_Execute(ctx._handle, device_name, op_name,\n\u001b[0m\u001b[1;32m     60\u001b[0m                                         inputs, attrs, num_outputs)\n\u001b[1;32m     61\u001b[0m   \u001b[0;32mexcept\u001b[0m \u001b[0mcore\u001b[0m\u001b[0;34m.\u001b[0m\u001b[0m_NotOkStatusException\u001b[0m \u001b[0;32mas\u001b[0m \u001b[0me\u001b[0m\u001b[0;34m:\u001b[0m\u001b[0;34m\u001b[0m\u001b[0;34m\u001b[0m\u001b[0m\n",
      "\u001b[0;31mKeyboardInterrupt\u001b[0m: "
     ]
    }
   ],
   "source": [
    "# Optimizes the Neural Network using convoluted monoenergetic data, to simulate\n",
    "# the monoenergetic data of the Geant4 Simulations\n",
    "\n",
    "pbounds = { \"numNeurons0\" : (0, 300),\n",
    "            \"numNeurons1\" : (0, 300),\n",
    "            \"numNeurons2\" : (0, 300),\n",
    "            \"numNeurons3\" : (0, 300),\n",
    "            \"alpha0\"      : (0, 0.9),\n",
    "            \"alpha1\"      : (0, 0.9),\n",
    "            \"alpha2\"      : (0, 0.9),\n",
    "            \"alpha3\"      : (0, 0.9),\n",
    "            \"dropout\"     : (0, 0.05),\n",
    "            \"lr\"          : (0, 0.05) }\n",
    "\n",
    "def convolutedMonoData(numNeurons0, numNeurons1, numNeurons2, numNeurons3, alpha0, alpha1, alpha2, alpha3, dropout, lr):\n",
    "    return getMeanError(numNeurons0, numNeurons1, numNeurons2, numNeurons3, alpha0, alpha1, alpha2, alpha3, dropout, lr, loadRandomGaussianMonoData)\n",
    "\n",
    "optimizer = BayesianOptimization(\n",
    "    f=convolutedMonoData,\n",
    "    pbounds=pbounds,\n",
    "    verbose=2,\n",
    "    random_state=1\n",
    ")\n",
    "\n",
    "optimizer.maximize(init_points=100, n_iter=100)\n",
    "\n",
    "print(\"Best Value : \" , optimizer.max)"
   ]
  },
  {
   "cell_type": "code",
   "execution_count": null,
   "metadata": {},
   "outputs": [],
   "source": []
  },
  {
   "cell_type": "code",
   "execution_count": 367,
   "metadata": {
    "scrolled": false
   },
   "outputs": [],
   "source": [
    "Best = optimizer.max[\"params\"]\n",
    "\n",
    "Best = {'alpha0': 0.28210764148407524, 'alpha1': 0.6657408429219889, 'alpha2': 0.4021037952966369, 'alpha3': 0.7334811086797178, 'dropout': 0.02695982872332456, 'lr': 0.024293825500635684, 'numNeurons0': 160.31725839678703, 'numNeurons1': 106.05216409403064, 'numNeurons2': 250.90902140652136, 'numNeurons3': 189.54141751685398}\n",
    "\n",
    "numNeurons0 = Best[\"numNeurons0\"]\n",
    "numNeurons1 = Best[\"numNeurons1\"]\n",
    "numNeurons2 = Best[\"numNeurons2\"]\n",
    "numNeurons3 = Best[\"numNeurons3\"]\n",
    "dropout = Best[\"dropout\"]\n",
    "lr = Best[\"lr\"]\n",
    "alpha0 = Best[\"alpha0\"]\n",
    "alpha1 = Best[\"alpha1\"]\n",
    "alpha2 = Best[\"alpha2\"]\n",
    "alpha3 = Best[\"alpha3\"]"
   ]
  },
  {
   "cell_type": "code",
   "execution_count": 437,
   "metadata": {},
   "outputs": [
    {
     "data": {
      "text/plain": [
       "8"
      ]
     },
     "execution_count": 437,
     "metadata": {},
     "output_type": "execute_result"
    }
   ],
   "source": [
    "int( np.rint( np.abs( np.random.normal(loc = 10, scale = 6))) )"
   ]
  },
  {
   "cell_type": "markdown",
   "metadata": {},
   "source": [
    "# Methods for Getting Various Data"
   ]
  },
  {
   "cell_type": "code",
   "execution_count": 5,
   "metadata": {},
   "outputs": [],
   "source": [
    "# Loads the real-world data from IAS tecdoc\n",
    "def loadXY():\n",
    "\n",
    "    '''\n",
    "    Can't figure out how to pass non-optimiziable variable to the bayes opt\n",
    "    module. Just load them from pickle everytime in evaluate_network()\n",
    "    '''\n",
    "    unfolding_data = pd.read_pickle(\"ANN_intro_James/data/unfolding_data.pkl\")\n",
    "\n",
    "    X = np.zeros((251,15))\n",
    "    Y = np.zeros((251,53))\n",
    "    for row in range(251):\n",
    "    \n",
    "    \n",
    "        X[row,:] = unfolding_data['Detector Response'][row]\n",
    "        Y[row,:] = unfolding_data['Spectrum'][row][0:53]\n",
    "    \n",
    "    return X,Y\n",
    "\n",
    "# Uses the detector response matrix to generate monoenergetic data, \n",
    "# and all possible convolutions of two monoenergetic data\n",
    "def loadConvolutedMonoData():\n",
    "    \n",
    "    # All of the neutron spectra are multiplied by fluences\n",
    "    fluences = np.zeros(53)\n",
    "    for i in range(53):\n",
    "        temp = np.append(Ebins, [2.51E+07])\n",
    "        fluences[i] = np.log(temp[i + 1]) - np.log(temp[i])\n",
    "        \n",
    "    x = np.zeros( (0, 15) )\n",
    "    y = np.zeros( (0, 53) )\n",
    "    \n",
    "    # Get all mono-energetic and double-energetic data\n",
    "    for i in range(53):\n",
    "        for j in range(53):\n",
    "            yRow = np.zeros(53)\n",
    "\n",
    "            yRow[i] += 0.5\n",
    "            yRow[j] += 0.5\n",
    "\n",
    "            xRow = np.matmul(cm, yRow)\n",
    "            yRow = yRow / fluences\n",
    "\n",
    "            x = np.vstack( (x, xRow) )\n",
    "            y = np.vstack( (y, yRow) )    \n",
    "    \n",
    "    return x,y\n",
    "\n",
    "def loadRandomData():\n",
    "    \n",
    "    # All of the neutron spectra are multiplied by fluences\n",
    "    fluences = np.zeros(53)\n",
    "    for i in range(53):\n",
    "        temp = np.append(Ebins, [2.51E+07])\n",
    "        fluences[i] = np.log(temp[i + 1]) - np.log(temp[i])\n",
    "        \n",
    "    x = np.zeros( (0, 15) )\n",
    "    y = np.zeros( (0, 53) )\n",
    "    \n",
    "    # Get all mono-energetic and double-energetic data\n",
    "    for _ in range(5 * 53 * 53):\n",
    "        yRow = np.random.random(53)\n",
    "        yRow = yRow / sum(yRow)\n",
    "\n",
    "        xRow = np.matmul(cm, yRow)\n",
    "        yRow = yRow / fluences\n",
    "\n",
    "        x = np.vstack( (x, xRow) )\n",
    "        y = np.vstack( (y, yRow) )    \n",
    "    \n",
    "    return x,y\n",
    "\n",
    "#\n",
    "def loadGaussianMonoData():\n",
    "    # Randomly adds a gaussian peak to a 1D array\n",
    "    def addGaussian(data, i):\n",
    "        # Randomly picks the width and height of the gaussian\n",
    "        # ~8 is placeholder for typical width of peak in the real-world data (depends on detector resolution)\n",
    "        W = np.random.randint(low = 1, high = 20)\n",
    "        H = np.abs( np.random.normal(loc = 100, scale = 30) )\n",
    "\n",
    "        for k in range(-W, W + 1):\n",
    "            if (i + k) >= len(data):\n",
    "                break\n",
    "            elif (i + k) < 0:\n",
    "                continue\n",
    "            else:\n",
    "                data[i + k] += H * np.exp(- (2.0*k/W)**2)\n",
    "    \n",
    "    # All of the neutron spectra are multiplied by fluences\n",
    "    fluences = np.zeros(53)\n",
    "    for i in range(53):\n",
    "        temp = np.append(Ebins, [2.51E+07])\n",
    "        fluences[i] = np.log(temp[i + 1]) - np.log(temp[i])\n",
    "        \n",
    "    x = np.zeros( (0, 15) )\n",
    "    y = np.zeros( (0, 53) )\n",
    "    \n",
    "    # Get all mono-energetic and double-energetic data\n",
    "    for _ in range(5):\n",
    "        for i in range(53):\n",
    "            for j in range(53):\n",
    "                yRow = np.zeros(53)\n",
    "\n",
    "                addGaussian(yRow, i)\n",
    "                addGaussian(yRow, j)\n",
    "                yRow = yRow / sum(yRow)\n",
    "\n",
    "                xRow = np.matmul(cm, yRow)\n",
    "                yRow = yRow / fluences\n",
    "\n",
    "                x = np.vstack( (x, xRow) )\n",
    "                y = np.vstack( (y, yRow) )    \n",
    "\n",
    "    return x,y\n",
    "\n",
    "\n",
    "\n",
    "def loadRandomGaussianMonoData():\n",
    "    # Randomly adds a gaussian peak to a 1D array\n",
    "    def addGaussian(data, i):\n",
    "        # Randomly picks the width and height of the gaussian\n",
    "        # ~8 is placeholder for typical width of peak in the real-world data (depends on detector resolution)\n",
    "        W = int( np.rint( np.abs( np.random.normal(loc = 4, scale = 2))) ) + 1\n",
    "        H = np.abs( np.random.normal(loc = 300, scale = 100) )\n",
    "\n",
    "        for k in range(-W, W + 1):\n",
    "            if (i + k) >= len(data):\n",
    "                break\n",
    "            elif (i + k) < 0:\n",
    "                continue\n",
    "            else:\n",
    "                data[i + k] += H * np.exp(- (2.0*k/W)**2)\n",
    "    \n",
    "    # All of the neutron spectra are multiplied by fluences\n",
    "    fluences = np.zeros(53)\n",
    "    for i in range(53):\n",
    "        temp = np.append(Ebins, [2.51E+07])\n",
    "        fluences[i] = np.log(temp[i + 1]) - np.log(temp[i])\n",
    "        \n",
    "    x = np.zeros( (0, 15) )\n",
    "    y = np.zeros( (0, 53) )\n",
    "    #14045\n",
    "    for _ in range(10000):\n",
    "        yRow = np.zeros(53)\n",
    "\n",
    "        i = np.random.randint(low = 0, high = 54)\n",
    "        addGaussian(yRow, i)\n",
    "        \n",
    "        # Flip a coin and keep adding gaussian spikes\n",
    "        p = np.random.random()\n",
    "        while p > 1.0 / 4.0:\n",
    "            i = np.random.randint(low = 0, high = 54)\n",
    "            addGaussian(yRow, i)\n",
    "            p = np.random.random()\n",
    "                \n",
    "        yRow = yRow / sum(yRow)\n",
    "        xRow = np.matmul(cm, yRow)\n",
    "        yRow = yRow / fluences\n",
    "\n",
    "        x = np.vstack( (x, xRow) )\n",
    "        y = np.vstack( (y, yRow) )    \n",
    "\n",
    "    return x,y\n",
    "\n",
    "# Gets 100 Random Triple Convoluted Energy Sources\n",
    "def loadTripleConvData():\n",
    "    \n",
    "    # All of the neutron spectra are multiplied by fluences\n",
    "    fluences = np.zeros(53)\n",
    "    for i in range(53):\n",
    "        temp = np.append(Ebins, [2.51E+07])\n",
    "        fluences[i] = np.log(temp[i + 1]) - np.log(temp[i])\n",
    "        \n",
    "    x = np.zeros( (0, 15) )\n",
    "    y = np.zeros( (0, 53) )\n",
    "    \n",
    "    for _ in range(2000):\n",
    "        i = np.random.randint(low = 0, high = 53)\n",
    "        \n",
    "        j = i\n",
    "        while j == i:\n",
    "            j = np.random.randint(low = 0, high = 53)\n",
    "            \n",
    "        k = i\n",
    "        while k == i or k == j:\n",
    "            k = np.random.randint(low = 0, high = 53)\n",
    "        \n",
    "        yRow = np.zeros(53)\n",
    "        yRow[i] += 1.0 / 3.0\n",
    "        yRow[j] += 1.0 / 3.0\n",
    "        yRow[k] += 1.0 / 3.0\n",
    "            \n",
    "        xRow = np.matmul(cm, yRow)\n",
    "        yRow = yRow / fluences\n",
    "\n",
    "        x = np.vstack( (x, xRow) )\n",
    "        y = np.vstack( (y, yRow) )\n",
    "    \n",
    "    return x,y"
   ]
  },
  {
   "cell_type": "markdown",
   "metadata": {},
   "source": [
    "# Analysis of Performance of Various Data Methods vs Real World Data"
   ]
  },
  {
   "cell_type": "code",
   "execution_count": 355,
   "metadata": {},
   "outputs": [],
   "source": [
    "def plotSpread(modelAD, modelRW):\n",
    "    x,y = loadXY()\n",
    "    \n",
    "    yPredAD = modelAD( x )\n",
    "    plt.plot([], color=\"red\", label=\"Trained on Artificial Data\")\n",
    "    for i in range(len(y)): \n",
    "        plt.plot(Ebins, (yPredAD[i] - y[i])**2 , color=\"red\", alpha = 0.3)\n",
    "\n",
    "    yPredRW = modelRW( x )\n",
    "    plt.plot([], color=\"blue\", label=\"Trained on Real World Data\")\n",
    "    for i in range(len(y)):  \n",
    "        plt.plot(Ebins, (yPredRW[i] - y[i])**2 , color=\"blue\", alpha = 0.3)\n",
    "\n",
    "    plt.legend()\n",
    "    plt.xlabel(\"energy bins\")\n",
    "    plt.ylabel(\"| predicted - truth |\")\n",
    "    plt.xscale(\"log\")"
   ]
  },
  {
   "cell_type": "code",
   "execution_count": 363,
   "metadata": {},
   "outputs": [
    {
     "name": "stdout",
     "output_type": "stream",
     "text": [
      "Performance on NN trained on real-world data is:\n",
      " Loss =  0.000942293618972308  ±  0.00017527194678504013\n"
     ]
    }
   ],
   "source": [
    "performance0, stddev0, model0 = getMeanError(numNeurons0, numNeurons1, numNeurons2, numNeurons3, alpha0, alpha1, alpha2, alpha3, dropout, lr, loadXY, retMore = True)\n",
    "print( \"Performance on NN trained on real-world data is:\\n\",\n",
    "        \"Loss = \", performance0, \" ± \" , stddev0 )"
   ]
  },
  {
   "cell_type": "code",
   "execution_count": 92,
   "metadata": {},
   "outputs": [
    {
     "name": "stdout",
     "output_type": "stream",
     "text": [
      "Trained on all equal combinations of two monoenergetic sources\n",
      " Loss =  0.03894342504055848  ±  0.0030118553018864532\n"
     ]
    }
   ],
   "source": [
    "#performance1, stddev1, model1 = getMeanError(numNeurons0, numNeurons1, numNeurons2, dropout, lr, loadConvolutedMonoData, retMore = True)\n",
    "print(\"Trained on all equal combinations of two monoenergetic sources\\n\", \n",
    "      \"Loss = \", performance1, \" ± \" , stddev1 )"
   ]
  },
  {
   "cell_type": "code",
   "execution_count": 44,
   "metadata": {},
   "outputs": [
    {
     "data": {
      "image/png": "[encoded data removed]",
      "text/plain": [
       "<Figure size 432x288 with 1 Axes>"
      ]
     },
     "metadata": {
      "needs_background": "light"
     },
     "output_type": "display_data"
    }
   ],
   "source": [
    "plotSpread(model1, model0)"
   ]
  },
  {
   "cell_type": "code",
   "execution_count": 93,
   "metadata": {},
   "outputs": [
    {
     "name": "stdout",
     "output_type": "stream",
     "text": [
      "Trained on purely random combinations of monoenergetic data\n",
      " Loss =  0.0032758548823851575  ±  0.00014142099394209894\n"
     ]
    }
   ],
   "source": [
    "performance2, stddev2, model2 = getMeanError(numNeurons0, numNeurons1, numNeurons2, numNeurons3, alpha0, alpha1, alpha2, alpha3, dropout, lr, loadRandomData, retMore = True)\n",
    "print(\"Trained on purely random combinations of monoenergetic data\\n\", \n",
    "       \"Loss = \", performance2, \" ± \" , stddev2 )"
   ]
  },
  {
   "cell_type": "code",
   "execution_count": 45,
   "metadata": {
    "scrolled": true
   },
   "outputs": [
    {
     "data": {
      "image/png": "[encoded data removed]",
      "text/plain": [
       "<Figure size 432x288 with 1 Axes>"
      ]
     },
     "metadata": {
      "needs_background": "light"
     },
     "output_type": "display_data"
    }
   ],
   "source": [
    "plotSpread(model2, model0)"
   ]
  },
  {
   "cell_type": "code",
   "execution_count": 108,
   "metadata": {},
   "outputs": [
    {
     "name": "stdout",
     "output_type": "stream",
     "text": [
      "Trained on gaussian combinations of monoenergetic data\n",
      " Loss =  0.001998920976400881  ±  0.00021399746007850581\n"
     ]
    }
   ],
   "source": [
    "performance3, stddev3, model3 = getMeanError(numNeurons0, numNeurons1, numNeurons2, dropout, lr, loadGaussianMonoData, retMore = True)\n",
    "print(\"Trained on gaussian combinations of monoenergetic data\\n\", \n",
    "      \"Loss = \", performance3, \" ± \" , stddev3 )"
   ]
  },
  {
   "cell_type": "code",
   "execution_count": 109,
   "metadata": {},
   "outputs": [
    {
     "data": {
      "image/png": "[encoded data removed]",
      "text/plain": [
       "<Figure size 432x288 with 1 Axes>"
      ]
     },
     "metadata": {
      "needs_background": "light"
     },
     "output_type": "display_data"
    }
   ],
   "source": [
    "plotSpread(model3, model0)"
   ]
  },
  {
   "cell_type": "code",
   "execution_count": 477,
   "metadata": {},
   "outputs": [
    {
     "name": "stdout",
     "output_type": "stream",
     "text": [
      "Trained on randomized gaussian combinations of monoenergetic data\n",
      " Loss =  0.0018160259757624992  ±  0.0\n"
     ]
    }
   ],
   "source": [
    "performance4, stddev4, model4 = getMeanError(numNeurons0, numNeurons1, numNeurons2, numNeurons3, alpha0, alpha1, alpha2, alpha3, dropout, lr, loadRandomGaussianMonoData, retMore = True)\n",
    "print(\"Trained on randomized gaussian combinations of monoenergetic data\\n\", \n",
    "      \"Loss = \", performance4, \" ± \" , stddev4 )"
   ]
  },
  {
   "cell_type": "code",
   "execution_count": 471,
   "metadata": {
    "scrolled": true
   },
   "outputs": [
    {
     "data": {
      "image/png": "[encoded data removed]",
      "text/plain": [
       "<Figure size 432x288 with 1 Axes>"
      ]
     },
     "metadata": {
      "needs_background": "light"
     },
     "output_type": "display_data"
    }
   ],
   "source": [
    "plotSpread(model4, model0)"
   ]
  },
  {
   "cell_type": "markdown",
   "metadata": {},
   "source": [
    "# Playing Around with Optimal Model / Data Generation"
   ]
  },
  {
   "cell_type": "code",
   "execution_count": 17,
   "metadata": {},
   "outputs": [],
   "source": [
    "NUM = 300\n",
    "def loadRandomGaussianData(Wcenter, Wspread, Hcenter, Hspread, Nprop):\n",
    "    # Randomly adds a gaussian peak to a 1D array\n",
    "    def addGaussian(data, i):\n",
    "        # Randomly picks the width and height of the gaussian\n",
    "        # ~8 is placeholder for typical width of peak in the real-world data (depends on detector resolution)\n",
    "        H = np.random.normal(loc = Hcenter, scale = Hspread)\n",
    "        W = int( np.abs(np.random.normal(loc = Wcenter, scale = Wspread / (np.abs(H) + 0.01) ))) + 1\n",
    "\n",
    "        for k in range(-W, W + 1):\n",
    "            if (i + k) >= len(data):\n",
    "                break\n",
    "            elif (i + k) < 0:\n",
    "                continue\n",
    "            else:\n",
    "                data[i + k] += H * np.exp(- (2.5*k/W)**2)\n",
    "    \n",
    "    # All of the neutron spectra are multiplied by fluences\n",
    "    fluences = np.zeros(53)\n",
    "    for i in range(53):\n",
    "        temp = np.append(Ebins, [2.51E+07])\n",
    "        fluences[i] = np.log(temp[i + 1]) - np.log(temp[i])\n",
    "        \n",
    "    x = np.zeros( (0, 15) )\n",
    "    y = np.zeros( (0, 53) )\n",
    "    #14045\n",
    "    for _ in range(NUM):\n",
    "        yRow = np.zeros(53)\n",
    "\n",
    "        i = np.random.randint(low = 0, high = 54)\n",
    "        addGaussian(yRow, i)\n",
    "        \n",
    "        # Flip a coin and keep adding gaussian spikes\n",
    "        p = np.random.random()\n",
    "        while p > Nprop:\n",
    "            i = np.random.randint(low = 0, high = 54)\n",
    "            addGaussian(yRow, i)\n",
    "            p = np.random.random()\n",
    "        \n",
    "        yRow = np.abs(yRow)\n",
    "        yRow = yRow / sum(yRow)\n",
    "        xRow = np.matmul(cm, yRow)\n",
    "        yRow = yRow / fluences\n",
    "\n",
    "        x = np.vstack( (x, xRow) )\n",
    "        y = np.vstack( (y, yRow) )    \n",
    "\n",
    "    return x,y"
   ]
  },
  {
   "cell_type": "code",
   "execution_count": 212,
   "metadata": {
    "scrolled": true
   },
   "outputs": [
    {
     "name": "stdout",
     "output_type": "stream",
     "text": [
      "|   iter    |  target   |   Nprop   |  Wspread  |\n",
      "-------------------------------------------------\n",
      " Stopped at :  0  epochs\n",
      " Stopped at :  0  epochs\n",
      "Mean :  0.00148316798376778  ±  2.1501037391511595e-05\n",
      "| \u001b[0m 1       \u001b[0m | \u001b[0m-0.001483\u001b[0m | \u001b[0m 0.1967  \u001b[0m | \u001b[0m 9.944   \u001b[0m |\n",
      " Stopped at :  0  epochs\n",
      " Stopped at :  0  epochs\n",
      "Mean :  0.00156541371759356  ±  0.00011949456236917753\n",
      "| \u001b[0m 2       \u001b[0m | \u001b[0m-0.001565\u001b[0m | \u001b[0m 0.18    \u001b[0m | \u001b[0m 9.86    \u001b[0m |\n",
      " Stopped at :  0  epochs\n",
      " Stopped at :  0  epochs\n",
      "Mean :  0.0013729401172523038  ±  4.519902248512899e-05\n",
      "| \u001b[95m 3       \u001b[0m | \u001b[95m-0.001373\u001b[0m | \u001b[95m 0.1859  \u001b[0m | \u001b[95m 9.818   \u001b[0m |\n",
      " Stopped at :  0  epochs\n",
      " Stopped at :  0  epochs\n",
      "Mean :  0.0014278604289157761  ±  4.698839692495252e-06\n",
      "| \u001b[0m 4       \u001b[0m | \u001b[0m-0.001428\u001b[0m | \u001b[0m 0.1875  \u001b[0m | \u001b[0m 9.869   \u001b[0m |\n",
      " Stopped at :  0  epochs\n",
      " Stopped at :  0  epochs\n",
      "Mean :  0.0014657322650351457  ±  0.00011731489215290102\n",
      "| \u001b[0m 5       \u001b[0m | \u001b[0m-0.001466\u001b[0m | \u001b[0m 0.216   \u001b[0m | \u001b[0m 9.805   \u001b[0m |\n",
      " Stopped at :  0  epochs\n",
      " Stopped at :  0  epochs\n",
      "Mean :  0.0014070012748317428  ±  0.00010557809385839225\n",
      "| \u001b[0m 6       \u001b[0m | \u001b[0m-0.001407\u001b[0m | \u001b[0m 0.2175  \u001b[0m | \u001b[0m 9.989   \u001b[0m |\n",
      " Stopped at :  0  epochs\n",
      " Stopped at :  0  epochs\n",
      "Mean :  0.00138128918626202  ±  4.375328042567422e-05\n",
      "| \u001b[0m 7       \u001b[0m | \u001b[0m-0.001381\u001b[0m | \u001b[0m 0.1992  \u001b[0m | \u001b[0m 9.912   \u001b[0m |\n",
      " Stopped at :  0  epochs\n",
      " Stopped at :  0  epochs\n",
      "Mean :  0.0014239120612558628  ±  3.55802691606739e-05\n",
      "| \u001b[0m 8       \u001b[0m | \u001b[0m-0.001424\u001b[0m | \u001b[0m 0.1985  \u001b[0m | \u001b[0m 9.839   \u001b[0m |\n",
      "=================================================\n",
      "Best Value :  {'target': -0.0013729401172523038, 'params': {'Nprop': 0.1858702356326845, 'Wspread': 9.81846771895376}}\n"
     ]
    }
   ],
   "source": [
    "def testErr(Nprop, Wspread):\n",
    "    score = []\n",
    "    for _ in range(2):\n",
    "        NUM = 1000\n",
    "        x,y = loadRandomGaussianData(Wcenter, Wspread, Hcenter, Hspread, Nprop)\n",
    "\n",
    "        model = keras.Sequential()\n",
    "\n",
    "        model.add(keras.Input(15))\n",
    "\n",
    "        if numNeurons0 >= 1:\n",
    "            model.add(Dropout(dropout))\n",
    "            model.add(Dense(int(numNeurons0), activation=keras.layers.LeakyReLU(alpha=alpha0)))\n",
    "        if numNeurons1 >= 1:\n",
    "            model.add(Dropout(dropout))\n",
    "            model.add(Dense(int(numNeurons1), activation=keras.layers.LeakyReLU(alpha=alpha1)))\n",
    "        if numNeurons2 >= 1:\n",
    "            model.add(Dropout(dropout))\n",
    "            model.add(Dense(int(numNeurons2), activation=keras.layers.LeakyReLU(alpha=alpha2)))\n",
    "\n",
    "        model.add(Dense(53, activation='linear'))\n",
    "        model.compile(loss = \"mse\", optimizer = Adam() )\n",
    "\n",
    "        # Sets up early stopping\n",
    "        monitor = EarlyStopping(monitor='val_loss', min_delta=1e-6, \n",
    "                                patience=5, verbose=0,\n",
    "                                mode='min', restore_best_weights=True)\n",
    "\n",
    "        # Fits to the bootstrap data # , callbacks = [monitor]\n",
    "        model.fit(x,y,validation_split=0.0, batch_size = 1 + int( 0.14 * len(x) ), verbose=0, epochs=300)\n",
    "        print(\" Stopped at : \" , monitor.stopped_epoch, \" epochs\")\n",
    "        xtest, ytest = loadXY()\n",
    "        ypred = model(xtest)\n",
    "        score.append( metrics.mean_squared_error(ytest, ypred) )\n",
    "    print(\"Mean : \", np.mean(score), \" ± \", np.std(score))\n",
    "    return -np.mean(score)\n",
    "\n",
    "\n",
    "# Optimizes the Neural Network using convoluted monoenergetic data, to simulate\n",
    "# the monoenergetic data of the Geant4 Simulations\n",
    "\n",
    "pbounds = {   'Nprop': (0.18, 0.22),\n",
    "              'Wspread': (9.8, 10) }\n",
    "\n",
    "optimizer = BayesianOptimization(\n",
    "    f=testErr,\n",
    "    pbounds=pbounds,\n",
    "    verbose=2,\n",
    "    random_state=1\n",
    ")\n",
    "\n",
    "optimizer.maximize(init_points=4, n_iter=4)\n",
    "\n",
    "print(\"Best Value : \" , optimizer.max)"
   ]
  },
  {
   "cell_type": "code",
   "execution_count": 297,
   "metadata": {},
   "outputs": [],
   "source": [
    "# Sets all of the hyperparameters from previous optimizations\n",
    "\n",
    "Best = {'batch_size': 0.1364029921553845, \n",
    "        'dropout': 0.004691106585818439,\n",
    "        'alpha0': 0.459834683383305, \n",
    "        'alpha1': 0.015, \n",
    "        'alpha2': 0.4915779060301004, \n",
    "        'numNeurons0': 267.99747927459526, \n",
    "        'numNeurons1': 300.7563134185142, \n",
    "        'numNeurons2': 316.31031262012124}\n",
    "\n",
    "alpha0 = Best[\"alpha0\"]\n",
    "alpha1 = Best[\"alpha1\"]\n",
    "alpha2 = Best[\"alpha2\"]\n",
    "dropout = Best[\"dropout\"]\n",
    "numNeurons0 = Best[\"numNeurons0\"]\n",
    "numNeurons1 = Best[\"numNeurons1\"]\n",
    "numNeurons2 = Best[\"numNeurons2\"]\n",
    "batch_size = Best[\"batch_size\"]\n",
    " \n",
    "BestDataP = {'Hcenter': 1.5764485342627879, \n",
    "             'Hspread': 0.7995031824171838, \n",
    "             'Nprop': 0.1858702356326845, \n",
    "             'Wcenter': 7.243589616661455, \n",
    "             'Wspread': 9.8184677189537}\n",
    "\n",
    "Hcenter = BestDataP[\"Hcenter\"]\n",
    "Hspread = BestDataP[\"Hspread\"]\n",
    "Nprop = BestDataP[\"Nprop\"]\n",
    "Wcenter = BestDataP[\"Wcenter\"]\n",
    "Wspread = BestDataP[\"Wspread\"]\n"
   ]
  },
  {
   "cell_type": "code",
   "execution_count": 298,
   "metadata": {},
   "outputs": [
    {
     "name": "stdout",
     "output_type": "stream",
     "text": [
      "Error :  0.0014643211816934123  ±  0.0\n"
     ]
    }
   ],
   "source": [
    "#x,y = loadRandomGaussianData(Wspread, Nprop)\n",
    "numNeurons0 = int(numNeurons0)\n",
    "numNeurons1 = int(numNeurons1)\n",
    "numNeurons2 = int(numNeurons2)\n",
    "\n",
    "# Fits to the bootstrap data\n",
    "models = []\n",
    "model = None\n",
    "for _ in range(1):\n",
    "    model = keras.Sequential()\n",
    "    model.add(keras.Input(15))\n",
    "    if numNeurons0 >= 1:\n",
    "        model.add(Dropout(dropout))\n",
    "        model.add(Dense(numNeurons0, activation=keras.layers.LeakyReLU(alpha=alpha0)))\n",
    "    if numNeurons1 >= 1:\n",
    "        model.add(Dropout(dropout))\n",
    "        model.add(Dense(numNeurons1, activation=keras.layers.LeakyReLU(alpha=alpha1)))\n",
    "    if numNeurons2 >= 1:\n",
    "        model.add(Dropout(dropout))\n",
    "        model.add(Dense(numNeurons2, activation=keras.layers.LeakyReLU(alpha=alpha2)))\n",
    "    model.add(Dense(53, activation='linear'))\n",
    "    model.compile(loss = \"mse\", optimizer = Adam() )\n",
    "\n",
    "    NUM = 2000\n",
    "    for _ in range(100):\n",
    "        monitor = EarlyStopping(monitor='val_loss', min_delta=1e-6, \n",
    "                            patience=2, verbose=0,\n",
    "                            mode='min', restore_best_weights=True)\n",
    "        x, y = loadRandomGaussianData(Wcenter, Wspread, Hcenter, Hspread, Nprop)\n",
    "        model.fit(x, y, validation_split=0.1, batch_size = 1 + int( len(x) * batch_size ), callbacks=[monitor], verbose=0, epochs=10000)\n",
    "    models.append(model)\n",
    "    \n",
    "error = []\n",
    "xtest, ytest = loadXY()\n",
    "for model in models:\n",
    "    ypred = model(xtest)\n",
    "    error.append( metrics.mean_squared_error(ytest, ypred) )\n",
    "    \n",
    "print( \"Error : \" , np.mean( error ) , \" ± \" , np.std( error ) )"
   ]
  },
  {
   "cell_type": "markdown",
   "metadata": {},
   "source": [
    "\n",
    "MSE (251) = 0.001881022179531494  ±  0.0001536092938411235\n",
    "MSE (1000) = 0.0016193519840779105  ±  0.0001171341413751414\n",
    "MSE (5000) = 0.001307709140041966  ±  3.3756556092440406e-05\n",
    "MSE (10000) = 0.0012756532308220209  ±  1.0669471084211296e-05\n"
   ]
  },
  {
   "cell_type": "code",
   "execution_count": null,
   "metadata": {},
   "outputs": [],
   "source": []
  }
 ],
 "metadata": {
  "kernelspec": {
   "display_name": "Python 3",
   "language": "python",
   "name": "python3"
  },
  "language_info": {
   "codemirror_mode": {
    "name": "ipython",
    "version": 3
   },
   "file_extension": ".py",
   "mimetype": "text/x-python",
   "name": "python",
   "nbconvert_exporter": "python",
   "pygments_lexer": "ipython3",
   "version": "3.8.1"
  }
 },
 "nbformat": 4,
 "nbformat_minor": 4
}
