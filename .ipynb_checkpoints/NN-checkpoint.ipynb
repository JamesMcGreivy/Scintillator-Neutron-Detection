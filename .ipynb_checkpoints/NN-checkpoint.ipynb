{
 "cells": [
  {
   "cell_type": "code",
   "execution_count": 207,
   "metadata": {},
   "outputs": [],
   "source": [
    "import pandas as pd\n",
    "import pickle\n",
    "import matplotlib.pyplot as plt\n",
    "import numpy as np\n",
    "\n",
    "# Tensorflow Stuff\n",
    "import tensorflow.keras.initializers\n",
    "import statistics\n",
    "import tensorflow.keras as keras\n",
    "from sklearn import metrics\n",
    "from sklearn.model_selection import StratifiedKFold\n",
    "from tensorflow.keras.models import Sequential\n",
    "from tensorflow.keras.layers import Dense, Activation, Dropout, InputLayer\n",
    "from tensorflow.keras import regularizers\n",
    "from tensorflow.keras.callbacks import EarlyStopping\n",
    "from sklearn.model_selection import ShuffleSplit\n",
    "from tensorflow.keras.layers import ReLU\n",
    "from tensorflow.keras.optimizers import Adam\n",
    "import tensorflow as tf\n",
    "from bayes_opt import BayesianOptimization\n",
    "import matplotlib.pyplot as plt\n",
    "import logging, os\n",
    "logging.disable(logging.WARNING)\n",
    "os.environ[\"TF_CPP_MIN_LOG_LEVEL\"] = \"3\""
   ]
  },
  {
   "cell_type": "code",
   "execution_count": 208,
   "metadata": {},
   "outputs": [],
   "source": [
    "with open('keVtoLightYield.pickle', 'rb') as handle:\n",
    "    data = pickle.load(handle)"
   ]
  },
  {
   "cell_type": "code",
   "execution_count": 209,
   "metadata": {},
   "outputs": [],
   "source": [
    "def loadRandomGaussianData(data, num):\n",
    "    \n",
    "    # Takes index from \n",
    "    indexToKey = [key for key in data.keys() if key not in \"bins\"]\n",
    "    indexToKey.sort()\n",
    "    indexToKey = np.array(indexToKey)\n",
    "    \n",
    "    # Gets the dimensions of the x and y data\n",
    "    xDim = len(data[indexToKey[0]])\n",
    "    yDim = len(indexToKey)\n",
    "    \n",
    "    # Normalizes the data\n",
    "    def normalize(counts):\n",
    "        bins = data[\"bins\"]\n",
    "        binWidth = bins[1] - bins[0]\n",
    "        counts = counts / ( binWidth * sum(counts) )\n",
    "        return counts\n",
    "\n",
    "    # Randomly adds a gaussian peak to a 1D array\n",
    "    def addGaussian(data, i):\n",
    "        # Randomly picks the width and height of the gaussian\n",
    "        # ~8 is placeholder for typical width of peak in the real-world data (depends on detector resolution)\n",
    "        H = np.random.normal(loc = 20.0, scale = 20.0)\n",
    "        W = int( np.abs(np.random.normal(loc = 5.0, scale = 2.0 / (np.abs(H) + 0.01) ))) + 1\n",
    "\n",
    "        for k in range(-W, W + 1):\n",
    "            if (i + k) >= len(data):\n",
    "                break\n",
    "            elif (i + k) < 0:\n",
    "                continue\n",
    "            else:\n",
    "                data[i + k] += H * np.exp(- (2.5*k/W)**2)\n",
    "                \n",
    "    # Gets the detector response of a given neutron spectra\n",
    "    def getX(yRow):\n",
    "        xRow = np.zeros(xDim)\n",
    "        for index in range(yDim):\n",
    "            xRow += yRow[index] * data[indexToKey[index]]\n",
    "            \n",
    "        return normalize(xRow)\n",
    "          \n",
    "    x = np.zeros( (0, xDim) )\n",
    "    y = np.zeros( (0, yDim) )\n",
    "    #14045\n",
    "    for _ in range(2000):\n",
    "        yRow = np.zeros(len(indexToKey))\n",
    "\n",
    "        i = np.random.randint(low = 0, high = yDim + 1)\n",
    "        addGaussian(yRow, i)\n",
    "        \n",
    "        # Flip a coin and keep adding gaussian spikes\n",
    "        p = np.random.random()\n",
    "        while p > 0.2:\n",
    "            i = np.random.randint(low = 0, high = yDim + 1)\n",
    "            addGaussian(yRow, i)\n",
    "            p = np.random.random()\n",
    "                \n",
    "        yRow = np.abs(yRow)\n",
    "        yRow = yRow / sum(yRow)\n",
    "        xRow = getX(yRow)\n",
    "\n",
    "        x = np.vstack( (x, xRow) )\n",
    "        y = np.vstack( (y, yRow) )    \n",
    "\n",
    "    return x,y"
   ]
  },
  {
   "cell_type": "code",
   "execution_count": 210,
   "metadata": {},
   "outputs": [],
   "source": [
    "def bootstrapModel(numNeurons0, numNeurons1, numNeurons2, alpha0, alpha1, alpha2, alpha3, dropout):\n",
    "\n",
    "    # Gets x and y dimension of the data \n",
    "    indexToKey = [key for key in data.keys() if key not in \"bins\"]\n",
    "    indexToKey.sort()\n",
    "    indexToKey = np.array(indexToKey)\n",
    "\n",
    "    xDim = len(data[indexToKey[0]])\n",
    "    yDim = len(indexToKey)\n",
    "    \n",
    "    error = []\n",
    "    \n",
    "    for _ in range(3):\n",
    "        model = getModel(xDim, yDim, numNeurons0, numNeurons1, numNeurons2, alpha0, alpha1, alpha2, alpha3, dropout)\n",
    "        model.compile(loss = \"mse\", optimizer = Adam() )\n",
    "\n",
    "        monitor = EarlyStopping(monitor='val_loss', min_delta=1e-8, \n",
    "                                patience=2, verbose=0,\n",
    "                                mode='min', restore_best_weights=True)\n",
    "\n",
    "        x,y = loadRandomGaussianData(data, 2000)\n",
    "        \n",
    "        model.fit(x, y, validation_split=0.1, batch_size = 60, callbacks=[monitor], verbose=0, epochs=10000)\n",
    "\n",
    "        xtest, ytest = loadRandomGaussianData(data, 50)\n",
    "        ypred = model( xtest )\n",
    "        error.append( metrics.mean_squared_error(ytest, ypred) )\n",
    "        \n",
    "    print( \"Error : \" , np.mean(error), \" ± \", np.std(error) )\n",
    "    return - np.mean( error )\n",
    "\n",
    "def getModel(xDim, yDim, numNeurons0, numNeurons1, numNeurons2, alpha0, alpha1, alpha2, alpha3, dropout):\n",
    "    \n",
    "    numNeurons0 = int( numNeurons0 )\n",
    "    numNeurons1 = int( numNeurons1 )\n",
    "    numNeurons2 = int( numNeurons2 )\n",
    "    \n",
    "    model = keras.Sequential()\n",
    "    model.add(keras.Input(xDim))\n",
    "    if numNeurons0 >= 1:\n",
    "        model.add(Dropout(dropout))\n",
    "        model.add(Dense(numNeurons0, activation=keras.layers.LeakyReLU(alpha=alpha0)))\n",
    "    if numNeurons1 >= 1:\n",
    "        model.add(Dropout(dropout))\n",
    "        model.add(Dense(numNeurons1, activation=keras.layers.LeakyReLU(alpha=alpha1)))\n",
    "    if numNeurons2 >= 1:\n",
    "        model.add(Dropout(dropout))\n",
    "        model.add(Dense(numNeurons2, activation=keras.layers.LeakyReLU(alpha=alpha2)))\n",
    "    model.add(Dense(yDim, activation=keras.layers.LeakyReLU(alpha=alpha3)))\n",
    "    \n",
    "    return model\n",
    "    \n",
    "    "
   ]
  },
  {
   "cell_type": "code",
   "execution_count": 123,
   "metadata": {
    "scrolled": true
   },
   "outputs": [
    {
     "name": "stdout",
     "output_type": "stream",
     "text": [
      "|   iter    |  target   |  alpha0   |  alpha1   |  alpha2   |  alpha3   |\n",
      "-------------------------------------------------------------------------\n",
      "Error :  0.0007003833649935463  ±  0.0004924686283924391\n",
      "| \u001b[0m 1       \u001b[0m | \u001b[0m-0.000700\u001b[0m | \u001b[0m 0.04229 \u001b[0m | \u001b[0m 0.07231 \u001b[0m | \u001b[0m 0.001023\u001b[0m | \u001b[0m 0.0914  \u001b[0m |\n",
      "Error :  0.0003777824799303492  ±  7.48857021325516e-05\n",
      "| \u001b[95m 2       \u001b[0m | \u001b[95m-0.000377\u001b[0m | \u001b[95m 0.01553 \u001b[0m | \u001b[95m 0.01014 \u001b[0m | \u001b[95m 0.03807 \u001b[0m | \u001b[95m 0.1043  \u001b[0m |\n",
      "Error :  0.0003794076610122671  ±  5.424257903575943e-05\n",
      "| \u001b[0m 3       \u001b[0m | \u001b[0m-0.000379\u001b[0m | \u001b[0m 0.04028 \u001b[0m | \u001b[0m 0.05434 \u001b[0m | \u001b[0m 0.08442 \u001b[0m | \u001b[0m 0.2059  \u001b[0m |\n",
      "Error :  0.0004049825024687246  ±  1.3801955779074502e-05\n",
      "| \u001b[0m 4       \u001b[0m | \u001b[0m-0.000405\u001b[0m | \u001b[0m 0.02124 \u001b[0m | \u001b[0m 0.08793 \u001b[0m | \u001b[0m 0.00645 \u001b[0m | \u001b[0m 0.2015  \u001b[0m |\n",
      "Error :  0.00038894711303292975  ±  5.1900866584963356e-05\n",
      "| \u001b[0m 5       \u001b[0m | \u001b[0m-0.000388\u001b[0m | \u001b[0m 0.04231 \u001b[0m | \u001b[0m 0.05631 \u001b[0m | \u001b[0m 0.02894 \u001b[0m | \u001b[0m 0.06023 \u001b[0m |\n",
      "Error :  0.00039629004618693567  ±  6.655852241619366e-05\n",
      "| \u001b[0m 6       \u001b[0m | \u001b[0m-0.000396\u001b[0m | \u001b[0m 0.08027 \u001b[0m | \u001b[0m 0.09686 \u001b[0m | \u001b[0m 0.06337 \u001b[0m | \u001b[0m 0.208   \u001b[0m |\n",
      "Error :  0.0018318845619022062  ±  0.0006122936660427576\n",
      "| \u001b[0m 7       \u001b[0m | \u001b[0m-0.001832\u001b[0m | \u001b[0m 0.08776 \u001b[0m | \u001b[0m 0.08957 \u001b[0m | \u001b[0m 0.01792 \u001b[0m | \u001b[0m 0.01268 \u001b[0m |\n",
      "Error :  0.0003079689180115697  ±  1.0776099415968894e-05\n",
      "| \u001b[95m 8       \u001b[0m | \u001b[95m-0.000308\u001b[0m | \u001b[95m 0.01781 \u001b[0m | \u001b[95m 0.08794 \u001b[0m | \u001b[95m 0.02057 \u001b[0m | \u001b[95m 0.1269  \u001b[0m |\n",
      "Error :  0.0003312666819983582  ±  1.028053827505301e-06\n",
      "| \u001b[0m 9       \u001b[0m | \u001b[0m-0.000331\u001b[0m | \u001b[0m 0.09583 \u001b[0m | \u001b[0m 0.05378 \u001b[0m | \u001b[0m 0.1387  \u001b[0m | \u001b[0m 0.09534 \u001b[0m |\n",
      "Error :  0.00046337893464666813  ±  5.5276183755149305e-06\n",
      "| \u001b[0m 10      \u001b[0m | \u001b[0m-0.000463\u001b[0m | \u001b[0m 0.06896 \u001b[0m | \u001b[0m 0.08363 \u001b[0m | \u001b[0m 0.004639\u001b[0m | \u001b[0m 0.2253  \u001b[0m |\n",
      "Error :  0.0003611544461161555  ±  3.2513026788546545e-05\n",
      "| \u001b[0m 11      \u001b[0m | \u001b[0m-0.000361\u001b[0m | \u001b[0m 0.0989  \u001b[0m | \u001b[0m 0.07507 \u001b[0m | \u001b[0m 0.05681 \u001b[0m | \u001b[0m 0.237   \u001b[0m |\n",
      "Error :  0.000300795403377215  ±  2.4026437958625586e-05\n",
      "| \u001b[95m 12      \u001b[0m | \u001b[95m-0.000300\u001b[0m | \u001b[95m 0.01122 \u001b[0m | \u001b[95m 0.04534 \u001b[0m | \u001b[95m 0.1818  \u001b[0m | \u001b[95m 0.08879 \u001b[0m |\n",
      "Error :  0.00037072307162456223  ±  8.226147249490223e-06\n",
      "| \u001b[0m 13      \u001b[0m | \u001b[0m-0.000370\u001b[0m | \u001b[0m 0.02949 \u001b[0m | \u001b[0m 0.01387 \u001b[0m | \u001b[0m 0.004854\u001b[0m | \u001b[0m 0.204   \u001b[0m |\n",
      "Error :  0.0003371223796431542  ±  3.3789372477580454e-05\n",
      "| \u001b[0m 14      \u001b[0m | \u001b[0m-0.000337\u001b[0m | \u001b[0m 0.02195 \u001b[0m | \u001b[0m 0.02729 \u001b[0m | \u001b[0m 0.09882 \u001b[0m | \u001b[0m 0.01696 \u001b[0m |\n",
      "Error :  0.00039125094864971656  ±  3.742478108783986e-05\n",
      "| \u001b[0m 15      \u001b[0m | \u001b[0m-0.000391\u001b[0m | \u001b[0m 0.05784 \u001b[0m | \u001b[0m 0.01553 \u001b[0m | \u001b[0m 0.1183  \u001b[0m | \u001b[0m 0.2102  \u001b[0m |\n",
      "Error :  0.0003449049485518122  ±  1.0000502615690102e-05\n",
      "| \u001b[0m 16      \u001b[0m | \u001b[0m-0.000344\u001b[0m | \u001b[0m 0.01113 \u001b[0m | \u001b[0m 0.04199 \u001b[0m | \u001b[0m 0.1392  \u001b[0m | \u001b[0m 0.1248  \u001b[0m |\n",
      "Error :  0.0003369886687428615  ±  2.486697842448454e-05\n",
      "| \u001b[0m 17      \u001b[0m | \u001b[0m-0.000337\u001b[0m | \u001b[0m 0.005945\u001b[0m | \u001b[0m 0.05405 \u001b[0m | \u001b[0m 0.1331  \u001b[0m | \u001b[0m 0.155   \u001b[0m |\n",
      "Error :  0.0003487187602556176  ±  4.81717432107494e-05\n",
      "| \u001b[0m 18      \u001b[0m | \u001b[0m-0.000348\u001b[0m | \u001b[0m 0.09451 \u001b[0m | \u001b[0m 0.05907 \u001b[0m | \u001b[0m 0.1808  \u001b[0m | \u001b[0m 0.0421  \u001b[0m |\n",
      "Error :  0.00036749391394068587  ±  2.1810906526577484e-05\n",
      "| \u001b[0m 19      \u001b[0m | \u001b[0m-0.000367\u001b[0m | \u001b[0m 0.01479 \u001b[0m | \u001b[0m 0.08093 \u001b[0m | \u001b[0m 0.08014 \u001b[0m | \u001b[0m 0.05044 \u001b[0m |\n",
      "Error :  0.00037200285246111983  ±  5.108945068315432e-05\n",
      "| \u001b[0m 20      \u001b[0m | \u001b[0m-0.000372\u001b[0m | \u001b[0m 0.09282 \u001b[0m | \u001b[0m 0.03543 \u001b[0m | \u001b[0m 0.1504  \u001b[0m | \u001b[0m 0.2181  \u001b[0m |\n",
      "Error :  0.0003752953087881661  ±  5.365051650049641e-05\n",
      "| \u001b[0m 21      \u001b[0m | \u001b[0m-0.000375\u001b[0m | \u001b[0m 0.08845 \u001b[0m | \u001b[0m 0.06274 \u001b[0m | \u001b[0m 0.1504  \u001b[0m | \u001b[0m 0.1053  \u001b[0m |\n",
      "Error :  0.00030682404685600896  ±  2.199873907316004e-05\n",
      "| \u001b[0m 22      \u001b[0m | \u001b[0m-0.000306\u001b[0m | \u001b[0m 0.02772 \u001b[0m | \u001b[0m 0.08969 \u001b[0m | \u001b[0m 0.08619 \u001b[0m | \u001b[0m 0.2895  \u001b[0m |\n",
      "Error :  0.000351942647511629  ±  1.0496575358267686e-05\n",
      "| \u001b[0m 23      \u001b[0m | \u001b[0m-0.000351\u001b[0m | \u001b[0m 0.06668 \u001b[0m | \u001b[0m 0.06255 \u001b[0m | \u001b[0m 0.02383 \u001b[0m | \u001b[0m 0.2849  \u001b[0m |\n",
      "Error :  0.0003933217187944502  ±  5.0560227295206416e-05\n",
      "| \u001b[0m 24      \u001b[0m | \u001b[0m-0.000393\u001b[0m | \u001b[0m 0.04554 \u001b[0m | \u001b[0m 0.05826 \u001b[0m | \u001b[0m 0.08222 \u001b[0m | \u001b[0m 0.07187 \u001b[0m |\n",
      "Error :  0.00036881350066926907  ±  1.895705908700944e-05\n",
      "| \u001b[0m 25      \u001b[0m | \u001b[0m-0.000368\u001b[0m | \u001b[0m 0.09043 \u001b[0m | \u001b[0m 0.05779 \u001b[0m | \u001b[0m 0.001571\u001b[0m | \u001b[0m 0.1855  \u001b[0m |\n",
      "Error :  0.00033930327656233656  ±  4.69629142904331e-05\n",
      "| \u001b[0m 26      \u001b[0m | \u001b[0m-0.000339\u001b[0m | \u001b[0m 0.03334 \u001b[0m | \u001b[0m 0.05318 \u001b[0m | \u001b[0m 0.1773  \u001b[0m | \u001b[0m 0.1078  \u001b[0m |\n",
      "Error :  0.000675509128960727  ±  0.0003269528584165652\n",
      "| \u001b[0m 27      \u001b[0m | \u001b[0m-0.000675\u001b[0m | \u001b[0m 0.09094 \u001b[0m | \u001b[0m 0.06271 \u001b[0m | \u001b[0m 0.004148\u001b[0m | \u001b[0m 0.2789  \u001b[0m |\n",
      "Error :  0.0004241886458474569  ±  2.2220825279016923e-05\n",
      "| \u001b[0m 28      \u001b[0m | \u001b[0m-0.000424\u001b[0m | \u001b[0m 0.0694  \u001b[0m | \u001b[0m 0.09973 \u001b[0m | \u001b[0m 0.0353  \u001b[0m | \u001b[0m 0.042   \u001b[0m |\n",
      "Error :  0.00038210498940345654  ±  7.526810747438239e-05\n",
      "| \u001b[0m 29      \u001b[0m | \u001b[0m-0.000382\u001b[0m | \u001b[0m 0.09333 \u001b[0m | \u001b[0m 0.06998 \u001b[0m | \u001b[0m 0.01413 \u001b[0m | \u001b[0m 0.2269  \u001b[0m |\n",
      "Error :  0.00041344716835928214  ±  6.848587193256911e-05\n",
      "| \u001b[0m 30      \u001b[0m | \u001b[0m-0.000413\u001b[0m | \u001b[0m 0.07563 \u001b[0m | \u001b[0m 0.09238 \u001b[0m | \u001b[0m 0.1426  \u001b[0m | \u001b[0m 0.03816 \u001b[0m |\n",
      "Error :  0.0003287293125135112  ±  2.626172420363706e-05\n",
      "| \u001b[0m 31      \u001b[0m | \u001b[0m-0.000328\u001b[0m | \u001b[0m 0.002968\u001b[0m | \u001b[0m 0.003595\u001b[0m | \u001b[0m 0.006633\u001b[0m | \u001b[0m 0.07462 \u001b[0m |\n",
      "Error :  0.0003788438829523304  ±  3.1719570789580476e-05\n",
      "| \u001b[0m 32      \u001b[0m | \u001b[0m-0.000378\u001b[0m | \u001b[0m 0.08614 \u001b[0m | \u001b[0m 0.05434 \u001b[0m | \u001b[0m 0.111   \u001b[0m | \u001b[0m 0.2528  \u001b[0m |\n",
      "Error :  0.0003391622431079691  ±  6.030289091676479e-05\n",
      "| \u001b[0m 33      \u001b[0m | \u001b[0m-0.000339\u001b[0m | \u001b[0m 0.01329 \u001b[0m | \u001b[0m 0.02864 \u001b[0m | \u001b[0m 0.1176  \u001b[0m | \u001b[0m 0.2909  \u001b[0m |\n",
      "Error :  0.00037930678207206216  ±  0.00011216618181009633\n",
      "| \u001b[0m 34      \u001b[0m | \u001b[0m-0.000379\u001b[0m | \u001b[0m 0.05654 \u001b[0m | \u001b[0m 0.002846\u001b[0m | \u001b[0m 0.1603  \u001b[0m | \u001b[0m 0.07066 \u001b[0m |\n",
      "Error :  0.00039460893934399887  ±  4.950720339270972e-05\n",
      "| \u001b[0m 35      \u001b[0m | \u001b[0m-0.000394\u001b[0m | \u001b[0m 0.0809  \u001b[0m | \u001b[0m 0.0394  \u001b[0m | \u001b[0m 0.1728  \u001b[0m | \u001b[0m 0.2244  \u001b[0m |\n",
      "Error :  0.00037908821670271645  ±  4.543240245021511e-05\n",
      "| \u001b[0m 36      \u001b[0m | \u001b[0m-0.000379\u001b[0m | \u001b[0m 0.06768 \u001b[0m | \u001b[0m 0.08758 \u001b[0m | \u001b[0m 0.008106\u001b[0m | \u001b[0m 0.08912 \u001b[0m |\n",
      "Error :  0.0003530984978489298  ±  1.4557624352614537e-05\n",
      "| \u001b[0m 37      \u001b[0m | \u001b[0m-0.000353\u001b[0m | \u001b[0m 0.004112\u001b[0m | \u001b[0m 0.0938  \u001b[0m | \u001b[0m 0.01166 \u001b[0m | \u001b[0m 0.09137 \u001b[0m |\n",
      "Error :  0.0003538388603530073  ±  6.181368324271383e-05\n",
      "| \u001b[0m 38      \u001b[0m | \u001b[0m-0.000353\u001b[0m | \u001b[0m 0.05748 \u001b[0m | \u001b[0m 0.0551  \u001b[0m | \u001b[0m 0.1465  \u001b[0m | \u001b[0m 0.1157  \u001b[0m |\n",
      "Error :  0.0003384724848446041  ±  3.468070233791443e-05\n",
      "| \u001b[0m 39      \u001b[0m | \u001b[0m-0.000338\u001b[0m | \u001b[0m 0.02171 \u001b[0m | \u001b[0m 0.07391 \u001b[0m | \u001b[0m 0.1616  \u001b[0m | \u001b[0m 0.2226  \u001b[0m |\n",
      "Error :  0.00032260570086341977  ±  1.935201258229857e-05\n",
      "| \u001b[0m 40      \u001b[0m | \u001b[0m-0.000322\u001b[0m | \u001b[0m 0.03533 \u001b[0m | \u001b[0m 0.08269 \u001b[0m | \u001b[0m 0.1468  \u001b[0m | \u001b[0m 0.2366  \u001b[0m |\n",
      "Error :  0.0003356790983825384  ±  2.5904184642516915e-05\n",
      "| \u001b[0m 41      \u001b[0m | \u001b[0m-0.000335\u001b[0m | \u001b[0m 0.09277 \u001b[0m | \u001b[0m 0.06444 \u001b[0m | \u001b[0m 0.08783 \u001b[0m | \u001b[0m 0.169   \u001b[0m |\n",
      "Error :  0.00032813737533626185  ±  2.302359442246539e-05\n",
      "| \u001b[0m 42      \u001b[0m | \u001b[0m-0.000328\u001b[0m | \u001b[0m 0.0615  \u001b[0m | \u001b[0m 0.08709 \u001b[0m | \u001b[0m 0.1467  \u001b[0m | \u001b[0m 0.2962  \u001b[0m |\n",
      "Error :  0.0003427290717614927  ±  2.4574094870799844e-05\n",
      "| \u001b[0m 43      \u001b[0m | \u001b[0m-0.000342\u001b[0m | \u001b[0m 0.06377 \u001b[0m | \u001b[0m 0.06748 \u001b[0m | \u001b[0m 0.06897 \u001b[0m | \u001b[0m 0.2786  \u001b[0m |\n",
      "Error :  0.00033551064548569795  ±  2.2150085997547326e-05\n",
      "| \u001b[0m 44      \u001b[0m | \u001b[0m-0.000335\u001b[0m | \u001b[0m 0.02013 \u001b[0m | \u001b[0m 0.02741 \u001b[0m | \u001b[0m 0.06388 \u001b[0m | \u001b[0m 0.2642  \u001b[0m |\n",
      "Error :  0.0003608315530565953  ±  1.2518223746600082e-05\n",
      "| \u001b[0m 45      \u001b[0m | \u001b[0m-0.000360\u001b[0m | \u001b[0m 0.01571 \u001b[0m | \u001b[0m 0.06528 \u001b[0m | \u001b[0m 0.1286  \u001b[0m | \u001b[0m 0.1354  \u001b[0m |\n"
     ]
    },
    {
     "name": "stdout",
     "output_type": "stream",
     "text": [
      "Error :  0.0022917554780715137  ±  6.56826541300523e-05\n",
      "| \u001b[0m 46      \u001b[0m | \u001b[0m-0.002292\u001b[0m | \u001b[0m 0.0345  \u001b[0m | \u001b[0m 0.09518 \u001b[0m | \u001b[0m 0.1667  \u001b[0m | \u001b[0m 0.007506\u001b[0m |\n",
      "Error :  0.00040942789058196594  ±  4.405087230091962e-05\n",
      "| \u001b[0m 47      \u001b[0m | \u001b[0m-0.000409\u001b[0m | \u001b[0m 0.08433 \u001b[0m | \u001b[0m 0.03654 \u001b[0m | \u001b[0m 0.1872  \u001b[0m | \u001b[0m 0.08849 \u001b[0m |\n",
      "Error :  0.0003393274937930289  ±  4.405745639830623e-05\n",
      "| \u001b[0m 48      \u001b[0m | \u001b[0m-0.000339\u001b[0m | \u001b[0m 0.02376 \u001b[0m | \u001b[0m 0.04288 \u001b[0m | \u001b[0m 0.106   \u001b[0m | \u001b[0m 0.198   \u001b[0m |\n",
      "Error :  0.0008687682208497966  ±  0.000712067814848568\n",
      "| \u001b[0m 49      \u001b[0m | \u001b[0m-0.000868\u001b[0m | \u001b[0m 0.03457 \u001b[0m | \u001b[0m 0.04732 \u001b[0m | \u001b[0m 0.03396 \u001b[0m | \u001b[0m 0.02502 \u001b[0m |\n",
      "Error :  0.0004010057448740774  ±  5.362257102147463e-05\n",
      "| \u001b[0m 50      \u001b[0m | \u001b[0m-0.000401\u001b[0m | \u001b[0m 0.05306 \u001b[0m | \u001b[0m 0.08105 \u001b[0m | \u001b[0m 0.05817 \u001b[0m | \u001b[0m 0.1671  \u001b[0m |\n",
      "Error :  0.00031239132147973755  ±  4.294007707076349e-05\n",
      "| \u001b[0m 51      \u001b[0m | \u001b[0m-0.000312\u001b[0m | \u001b[0m 0.07862 \u001b[0m | \u001b[0m 0.03978 \u001b[0m | \u001b[0m 0.06338 \u001b[0m | \u001b[0m 0.2478  \u001b[0m |\n",
      "Error :  0.00041226500563602174  ±  1.1672639300847027e-05\n",
      "| \u001b[0m 52      \u001b[0m | \u001b[0m-0.000412\u001b[0m | \u001b[0m 0.05099 \u001b[0m | \u001b[0m 0.05306 \u001b[0m | \u001b[0m 0.03752 \u001b[0m | \u001b[0m 0.08899 \u001b[0m |\n",
      "Error :  0.00032441005124138415  ±  3.185401834581617e-05\n",
      "| \u001b[0m 53      \u001b[0m | \u001b[0m-0.000324\u001b[0m | \u001b[0m 0.04932 \u001b[0m | \u001b[0m 0.001671\u001b[0m | \u001b[0m 0.03987 \u001b[0m | \u001b[0m 0.2751  \u001b[0m |\n",
      "Error :  0.0004271381726659087  ±  7.641975926270909e-05\n",
      "| \u001b[0m 54      \u001b[0m | \u001b[0m-0.000427\u001b[0m | \u001b[0m 0.001201\u001b[0m | \u001b[0m 0.0974  \u001b[0m | \u001b[0m 0.1991  \u001b[0m | \u001b[0m 0.06883 \u001b[0m |\n",
      "Error :  0.0003466344939181151  ±  4.8474764210883225e-05\n",
      "| \u001b[0m 55      \u001b[0m | \u001b[0m-0.000346\u001b[0m | \u001b[0m 0.00812 \u001b[0m | \u001b[0m 0.03897 \u001b[0m | \u001b[0m 0.1464  \u001b[0m | \u001b[0m 0.1312  \u001b[0m |\n",
      "Error :  0.0003463065630518078  ±  2.1447676286662982e-05\n",
      "| \u001b[0m 56      \u001b[0m | \u001b[0m-0.000346\u001b[0m | \u001b[0m 0.02955 \u001b[0m | \u001b[0m 0.06388 \u001b[0m | \u001b[0m 0.09337 \u001b[0m | \u001b[0m 0.2293  \u001b[0m |\n",
      "Error :  0.00030919591763926493  ±  3.5246444093354465e-05\n",
      "| \u001b[0m 57      \u001b[0m | \u001b[0m-0.000309\u001b[0m | \u001b[0m 0.002719\u001b[0m | \u001b[0m 0.0247  \u001b[0m | \u001b[0m 0.1761  \u001b[0m | \u001b[0m 0.124   \u001b[0m |\n",
      "Error :  0.0004068631854782441  ±  3.706672833781957e-05\n",
      "| \u001b[0m 58      \u001b[0m | \u001b[0m-0.000406\u001b[0m | \u001b[0m 0.09611 \u001b[0m | \u001b[0m 0.0718  \u001b[0m | \u001b[0m 0.1259  \u001b[0m | \u001b[0m 0.0541  \u001b[0m |\n",
      "Error :  0.0022096537053824055  ±  0.0001635958378071604\n",
      "| \u001b[0m 59      \u001b[0m | \u001b[0m-0.00221 \u001b[0m | \u001b[0m 0.0458  \u001b[0m | \u001b[0m 0.08231 \u001b[0m | \u001b[0m 0.03603 \u001b[0m | \u001b[0m 0.01265 \u001b[0m |\n",
      "Error :  0.00040767708682104596  ±  2.5805593421939342e-05\n",
      "| \u001b[0m 60      \u001b[0m | \u001b[0m-0.000407\u001b[0m | \u001b[0m 0.09834 \u001b[0m | \u001b[0m 0.03957 \u001b[0m | \u001b[0m 0.02174 \u001b[0m | \u001b[0m 0.1366  \u001b[0m |\n",
      "Error :  0.000353647111820006  ±  2.5137041834318944e-05\n",
      "| \u001b[0m 61      \u001b[0m | \u001b[0m-0.000353\u001b[0m | \u001b[0m 0.06715 \u001b[0m | \u001b[0m 0.07442 \u001b[0m | \u001b[0m 0.1339  \u001b[0m | \u001b[0m 0.05797 \u001b[0m |\n",
      "Error :  0.0003567994697432693  ±  3.4246785879770545e-05\n",
      "| \u001b[0m 62      \u001b[0m | \u001b[0m-0.000356\u001b[0m | \u001b[0m 0.0523  \u001b[0m | \u001b[0m 0.04601 \u001b[0m | \u001b[0m 0.04352 \u001b[0m | \u001b[0m 0.05603 \u001b[0m |\n",
      "Error :  0.0003608354196504933  ±  3.730052189604422e-05\n",
      "| \u001b[0m 63      \u001b[0m | \u001b[0m-0.000360\u001b[0m | \u001b[0m 0.07641 \u001b[0m | \u001b[0m 0.02153 \u001b[0m | \u001b[0m 0.04412 \u001b[0m | \u001b[0m 0.267   \u001b[0m |\n",
      "Error :  0.0009871543734974164  ±  0.0009095740782042374\n",
      "| \u001b[0m 64      \u001b[0m | \u001b[0m-0.000987\u001b[0m | \u001b[0m 0.05439 \u001b[0m | \u001b[0m 0.04525 \u001b[0m | \u001b[0m 0.1242  \u001b[0m | \u001b[0m 0.01001 \u001b[0m |\n",
      "Error :  0.0004089176947796782  ±  6.243447500257061e-05\n",
      "| \u001b[0m 65      \u001b[0m | \u001b[0m-0.000408\u001b[0m | \u001b[0m 0.05476 \u001b[0m | \u001b[0m 0.08198 \u001b[0m | \u001b[0m 0.04269 \u001b[0m | \u001b[0m 0.2136  \u001b[0m |\n",
      "Error :  0.00037672388182582854  ±  4.308508075066599e-05\n",
      "| \u001b[0m 66      \u001b[0m | \u001b[0m-0.000376\u001b[0m | \u001b[0m 0.07149 \u001b[0m | \u001b[0m 0.09368 \u001b[0m | \u001b[0m 0.0961  \u001b[0m | \u001b[0m 0.07776 \u001b[0m |\n",
      "Error :  0.0003330921640071543  ±  5.668359594015792e-06\n",
      "| \u001b[0m 67      \u001b[0m | \u001b[0m-0.000333\u001b[0m | \u001b[0m 0.04612 \u001b[0m | \u001b[0m 0.09252 \u001b[0m | \u001b[0m 0.1209  \u001b[0m | \u001b[0m 0.2483  \u001b[0m |\n",
      "Error :  0.00036883552127564085  ±  7.800498807019548e-06\n",
      "| \u001b[0m 68      \u001b[0m | \u001b[0m-0.000368\u001b[0m | \u001b[0m 0.01952 \u001b[0m | \u001b[0m 0.06026 \u001b[0m | \u001b[0m 0.03405 \u001b[0m | \u001b[0m 0.02734 \u001b[0m |\n",
      "Error :  0.0004118552892576795  ±  4.274163214514077e-05\n",
      "| \u001b[0m 69      \u001b[0m | \u001b[0m-0.000411\u001b[0m | \u001b[0m 0.02271 \u001b[0m | \u001b[0m 0.06079 \u001b[0m | \u001b[0m 0.04298 \u001b[0m | \u001b[0m 0.1995  \u001b[0m |\n",
      "Error :  0.0003849067684849467  ±  8.450634436741878e-05\n",
      "| \u001b[0m 70      \u001b[0m | \u001b[0m-0.000384\u001b[0m | \u001b[0m 0.07065 \u001b[0m | \u001b[0m 0.01885 \u001b[0m | \u001b[0m 0.01117 \u001b[0m | \u001b[0m 0.2171  \u001b[0m |\n",
      "=========================================================================\n",
      "Best Value :  {'target': -0.000300795403377215, 'params': {'alpha0': 0.01121937465118656, 'alpha1': 0.04534145909141461, 'alpha2': 0.18181050511552602, 'alpha3': 0.08879063036373017}}\n"
     ]
    }
   ],
   "source": [
    "pbounds = { 'alpha0' : (0.001, 0.1), \n",
    "            'alpha1' : (0.001, 0.1), \n",
    "            'alpha2' : (0.001, 0.2), \n",
    "            'alpha3' : (0.001, 0.3)}\n",
    "\n",
    "optimizer = BayesianOptimization(\n",
    "    f=bootstrapModel,\n",
    "    pbounds=pbounds,\n",
    "    verbose=2,\n",
    "    random_state=1\n",
    ")\n",
    "\n",
    "optimizer.maximize(init_points=35, n_iter=35)\n",
    "\n",
    "print(\"Best Value : \" , optimizer.max)\n",
    "Best = optimizer.max"
   ]
  },
  {
   "cell_type": "code",
   "execution_count": 211,
   "metadata": {},
   "outputs": [
    {
     "data": {
      "text/plain": [
       "<tensorflow.python.keras.callbacks.History at 0x7fcae6b41460>"
      ]
     },
     "execution_count": 211,
     "metadata": {},
     "output_type": "execute_result"
    }
   ],
   "source": [
    "Best = {'target': -0.0002807046020602577, \n",
    "        'params': {\n",
    "             'numNeurons0': 442.4355193651524, \n",
    "             'numNeurons1': 517.3567597070893, \n",
    "             'numNeurons2': 387.22582046043493,\n",
    "             'dropout'    : 0.01841923339536132,\n",
    "             'alpha0': 0.01121937465118656, \n",
    "             'alpha1': 0.04534145909141461, \n",
    "             'alpha2': 0.18181050511552602, \n",
    "             'alpha3': 0.08879063036373017 }}\n",
    "\n",
    "alpha0 = Best['params']['alpha0']\n",
    "alpha1 = Best['params']['alpha1']\n",
    "alpha2 = Best['params']['alpha2']\n",
    "alpha3 = Best['params']['alpha3']\n",
    "dropout = Best['params']['dropout']\n",
    "numNeurons0 = Best['params']['numNeurons0']\n",
    "numNeurons1 = Best['params']['numNeurons1']\n",
    "numNeurons2 = Best['params']['numNeurons2']\n",
    "\n",
    "indexToKey = [key for key in data.keys() if key not in \"bins\"]\n",
    "indexToKey.sort()\n",
    "indexToKey = np.array(indexToKey)\n",
    "\n",
    "xDim = len(data[indexToKey[0]])\n",
    "yDim = len(indexToKey)\n",
    "\n",
    "model = getModel(xDim, yDim, numNeurons0, numNeurons1, numNeurons2, alpha0, alpha1, alpha2, alpha3, dropout)\n",
    "\n",
    "model.compile(loss = \"mae\", optimizer = Adam() )\n",
    "\n",
    "monitor = EarlyStopping(monitor='val_loss', min_delta=1e-8, \n",
    "                        patience=10, verbose=0,\n",
    "                        mode='min', restore_best_weights=True)\n",
    "\n",
    "x,y = loadRandomGaussianData(data, 10000)\n",
    "        \n",
    "model.fit(x, y, validation_split=0.1, batch_size = 120, callbacks=[monitor], verbose=0, epochs=10000)"
   ]
  },
  {
   "cell_type": "code",
   "execution_count": 212,
   "metadata": {},
   "outputs": [
    {
     "name": "stdout",
     "output_type": "stream",
     "text": [
      "0.00018207762746480502  ±  1.528016189515774e-05\n"
     ]
    }
   ],
   "source": [
    "meanErr = []\n",
    "for _ in range(30):\n",
    "    xtest, ytest = loadRandomGaussianData(data, 5000)\n",
    "    error = metrics.mean_squared_error(ytest, model(xtest))\n",
    "    meanErr.append(error)\n",
    "    \n",
    "print(np.mean(meanErr), \" ± \", np.std(meanErr))"
   ]
  },
  {
   "cell_type": "code",
   "execution_count": null,
   "metadata": {},
   "outputs": [],
   "source": [
    "# (0, 4) and 100 Bins -> 0.000207\n",
    "# (0, 4) and 50 Bins -> 0.000182 ± 1.5e-5\n",
    "# (0, 1) and 100 Bins -> 0.000112 ± 2e-5\n",
    "# ()"
   ]
  },
  {
   "cell_type": "code",
   "execution_count": 213,
   "metadata": {},
   "outputs": [
    {
     "data": {
      "text/plain": [
       "<matplotlib.legend.Legend at 0x7fcb1e8b5850>"
      ]
     },
     "execution_count": 213,
     "metadata": {},
     "output_type": "execute_result"
    },
    {
     "data": {
      "image/png": "[encoded data removed]",
      "text/plain": [
       "<Figure size 432x288 with 1 Axes>"
      ]
     },
     "metadata": {
      "needs_background": "light"
     },
     "output_type": "display_data"
    }
   ],
   "source": [
    "i = 10\n",
    "plt.plot(ytest[i], label = \"actual\")\n",
    "plt.plot(model(xtest)[i])\n",
    "plt.legend()"
   ]
  },
  {
   "cell_type": "code",
   "execution_count": 203,
   "metadata": {},
   "outputs": [
    {
     "data": {
      "text/plain": [
       "[<matplotlib.lines.Line2D at 0x7fcb63442f70>]"
      ]
     },
     "execution_count": 203,
     "metadata": {},
     "output_type": "execute_result"
    },
    {
     "data": {
      "image/png": "[encoded data removed]",
      "text/plain": [
       "<Figure size 432x288 with 1 Axes>"
      ]
     },
     "metadata": {
      "needs_background": "light"
     },
     "output_type": "display_data"
    }
   ],
   "source": [
    "plt.plot(data[\"bins\"], xtest[-10])"
   ]
  },
  {
   "cell_type": "code",
   "execution_count": 206,
   "metadata": {},
   "outputs": [
    {
     "data": {
      "image/png": "[encoded data removed]",
      "text/plain": [
       "<Figure size 432x288 with 1 Axes>"
      ]
     },
     "metadata": {
      "needs_background": "light"
     },
     "output_type": "display_data"
    }
   ],
   "source": [
    "for k in data:\n",
    "    plt.plot(data[\"bins\"], data[k])"
   ]
  },
  {
   "cell_type": "code",
   "execution_count": null,
   "metadata": {},
   "outputs": [],
   "source": []
  }
 ],
 "metadata": {
  "kernelspec": {
   "display_name": "Python 3",
   "language": "python",
   "name": "python3"
  },
  "language_info": {
   "codemirror_mode": {
    "name": "ipython",
    "version": 3
   },
   "file_extension": ".py",
   "mimetype": "text/x-python",
   "name": "python",
   "nbconvert_exporter": "python",
   "pygments_lexer": "ipython3",
   "version": "3.8.1"
  }
 },
 "nbformat": 4,
 "nbformat_minor": 4
}
