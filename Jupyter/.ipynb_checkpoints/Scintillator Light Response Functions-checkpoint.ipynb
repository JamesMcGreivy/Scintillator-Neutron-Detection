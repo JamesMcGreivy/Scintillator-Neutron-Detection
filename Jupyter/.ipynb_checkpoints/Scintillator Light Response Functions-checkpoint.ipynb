{
 "cells": [
  {
   "cell_type": "code",
   "execution_count": 7,
   "metadata": {},
   "outputs": [],
   "source": [
    "import pandas as pd\n",
    "import numpy as np\n",
    "import matplotlib.pyplot as plt\n",
    "from scipy import interpolate\n",
    "from scipy import optimize\n",
    "import os\n",
    "import multiprocessing as mp\n",
    "\n",
    "plt.style.use('seaborn')"
   ]
  },
  {
   "cell_type": "code",
   "execution_count": 8,
   "metadata": {},
   "outputs": [],
   "source": [
    "# Creates a \"particle tree\" which is a dictionary containing\n",
    "# { event0 : {ptcls} , event1 : {ptcls} , ... }\n",
    "# \"ptcls\" contains:\n",
    "# { ptclID : { \"allEvents\" : [] , \"children\" : {ptcls} } }\n",
    "# where \"allEvents\" is every event performed by the particle with ID == ptclID\n",
    "# and \"children\" recursively stores \"ptcls\" structures for each child\n",
    "\n",
    "def buildPtclTree(filePath):\n",
    "    ptclTree = {}\n",
    "    \n",
    "    data = np.array(pd.read_csv(filePath))\n",
    "    \n",
    "    IDtoRow = {}\n",
    "    for row in data:\n",
    "        IDtoRow[row[0]] = row\n",
    "\n",
    "    for row in data:\n",
    "        skipRow = False\n",
    "        \n",
    "        # Stack of parents\n",
    "        IDStack = []\n",
    "        ID = row[0]\n",
    "        while \"-0\" not in ID:\n",
    "            IDStack.append(ID)\n",
    "            if ID not in IDtoRow:\n",
    "                skipRow = True\n",
    "                break\n",
    "            ID = IDtoRow[ID][1]\n",
    "            \n",
    "        if skipRow :\n",
    "            continue\n",
    "\n",
    "        ID = 0\n",
    "        currTree = ptclTree\n",
    "        while True:\n",
    "            ID = IDStack.pop()\n",
    "            if ID not in currTree:\n",
    "                currTree[ID] = { \"allEvents\" : [] , \"children\" : {} }\n",
    "\n",
    "            if len(IDStack) == 0:\n",
    "                currTree = currTree[ID]\n",
    "                break\n",
    "\n",
    "            currTree = currTree[ID][\"children\"]\n",
    "\n",
    "        currTree[\"allEvents\"].append(row)\n",
    "        \n",
    "    return ptclTree\n",
    "\n"
   ]
  },
  {
   "cell_type": "code",
   "execution_count": 9,
   "metadata": {},
   "outputs": [],
   "source": [
    "# Takes in a \"ptcl\" and a material name, and finds the total energy deposited \n",
    "# by this particle, and all of its children, into that material\n",
    "\n",
    "def netEDep(ptclInTree, materialName):\n",
    "    eDep = 0\n",
    "    for event in ptclInTree[\"allEvents\"]:\n",
    "        if event[4] in materialName:\n",
    "            eDep += event[3]\n",
    "    for child in ptclInTree[\"children\"].values():\n",
    "        eDep += netEDep(child, materialName)\n",
    "    ptclInTree[\"totalEDep\"] = eDep\n",
    "    return eDep\n",
    "\n",
    "# Takes in a \"ptcl\" and a particle type, and if this particle or any of its\n",
    "# children have that type\n",
    "\n",
    "def hasNoChildrenOfType(ptclInTree, ptclType):\n",
    "    hasChild = True\n",
    "    \n",
    "    if ptclInTree[\"allEvents\"][0][2] in ptclType:\n",
    "        return False\n",
    "    \n",
    "    for child in ptclInTree[\"children\"].values():\n",
    "        hasChild = hasChild and hasNoChildrenOfType(child, ptclType)\n",
    "    \n",
    "    return hasChild\n",
    "\n",
    "# Prints a particle\n",
    "\n",
    "def printPtcl(ptcl, indent = \">\"):\n",
    "    print(\"\\n\", indent , \"Particle : \" , ptcl[\"allEvents\"][0][2] , \" Energy : \" , (ptcl[\"allEvents\"][0][3] + ptcl[\"allEvents\"][0][5]) / 1e3 , \" keV \")\n",
    "    for child in ptcl[\"children\"].values():\n",
    "        printPtcl(child, \"---\" + indent)\n",
    "        \n",
    "# Takes in a particle and finds the light generated in the scintillator \n",
    "# by the particle, or any of its children. \n",
    "# -> pRF is the \"proton response function\" which takes total energy deposited by a proton and \n",
    "\n",
    "def ptclLightYield(ptcl, pRF):\n",
    "    pEDep = 0\n",
    "    cEDep = 0\n",
    "    \n",
    "    for event in ptcl[\"allEvents\"]:\n",
    "        ptclType = event[2]\n",
    "        if ptclType not in \"proton C12 C13\":\n",
    "            break\n",
    "        if event[4] not in \"ej309\":\n",
    "            continue\n",
    "        if ptclType in \"proton\":\n",
    "            pEDep += event[3]\n",
    "        if ptclType in \"C12 C13\":\n",
    "            cEDep += event[3]\n",
    "        \n",
    "    \n",
    "    lightYield = float( pRF( pEDep / 1e6 ) )\n",
    "    for child in ptcl[\"children\"].values():\n",
    "        lightYield += ptclLightYield(child, pRF)\n",
    "    \n",
    "    return lightYield\n",
    "\n"
   ]
  },
  {
   "cell_type": "code",
   "execution_count": 10,
   "metadata": {},
   "outputs": [],
   "source": [
    "protonLightYield = np.array(pd.read_csv(\"EJ309Light.txt\", delimiter=' ', header = None))\n",
    "x = np.append(np.array([0]), protonLightYield[:,0])\n",
    "y = np.append(np.array([0]), protonLightYield[:,1])"
   ]
  },
  {
   "cell_type": "code",
   "execution_count": 11,
   "metadata": {},
   "outputs": [
    {
     "data": {
      "image/png": "[encoded data removed]",
      "text/plain": [
       "<Figure size 576x396 with 1 Axes>"
      ]
     },
     "metadata": {},
     "output_type": "display_data"
    }
   ],
   "source": [
    "plt.scatter(x, y, label=\"col1\")\n",
    "\n",
    "def f(x, A, B, C, D, E, F, G):\n",
    "    return A*x + B*x**2 + C*x**3 + D*x**4 + E*x**5 + F*x**6 + G*x**7\n",
    "\n",
    "popt, pcov = optimize.curve_fit(f, x, y)\n",
    "\n",
    "plt.plot(x, f(x, *popt))\n",
    "\n",
    "plt.xlabel(\"Proton Energy Deposition (MeV)\")\n",
    "plt.ylabel(\"Light Yield (MeVee)\")\n",
    "plt.legend()\n",
    "\n",
    "pRF = lambda x : f(x, *popt)"
   ]
  },
  {
   "cell_type": "code",
   "execution_count": 6,
   "metadata": {},
   "outputs": [
    {
     "ename": "NameError",
     "evalue": "name 'ptclTree' is not defined",
     "output_type": "error",
     "traceback": [
      "\u001b[0;31m---------------------------------------------------------------------------\u001b[0m",
      "\u001b[0;31mNameError\u001b[0m                                 Traceback (most recent call last)",
      "\u001b[0;32m<ipython-input-6-1429002c2293>\u001b[0m in \u001b[0;36m<module>\u001b[0;34m\u001b[0m\n\u001b[1;32m      1\u001b[0m \u001b[0mIDtoLightYield\u001b[0m \u001b[0;34m=\u001b[0m \u001b[0;34m{\u001b[0m\u001b[0;34m}\u001b[0m\u001b[0;34m\u001b[0m\u001b[0;34m\u001b[0m\u001b[0m\n\u001b[0;32m----> 2\u001b[0;31m \u001b[0;32mfor\u001b[0m \u001b[0mID\u001b[0m \u001b[0;32min\u001b[0m \u001b[0mptclTree\u001b[0m\u001b[0;34m:\u001b[0m\u001b[0;34m\u001b[0m\u001b[0;34m\u001b[0m\u001b[0m\n\u001b[0m\u001b[1;32m      3\u001b[0m     \u001b[0mlightYield\u001b[0m \u001b[0;34m=\u001b[0m \u001b[0mptclLightYield\u001b[0m\u001b[0;34m(\u001b[0m\u001b[0mptclTree\u001b[0m\u001b[0;34m[\u001b[0m\u001b[0mID\u001b[0m\u001b[0;34m]\u001b[0m\u001b[0;34m,\u001b[0m \u001b[0mpRF\u001b[0m\u001b[0;34m)\u001b[0m\u001b[0;34m\u001b[0m\u001b[0;34m\u001b[0m\u001b[0m\n\u001b[1;32m      4\u001b[0m     \u001b[0;32mif\u001b[0m \u001b[0mlightYield\u001b[0m \u001b[0;34m>\u001b[0m \u001b[0;36m0.0\u001b[0m\u001b[0;34m:\u001b[0m\u001b[0;34m\u001b[0m\u001b[0;34m\u001b[0m\u001b[0m\n\u001b[1;32m      5\u001b[0m         \u001b[0mIDtoLightYield\u001b[0m\u001b[0;34m[\u001b[0m\u001b[0mID\u001b[0m\u001b[0;34m]\u001b[0m \u001b[0;34m=\u001b[0m \u001b[0mlightYield\u001b[0m\u001b[0;34m\u001b[0m\u001b[0;34m\u001b[0m\u001b[0m\n",
      "\u001b[0;31mNameError\u001b[0m: name 'ptclTree' is not defined"
     ]
    }
   ],
   "source": [
    "IDtoLightYield = {}\n",
    "for ID in ptclTree:\n",
    "    lightYield = ptclLightYield(ptclTree[ID], pRF)\n",
    "    if lightYield > 0.0:\n",
    "        IDtoLightYield[ID] = lightYield\n",
    "lightYield = IDtoLightYield.values()"
   ]
  },
  {
   "cell_type": "code",
   "execution_count": 13,
   "metadata": {},
   "outputs": [],
   "source": [
    "def GetLightYield(data):\n",
    "    \n",
    "    ptclTree = buildPtclTree(\"../EJ309-build/data/\" + data)\n",
    "    \n",
    "    IDtoLightYield = []\n",
    "    for ID in ptclTree:\n",
    "        lightYield = ptclLightYield(ptclTree[ID], pRF)\n",
    "        if lightYield > 0.0:\n",
    "            IDtoLightYield.append(lightYield)\n",
    "            \n",
    "    return np.array(IDtoLightYield)\n"
   ]
  },
  {
   "cell_type": "code",
   "execution_count": 14,
   "metadata": {},
   "outputs": [
    {
     "ename": "TypeError",
     "evalue": "argument of type 'float' is not iterable",
     "output_type": "error",
     "traceback": [
      "\u001b[0;31m---------------------------------------------------------------------------\u001b[0m",
      "\u001b[0;31mTypeError\u001b[0m                                 Traceback (most recent call last)",
      "\u001b[0;32m<ipython-input-14-da3f97043d7c>\u001b[0m in \u001b[0;36m<module>\u001b[0;34m\u001b[0m\n\u001b[1;32m      3\u001b[0m \u001b[0;32mfor\u001b[0m \u001b[0mfilename\u001b[0m \u001b[0;32min\u001b[0m \u001b[0mos\u001b[0m\u001b[0;34m.\u001b[0m\u001b[0mlistdir\u001b[0m\u001b[0;34m(\u001b[0m\u001b[0;34m\"../EJ309-build/data/\"\u001b[0m\u001b[0;34m)\u001b[0m\u001b[0;34m:\u001b[0m\u001b[0;34m\u001b[0m\u001b[0;34m\u001b[0m\u001b[0m\n\u001b[1;32m      4\u001b[0m     \u001b[0;32mif\u001b[0m \u001b[0mfilename\u001b[0m\u001b[0;34m.\u001b[0m\u001b[0mendswith\u001b[0m\u001b[0;34m(\u001b[0m\u001b[0;34m\".csv\"\u001b[0m\u001b[0;34m)\u001b[0m\u001b[0;34m:\u001b[0m\u001b[0;34m\u001b[0m\u001b[0;34m\u001b[0m\u001b[0m\n\u001b[0;32m----> 5\u001b[0;31m         \u001b[0mdataToLightYield\u001b[0m\u001b[0;34m[\u001b[0m\u001b[0mfilename\u001b[0m\u001b[0;34m]\u001b[0m \u001b[0;34m=\u001b[0m \u001b[0mGetLightYield\u001b[0m\u001b[0;34m(\u001b[0m\u001b[0mfilename\u001b[0m\u001b[0;34m)\u001b[0m\u001b[0;34m\u001b[0m\u001b[0;34m\u001b[0m\u001b[0m\n\u001b[0m",
      "\u001b[0;32m<ipython-input-13-2d599238a8b6>\u001b[0m in \u001b[0;36mGetLightYield\u001b[0;34m(data)\u001b[0m\n\u001b[1;32m      1\u001b[0m \u001b[0;32mdef\u001b[0m \u001b[0mGetLightYield\u001b[0m\u001b[0;34m(\u001b[0m\u001b[0mdata\u001b[0m\u001b[0;34m)\u001b[0m\u001b[0;34m:\u001b[0m\u001b[0;34m\u001b[0m\u001b[0;34m\u001b[0m\u001b[0m\n\u001b[1;32m      2\u001b[0m \u001b[0;34m\u001b[0m\u001b[0m\n\u001b[0;32m----> 3\u001b[0;31m     \u001b[0mptclTree\u001b[0m \u001b[0;34m=\u001b[0m \u001b[0mbuildPtclTree\u001b[0m\u001b[0;34m(\u001b[0m\u001b[0;34m\"../EJ309-build/data/\"\u001b[0m \u001b[0;34m+\u001b[0m \u001b[0mdata\u001b[0m\u001b[0;34m)\u001b[0m\u001b[0;34m\u001b[0m\u001b[0;34m\u001b[0m\u001b[0m\n\u001b[0m\u001b[1;32m      4\u001b[0m \u001b[0;34m\u001b[0m\u001b[0m\n\u001b[1;32m      5\u001b[0m     \u001b[0mIDtoLightYield\u001b[0m \u001b[0;34m=\u001b[0m \u001b[0;34m[\u001b[0m\u001b[0;34m]\u001b[0m\u001b[0;34m\u001b[0m\u001b[0;34m\u001b[0m\u001b[0m\n",
      "\u001b[0;32m<ipython-input-8-97910c87fb65>\u001b[0m in \u001b[0;36mbuildPtclTree\u001b[0;34m(filePath)\u001b[0m\n\u001b[1;32m     21\u001b[0m         \u001b[0mIDStack\u001b[0m \u001b[0;34m=\u001b[0m \u001b[0;34m[\u001b[0m\u001b[0;34m]\u001b[0m\u001b[0;34m\u001b[0m\u001b[0;34m\u001b[0m\u001b[0m\n\u001b[1;32m     22\u001b[0m         \u001b[0mID\u001b[0m \u001b[0;34m=\u001b[0m \u001b[0mrow\u001b[0m\u001b[0;34m[\u001b[0m\u001b[0;36m0\u001b[0m\u001b[0;34m]\u001b[0m\u001b[0;34m\u001b[0m\u001b[0;34m\u001b[0m\u001b[0m\n\u001b[0;32m---> 23\u001b[0;31m         \u001b[0;32mwhile\u001b[0m \u001b[0;34m\"-0\"\u001b[0m \u001b[0;32mnot\u001b[0m \u001b[0;32min\u001b[0m \u001b[0mID\u001b[0m\u001b[0;34m:\u001b[0m\u001b[0;34m\u001b[0m\u001b[0;34m\u001b[0m\u001b[0m\n\u001b[0m\u001b[1;32m     24\u001b[0m             \u001b[0mIDStack\u001b[0m\u001b[0;34m.\u001b[0m\u001b[0mappend\u001b[0m\u001b[0;34m(\u001b[0m\u001b[0mID\u001b[0m\u001b[0;34m)\u001b[0m\u001b[0;34m\u001b[0m\u001b[0;34m\u001b[0m\u001b[0m\n\u001b[1;32m     25\u001b[0m             \u001b[0;32mif\u001b[0m \u001b[0mID\u001b[0m \u001b[0;32mnot\u001b[0m \u001b[0;32min\u001b[0m \u001b[0mIDtoRow\u001b[0m\u001b[0;34m:\u001b[0m\u001b[0;34m\u001b[0m\u001b[0;34m\u001b[0m\u001b[0m\n",
      "\u001b[0;31mTypeError\u001b[0m: argument of type 'float' is not iterable"
     ]
    }
   ],
   "source": [
    "dataToLightYield = { }\n",
    "\n",
    "for filename in os.listdir(\"../EJ309-build/data/\"):\n",
    "    if filename.endswith(\".csv\"):\n",
    "        dataToLightYield[filename] = GetLightYield(filename)"
   ]
  },
  {
   "cell_type": "code",
   "execution_count": 721,
   "metadata": {
    "scrolled": true
   },
   "outputs": [
    {
     "data": {
      "text/plain": [
       "<Figure size 576x396 with 0 Axes>"
      ]
     },
     "metadata": {},
     "output_type": "display_data"
    }
   ],
   "source": [
    "for key in dataToLightYield:\n",
    "\n",
    "    value = dataToLightYield[key]\n",
    "\n",
    "    i = key.find(\"_\")\n",
    "    ptcl = key[0:i]\n",
    "    key = key[i + 1:]\n",
    "\n",
    "    i = key.find(\"_\")\n",
    "    energy = key[0:i]\n",
    "    key = key[i + 1:]\n",
    "\n",
    "    i = key.find(\".\")\n",
    "    unit = key[0:i]\n",
    "\n",
    "    ptcl, energy, unit\n",
    "\n",
    "    try:\n",
    "        os.mkdir(\"LightOutput/\"+particle+energy+unit)\n",
    "    except:\n",
    "        pass\n",
    "\n",
    "    bins = plt.hist(value, bins = 60, density = True)\n",
    "    plt.xlabel(\"Light Output (a.u.)\")\n",
    "    plt.ylabel(\"probability density\")\n",
    "    plt.title(\"Scintillator Light Yield from \" \n",
    "               + energy + \" \" + unit + \" \" + ptcl)\n",
    "    \n",
    "    plt.ylim( 0, max(bins[0]) )\n",
    "    plt.xlim( 0, max(bins[1]) * 1.2 )\n",
    "    plt.savefig(\"LightOutput/\"+particle+energy+unit+\"/lightRF.png\")\n",
    "    \n",
    "    plt.clf()"
   ]
  },
  {
   "cell_type": "code",
   "execution_count": 16,
   "metadata": {},
   "outputs": [
    {
     "data": {
      "text/plain": [
       "(array([3., 0., 0., 0., 0., 0., 0., 0., 0., 1.]),\n",
       " array([1. , 1.1, 1.2, 1.3, 1.4, 1.5, 1.6, 1.7, 1.8, 1.9, 2. ]),\n",
       " <BarContainer object of 10 artists>)"
      ]
     },
     "execution_count": 16,
     "metadata": {},
     "output_type": "execute_result"
    },
    {
     "data": {
      "image/png": "[encoded data removed]",
      "text/plain": [
       "<Figure size 576x396 with 1 Axes>"
      ]
     },
     "metadata": {},
     "output_type": "display_data"
    }
   ],
   "source": [
    "plt.hist([1,1,1,2])"
   ]
  },
  {
   "cell_type": "code",
   "execution_count": null,
   "metadata": {},
   "outputs": [],
   "source": [
    "ptcl = \"neutron\"\n",
    "energy = \"2.5\"\n",
    "unit = \"MeV\"\n",
    "\n",
    "ptclTree1 = buildPtclTree(\"../EJ309-build/data/\"+ptcl+\"_\"+energy+\"_\"+unit+\".csv\")\n",
    "\n",
    "ptcl = \"neutron\"\n",
    "energy = \"1.5\"\n",
    "unit = \"MeV\"\n",
    "\n",
    "ptclTree2 = buildPtclTree(\"../EJ309-build/data/\"+ptcl+\"_\"+energy+\"_\"+unit+\".csv\")"
   ]
  },
  {
   "cell_type": "markdown",
   "metadata": {},
   "source": [
    "For the types of scattering plot"
   ]
  },
  {
   "cell_type": "code",
   "execution_count": 1028,
   "metadata": {},
   "outputs": [],
   "source": [
    "ptcl = \"neutron\"\n",
    "energy = \"2.45\"\n",
    "unit = \"MeV\"\n",
    "\n",
    "ptclTree = buildPtclTree(\"../EJ309-build/data/\"+ptcl+\"_\"+energy+\"_\"+unit+\".csv\")"
   ]
  },
  {
   "cell_type": "code",
   "execution_count": 1029,
   "metadata": {},
   "outputs": [],
   "source": [
    "# Separate the data into categories : \n",
    "# single np , nCp, double np, triple np, other\n",
    "\n",
    "scatterTypes = { \"single_np\" : [] , \"nCp\" : [] , \"double_np\" : [] ,\n",
    "                 \"triple_np\" : [] , \"other\" : [] }\n",
    "\n",
    "for ptcl in ptclTree.values() :\n",
    "    # Put children in list\n",
    "    children = list(ptcl[\"children\"].values())\n",
    "    # Sort by time of creation of child\n",
    "    children.sort(key = lambda x : x[\"allEvents\"][0][6])\n",
    "    \n",
    "    if len(children) == 1 and children[0][\"allEvents\"][0][2] in \"proton\":\n",
    "        scatterTypes[\"single_np\"].append(ptcl)\n",
    "    elif len(children) > 1 and children[0][\"allEvents\"][0][2] in \"proton\" and children[1][\"allEvents\"][0][2] not in \"proton\":\n",
    "        scatterTypes[\"single_np\"].append(ptcl)\n",
    "        \n",
    "    elif len(children) == 2 and np.all([ c[\"allEvents\"][0][2] in \"proton\" for c in children[:2] ]):\n",
    "        scatterTypes[\"double_np\"].append(ptcl)\n",
    "    elif len(children) > 2 and np.all([ c[\"allEvents\"][0][2] in \"proton\" for c in children[:2] ]) and children[2][\"allEvents\"][0][2] not in \"proton\":\n",
    "        scatterTypes[\"double_np\"].append(ptcl)\n",
    "        \n",
    "    elif len(children) == 3 and np.all([ c[\"allEvents\"][0][2] in \"proton\" for c in children[:3] ]):\n",
    "        scatterTypes[\"triple_np\"].append(ptcl)\n",
    "    elif len(children) > 3 and np.all([ c[\"allEvents\"][0][2] in \"proton\" for c in children[:3] ]) and children[3][\"allEvents\"][0][2] not in \"proton\":\n",
    "        scatterTypes[\"triple_np\"].append(ptcl)\n",
    "    \n",
    "    elif len(children) == 2 and children[0][\"allEvents\"][0][2] in \"proton\" and children[1][\"allEvents\"][0][2] in \"C12 C13\":\n",
    "        scatterTypes[\"nCp\"].append(ptcl)\n",
    "    elif len(children) == 2 and children[1][\"allEvents\"][0][2] in \"proton\" and children[0][\"allEvents\"][0][2] in \"C12 C13\":\n",
    "        scatterTypes[\"nCp\"].append(ptcl)\n",
    "        \n",
    "    else:\n",
    "        scatterTypes[\"other\"].append(ptcl)\n",
    "    "
   ]
  },
  {
   "cell_type": "code",
   "execution_count": 1030,
   "metadata": {},
   "outputs": [],
   "source": [
    "singleNP = np.array([ptclLightYield(ptcl, pRF) for ptcl in scatterTypes[\"single_np\"]])\n",
    "doubleNP = np.array([ptclLightYield(ptcl, pRF) for ptcl in scatterTypes[\"double_np\"]])\n",
    "tripleNP = np.array([ptclLightYield(ptcl, pRF) for ptcl in scatterTypes[\"triple_np\"]])\n",
    "nCp = np.array([ptclLightYield(ptcl, pRF) for ptcl in scatterTypes[\"nCp\"]])\n",
    "other = np.array([ptclLightYield(ptcl, pRF) for ptcl in scatterTypes[\"other\"]])\n",
    "total = np.concatenate((singleNP,doubleNP,tripleNP,nCp,other))"
   ]
  },
  {
   "cell_type": "code",
   "execution_count": 1031,
   "metadata": {},
   "outputs": [
    {
     "data": {
      "text/plain": [
       "0.02597164023364574"
      ]
     },
     "execution_count": 1031,
     "metadata": {},
     "output_type": "execute_result"
    }
   ],
   "source": [
    "np.mean(other)"
   ]
  },
  {
   "cell_type": "code",
   "execution_count": 1039,
   "metadata": {},
   "outputs": [
    {
     "data": {
      "text/plain": [
       "Text(0, 0.5, 'counts')"
      ]
     },
     "execution_count": 1039,
     "metadata": {},
     "output_type": "execute_result"
    },
    {
     "data": {
      "image/png": "[encoded data removed]",
      "text/plain": [
       "<Figure size 576x396 with 1 Axes>"
      ]
     },
     "metadata": {},
     "output_type": "display_data"
    }
   ],
   "source": [
    "data = singleNP\n",
    "colors = \"blue\"\n",
    "labels = 'singleNP'\n",
    "plt.hist(data, histtype = \"step\", color = colors, label=labels, bins = 50, linewidth = 2)\n",
    "\n",
    "data = doubleNP\n",
    "colors = \"orange\"\n",
    "labels = 'doubleNP'\n",
    "plt.hist(data, histtype = \"step\", color = colors, label=labels, bins = 50, linewidth = 2)\n",
    "\n",
    "data = tripleNP\n",
    "colors = \"purple\"\n",
    "labels = 'tripleNP'\n",
    "plt.hist(data, histtype = \"step\", color = colors, label=labels, bins = 50, linewidth = 2)\n",
    "\n",
    "data = nCp\n",
    "colors = \"green\"\n",
    "labels = 'nCp'\n",
    "plt.hist(data, histtype = \"step\", color = colors, label=labels, bins = 50, linewidth = 2)\n",
    "\n",
    "data = other\n",
    "colors = \"pink\"\n",
    "labels = 'other'\n",
    "plt.hist(data, histtype = \"step\", color = colors, label=labels, bins = 50, linewidth = 2)\n",
    "\n",
    "plt.hist(total, histtype = \"step\", bins = 50, linewidth = 2, label=\"sum\", color=\"red\")\n",
    "\n",
    "plt.legend()\n",
    "plt.xlim(0,2.2)\n",
    "plt.ylim(0,600)\n",
    "plt.ylabel(\"counts\")"
   ]
  },
  {
   "cell_type": "code",
   "execution_count": null,
   "metadata": {},
   "outputs": [],
   "source": []
  }
 ],
 "metadata": {
  "kernelspec": {
   "display_name": "Python 3",
   "language": "python",
   "name": "python3"
  },
  "language_info": {
   "codemirror_mode": {
    "name": "ipython",
    "version": 3
   },
   "file_extension": ".py",
   "mimetype": "text/x-python",
   "name": "python",
   "nbconvert_exporter": "python",
   "pygments_lexer": "ipython3",
   "version": "3.8.1"
  }
 },
 "nbformat": 4,
 "nbformat_minor": 4
}
