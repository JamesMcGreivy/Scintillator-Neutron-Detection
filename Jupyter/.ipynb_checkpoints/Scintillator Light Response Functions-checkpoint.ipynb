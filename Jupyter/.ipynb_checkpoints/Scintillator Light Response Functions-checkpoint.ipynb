{
 "cells": [
  {
   "cell_type": "code",
   "execution_count": 433,
   "metadata": {},
   "outputs": [],
   "source": [
    "import pandas as pd\n",
    "import numpy as np\n",
    "import matplotlib.pyplot as plt\n",
    "from scipy import interpolate\n",
    "from scipy import optimize\n",
    "import os\n",
    "plt.style.use('seaborn')"
   ]
  },
  {
   "cell_type": "code",
   "execution_count": 434,
   "metadata": {},
   "outputs": [],
   "source": [
    "# Creates a \"particle tree\" which is a dictionary containing\n",
    "# { event0 : {ptcls} , event1 : {ptcls} , ... }\n",
    "# \"ptcls\" contains:\n",
    "# { ptclID : { \"allEvents\" : [] , \"children\" : {ptcls} } }\n",
    "# where \"allEvents\" is every event performed by the particle with ID == ptclID\n",
    "# and \"children\" recursively stores \"ptcls\" structures for each child\n",
    "\n",
    "def buildPtclTree(filePath):\n",
    "    ptclTree = {}\n",
    "    \n",
    "    data = np.array(pd.read_csv(filePath))\n",
    "    \n",
    "    IDtoRow = {}\n",
    "    for row in data:\n",
    "        IDtoRow[row[0]] = row\n",
    "\n",
    "    for row in data:\n",
    "        skipRow = False\n",
    "        \n",
    "        # Stack of parents\n",
    "        IDStack = []\n",
    "        ID = row[0]\n",
    "        while \"-0\" not in ID:\n",
    "            IDStack.append(ID)\n",
    "            if ID not in IDtoRow:\n",
    "                skipRow = True\n",
    "                break\n",
    "            ID = IDtoRow[ID][1]\n",
    "            \n",
    "        if skipRow :\n",
    "            continue\n",
    "\n",
    "        ID = 0\n",
    "        currTree = ptclTree\n",
    "        while True:\n",
    "            ID = IDStack.pop()\n",
    "            if ID not in currTree:\n",
    "                currTree[ID] = {\"allEvents\" : [] , \"children\" : {} , \"totalEDep\" : -1}\n",
    "\n",
    "            if len(IDStack) == 0:\n",
    "                currTree = currTree[ID]\n",
    "                break\n",
    "\n",
    "            currTree = currTree[ID][\"children\"]\n",
    "\n",
    "        currTree[\"allEvents\"].append(row)\n",
    "        \n",
    "    return ptclTree\n",
    "\n"
   ]
  },
  {
   "cell_type": "code",
   "execution_count": 435,
   "metadata": {},
   "outputs": [],
   "source": [
    "# Takes in a \"ptcl\" and a material name, and finds the total energy deposited \n",
    "# by this particle, and all of its children, into that material\n",
    "\n",
    "def netEDep(ptclInTree, materialName):\n",
    "    eDep = 0\n",
    "    for event in ptclInTree[\"allEvents\"]:\n",
    "        if event[4] in materialName:\n",
    "            eDep += event[3]\n",
    "    for child in ptclInTree[\"children\"].values():\n",
    "        eDep += netEDep(child, materialName)\n",
    "    ptclInTree[\"totalEDep\"] = eDep\n",
    "    return eDep\n",
    "\n",
    "# Takes in a \"ptcl\" and a particle type, and if this particle or any of its\n",
    "# children have that type\n",
    "\n",
    "def hasNoChildrenOfType(ptclInTree, ptclType):\n",
    "    hasChild = True\n",
    "    \n",
    "    if ptclInTree[\"allEvents\"][0][2] in ptclType:\n",
    "        return False\n",
    "    \n",
    "    for child in ptclInTree[\"children\"].values():\n",
    "        hasChild = hasChild and hasNoChildrenOfType(child, ptclType)\n",
    "    \n",
    "    return hasChild\n",
    "\n",
    "# Prints a particle\n",
    "\n",
    "def printPtcl(ptcl, indent = \">\"):\n",
    "    print(\"\\n\", indent , \"Particle : \" , ptcl[\"allEvents\"][0][2] , \" Energy : \" , (ptcl[\"allEvents\"][0][3] + ptcl[\"allEvents\"][0][5]) / 1e3 , \" keV \")\n",
    "    for child in ptcl[\"children\"].values():\n",
    "        printPtcl(child, \"---\" + indent)\n",
    "        \n",
    "# Takes in a particle and finds the light generated in the scintillator \n",
    "# by the particle, or any of its children. \n",
    "# -> pRF is the \"proton response function\" which takes total energy deposited by a proton and \n",
    "\n",
    "def ptclLightYield(ptcl, pRF):\n",
    "    pEDep = 0\n",
    "    cEDep = 0\n",
    "    \n",
    "    for event in ptcl[\"allEvents\"]:\n",
    "        ptclType = event[2]\n",
    "        if ptclType not in \"proton C12 C13\":\n",
    "            break\n",
    "        if event[4] not in \"ej309\":\n",
    "            continue\n",
    "        if ptclType in \"proton\":\n",
    "            pEDep += event[3]\n",
    "        if ptclType in \"C12 C13\":\n",
    "            cEDep += event[3]\n",
    "        \n",
    "    \n",
    "    lightYield = float( pRF( pEDep / 1e6 ) )\n",
    "    for child in ptcl[\"children\"].values():\n",
    "        lightYield += ptclLightYield(child, pRF)\n",
    "    \n",
    "    return lightYield\n",
    "\n"
   ]
  },
  {
   "cell_type": "code",
   "execution_count": 436,
   "metadata": {},
   "outputs": [],
   "source": [
    "protonLightYield = np.array(pd.read_csv(\"EJ309Light.txt\", delimiter=' ', header = None))\n",
    "x = np.append(np.array([0]), protonLightYield[:,0])\n",
    "y = np.append(np.array([0]), protonLightYield[:,1])"
   ]
  },
  {
   "cell_type": "code",
   "execution_count": 437,
   "metadata": {},
   "outputs": [
    {
     "data": {
      "image/png": "[encoded data removed]",
      "text/plain": [
       "<Figure size 576x396 with 1 Axes>"
      ]
     },
     "metadata": {},
     "output_type": "display_data"
    }
   ],
   "source": [
    "plt.scatter(x, y, label=\"col1\")\n",
    "\n",
    "def f(x, A, B, C, D, E, F, G):\n",
    "    return A*x + B*x**2 + C*x**3 + D*x**4 + E*x**5 + F*x**6 + G*x**7\n",
    "\n",
    "popt, pcov = optimize.curve_fit(f, x, y)\n",
    "\n",
    "plt.plot(x, f(x, *popt))\n",
    "\n",
    "plt.xlabel(\"Proton Energy Deposition (MeV)\")\n",
    "plt.ylabel(\"Light Yield (MeVee)\")\n",
    "plt.legend()\n",
    "\n",
    "pRF = lambda x : f(x, *popt)"
   ]
  },
  {
   "cell_type": "code",
   "execution_count": 444,
   "metadata": {},
   "outputs": [
    {
     "ename": "TypeError",
     "evalue": "'>' not supported between instances of 'str' and 'int'",
     "output_type": "error",
     "traceback": [
      "\u001b[0;31m---------------------------------------------------------------------------\u001b[0m",
      "\u001b[0;31mTypeError\u001b[0m                                 Traceback (most recent call last)",
      "\u001b[0;32m<ipython-input-444-e46278fc94ab>\u001b[0m in \u001b[0;36m<module>\u001b[0;34m\u001b[0m\n\u001b[1;32m      9\u001b[0m     \u001b[0;32mpass\u001b[0m\u001b[0;34m\u001b[0m\u001b[0;34m\u001b[0m\u001b[0m\n\u001b[1;32m     10\u001b[0m \u001b[0;34m\u001b[0m\u001b[0m\n\u001b[0;32m---> 11\u001b[0;31m \u001b[0mptclTree\u001b[0m \u001b[0;34m=\u001b[0m \u001b[0mbuildPtclTree\u001b[0m\u001b[0;34m(\u001b[0m\u001b[0;34m\"../EJ309-build/data/\"\u001b[0m \u001b[0;34m+\u001b[0m \u001b[0mparticle\u001b[0m \u001b[0;34m+\u001b[0m \u001b[0;34m\"_\"\u001b[0m \u001b[0;34m+\u001b[0m \u001b[0menergy\u001b[0m \u001b[0;34m+\u001b[0m \u001b[0;34m\"_\"\u001b[0m \u001b[0;34m+\u001b[0m \u001b[0munit\u001b[0m \u001b[0;34m+\u001b[0m \u001b[0;34m\".csv\"\u001b[0m\u001b[0;34m)\u001b[0m\u001b[0;34m\u001b[0m\u001b[0;34m\u001b[0m\u001b[0m\n\u001b[0m",
      "\u001b[0;32m<ipython-input-434-1b880845f47d>\u001b[0m in \u001b[0;36mbuildPtclTree\u001b[0;34m(filePath)\u001b[0m\n\u001b[1;32m     21\u001b[0m         \u001b[0mIDStack\u001b[0m \u001b[0;34m=\u001b[0m \u001b[0;34m[\u001b[0m\u001b[0;34m]\u001b[0m\u001b[0;34m\u001b[0m\u001b[0;34m\u001b[0m\u001b[0m\n\u001b[1;32m     22\u001b[0m         \u001b[0mID\u001b[0m \u001b[0;34m=\u001b[0m \u001b[0mrow\u001b[0m\u001b[0;34m[\u001b[0m\u001b[0;36m0\u001b[0m\u001b[0;34m]\u001b[0m\u001b[0;34m\u001b[0m\u001b[0;34m\u001b[0m\u001b[0m\n\u001b[0;32m---> 23\u001b[0;31m         \u001b[0;32mwhile\u001b[0m \u001b[0mID\u001b[0m \u001b[0;34m>\u001b[0m \u001b[0;36m0\u001b[0m\u001b[0;34m:\u001b[0m\u001b[0;34m\u001b[0m\u001b[0;34m\u001b[0m\u001b[0m\n\u001b[0m\u001b[1;32m     24\u001b[0m             \u001b[0mIDStack\u001b[0m\u001b[0;34m.\u001b[0m\u001b[0mappend\u001b[0m\u001b[0;34m(\u001b[0m\u001b[0mID\u001b[0m\u001b[0;34m)\u001b[0m\u001b[0;34m\u001b[0m\u001b[0;34m\u001b[0m\u001b[0m\n\u001b[1;32m     25\u001b[0m             \u001b[0;32mif\u001b[0m \u001b[0mID\u001b[0m \u001b[0;32mnot\u001b[0m \u001b[0;32min\u001b[0m \u001b[0mIDtoRow\u001b[0m\u001b[0;34m:\u001b[0m\u001b[0;34m\u001b[0m\u001b[0;34m\u001b[0m\u001b[0m\n",
      "\u001b[0;31mTypeError\u001b[0m: '>' not supported between instances of 'str' and 'int'"
     ]
    }
   ],
   "source": [
    "# Parameters to Read\n",
    "particle = \"neutron\"\n",
    "energy = \"2.45\"\n",
    "unit = \"MeV\"\n",
    "\n",
    "try:\n",
    "    os.mkdir(\"LightOutput/\"+particle+energy+unit)\n",
    "except:\n",
    "    pass\n",
    "\n",
    "ptclTree = buildPtclTree(\"../EJ309-build/data/\" + particle + \"_\" + energy + \"_\" + unit + \".csv\")"
   ]
  },
  {
   "cell_type": "code",
   "execution_count": 442,
   "metadata": {},
   "outputs": [],
   "source": [
    "IDtoLightYield = {}\n",
    "for ID in ptclTree:\n",
    "    lightYield = ptclLightYield(ptclTree[ID], pRF)\n",
    "    if lightYield > 0.0:\n",
    "        IDtoLightYield[ID] = lightYield\n",
    "lightYield = IDtoLightYield.values()"
   ]
  },
  {
   "cell_type": "code",
   "execution_count": 443,
   "metadata": {
    "scrolled": true
   },
   "outputs": [
    {
     "data": {
      "image/png": "[encoded data removed]",
      "text/plain": [
       "<Figure size 576x396 with 1 Axes>"
      ]
     },
     "metadata": {},
     "output_type": "display_data"
    }
   ],
   "source": [
    "bins = plt.hist(lightYield, bins = 120, density = True)\n",
    "plt.xlabel(\"Light Output (a.u.)\")\n",
    "plt.ylabel(\"counts\")\n",
    "plt.title(\"Scintillator Light Yield from \" \n",
    "           + energy + \" \" + unit + \" \" + particle \n",
    "           + \"s entering a scintillator\")\n",
    "\n",
    "plt.ylim(0, 1.25)\n",
    "plt.savefig(\"LightOutput/\"+particle+energy+unit+\"/lightRF.eps\")"
   ]
  },
  {
   "cell_type": "code",
   "execution_count": null,
   "metadata": {},
   "outputs": [],
   "source": []
  }
 ],
 "metadata": {
  "kernelspec": {
   "display_name": "Python 3",
   "language": "python",
   "name": "python3"
  },
  "language_info": {
   "codemirror_mode": {
    "name": "ipython",
    "version": 3
   },
   "file_extension": ".py",
   "mimetype": "text/x-python",
   "name": "python",
   "nbconvert_exporter": "python",
   "pygments_lexer": "ipython3",
   "version": "3.8.1"
  }
 },
 "nbformat": 4,
 "nbformat_minor": 4
}
