{
 "cells": [
  {
   "cell_type": "code",
   "execution_count": 508,
   "metadata": {},
   "outputs": [],
   "source": [
    "import pandas as pd\n",
    "import numpy as np\n",
    "import matplotlib.pyplot as plt\n",
    "from scipy import interpolate\n",
    "from scipy import optimize\n",
    "import os\n",
    "import multiprocessing as mp\n",
    "\n",
    "plt.style.use('seaborn')"
   ]
  },
  {
   "cell_type": "code",
   "execution_count": 509,
   "metadata": {},
   "outputs": [],
   "source": [
    "# Creates a \"particle tree\" which is a dictionary containing\n",
    "# { event0 : {ptcls} , event1 : {ptcls} , ... }\n",
    "# \"ptcls\" contains:\n",
    "# { ptclID : { \"allEvents\" : [] , \"children\" : {ptcls} } }\n",
    "# where \"allEvents\" is every event performed by the particle with ID == ptclID\n",
    "# and \"children\" recursively stores \"ptcls\" structures for each child\n",
    "\n",
    "def buildPtclTree(filePath):\n",
    "    ptclTree = {}\n",
    "    \n",
    "    data = np.array(pd.read_csv(filePath))\n",
    "    \n",
    "    IDtoRow = {}\n",
    "    for row in data:\n",
    "        IDtoRow[row[0]] = row\n",
    "\n",
    "    for row in data:\n",
    "        skipRow = False\n",
    "        \n",
    "        # Stack of parents\n",
    "        IDStack = []\n",
    "        ID = row[0]\n",
    "        while \"-0\" not in ID:\n",
    "            IDStack.append(ID)\n",
    "            if ID not in IDtoRow:\n",
    "                skipRow = True\n",
    "                break\n",
    "            ID = IDtoRow[ID][1]\n",
    "            \n",
    "        if skipRow :\n",
    "            continue\n",
    "\n",
    "        ID = 0\n",
    "        currTree = ptclTree\n",
    "        while True:\n",
    "            ID = IDStack.pop()\n",
    "            if ID not in currTree:\n",
    "                currTree[ID] = {\"allEvents\" : [] , \"children\" : {} , \"totalEDep\" : -1}\n",
    "\n",
    "            if len(IDStack) == 0:\n",
    "                currTree = currTree[ID]\n",
    "                break\n",
    "\n",
    "            currTree = currTree[ID][\"children\"]\n",
    "\n",
    "        currTree[\"allEvents\"].append(row)\n",
    "        \n",
    "    return ptclTree\n",
    "\n"
   ]
  },
  {
   "cell_type": "code",
   "execution_count": 510,
   "metadata": {},
   "outputs": [],
   "source": [
    "# Takes in a \"ptcl\" and a material name, and finds the total energy deposited \n",
    "# by this particle, and all of its children, into that material\n",
    "\n",
    "def netEDep(ptclInTree, materialName):\n",
    "    eDep = 0\n",
    "    for event in ptclInTree[\"allEvents\"]:\n",
    "        if event[4] in materialName:\n",
    "            eDep += event[3]\n",
    "    for child in ptclInTree[\"children\"].values():\n",
    "        eDep += netEDep(child, materialName)\n",
    "    ptclInTree[\"totalEDep\"] = eDep\n",
    "    return eDep\n",
    "\n",
    "# Takes in a \"ptcl\" and a particle type, and if this particle or any of its\n",
    "# children have that type\n",
    "\n",
    "def hasNoChildrenOfType(ptclInTree, ptclType):\n",
    "    hasChild = True\n",
    "    \n",
    "    if ptclInTree[\"allEvents\"][0][2] in ptclType:\n",
    "        return False\n",
    "    \n",
    "    for child in ptclInTree[\"children\"].values():\n",
    "        hasChild = hasChild and hasNoChildrenOfType(child, ptclType)\n",
    "    \n",
    "    return hasChild\n",
    "\n",
    "# Prints a particle\n",
    "\n",
    "def printPtcl(ptcl, indent = \">\"):\n",
    "    print(\"\\n\", indent , \"Particle : \" , ptcl[\"allEvents\"][0][2] , \" Energy : \" , (ptcl[\"allEvents\"][0][3] + ptcl[\"allEvents\"][0][5]) / 1e3 , \" keV \")\n",
    "    for child in ptcl[\"children\"].values():\n",
    "        printPtcl(child, \"---\" + indent)\n",
    "        \n",
    "# Takes in a particle and finds the light generated in the scintillator \n",
    "# by the particle, or any of its children. \n",
    "# -> pRF is the \"proton response function\" which takes total energy deposited by a proton and \n",
    "\n",
    "def ptclLightYield(ptcl, pRF):\n",
    "    pEDep = 0\n",
    "    cEDep = 0\n",
    "    \n",
    "    for event in ptcl[\"allEvents\"]:\n",
    "        ptclType = event[2]\n",
    "        if ptclType not in \"proton C12 C13\":\n",
    "            break\n",
    "        if event[4] not in \"ej309\":\n",
    "            continue\n",
    "        if ptclType in \"proton\":\n",
    "            pEDep += event[3]\n",
    "        if ptclType in \"C12 C13\":\n",
    "            cEDep += event[3]\n",
    "        \n",
    "    \n",
    "    lightYield = float( pRF( pEDep / 1e6 ) )\n",
    "    for child in ptcl[\"children\"].values():\n",
    "        lightYield += ptclLightYield(child, pRF)\n",
    "    \n",
    "    return lightYield\n",
    "\n"
   ]
  },
  {
   "cell_type": "code",
   "execution_count": 511,
   "metadata": {},
   "outputs": [],
   "source": [
    "protonLightYield = np.array(pd.read_csv(\"EJ309Light.txt\", delimiter=' ', header = None))\n",
    "x = np.append(np.array([0]), protonLightYield[:,0])\n",
    "y = np.append(np.array([0]), protonLightYield[:,1])"
   ]
  },
  {
   "cell_type": "code",
   "execution_count": 512,
   "metadata": {},
   "outputs": [
    {
     "data": {
      "image/png": "[encoded data removed]",
      "text/plain": [
       "<Figure size 576x396 with 1 Axes>"
      ]
     },
     "metadata": {},
     "output_type": "display_data"
    }
   ],
   "source": [
    "plt.scatter(x, y, label=\"col1\")\n",
    "\n",
    "def f(x, A, B, C, D, E, F, G):\n",
    "    return A*x + B*x**2 + C*x**3 + D*x**4 + E*x**5 + F*x**6 + G*x**7\n",
    "\n",
    "popt, pcov = optimize.curve_fit(f, x, y)\n",
    "\n",
    "plt.plot(x, f(x, *popt))\n",
    "\n",
    "plt.xlabel(\"Proton Energy Deposition (MeV)\")\n",
    "plt.ylabel(\"Light Yield (MeVee)\")\n",
    "plt.legend()\n",
    "\n",
    "pRF = lambda x : f(x, *popt)"
   ]
  },
  {
   "cell_type": "code",
   "execution_count": 504,
   "metadata": {},
   "outputs": [],
   "source": [
    "IDtoLightYield = {}\n",
    "for ID in ptclTree:\n",
    "    lightYield = ptclLightYield(ptclTree[ID], pRF)\n",
    "    if lightYield > 0.0:\n",
    "        IDtoLightYield[ID] = lightYield\n",
    "lightYield = IDtoLightYield.values()"
   ]
  },
  {
   "cell_type": "code",
   "execution_count": null,
   "metadata": {},
   "outputs": [],
   "source": [
    "def GetLightYield(data):\n",
    "    \n",
    "    ptclTree = buildPtclTree(\"../EJ309-build/data/\" + data)\n",
    "    \n",
    "    IDtoLightYield = []\n",
    "    for ID in ptclTree:\n",
    "        lightYield = ptclLightYield(ptclTree[ID], pRF)\n",
    "        if lightYield > 0.0:\n",
    "            IDtoLightYield.append(lightYield)\n",
    "            \n",
    "    return np.array(IDtoLightYield)\n"
   ]
  },
  {
   "cell_type": "code",
   "execution_count": 704,
   "metadata": {},
   "outputs": [],
   "source": [
    "dataToLightYield = { }\n",
    "\n",
    "for filename in os.listdir(\"../EJ309-build/data/\"):\n",
    "    if filename.endswith(\".csv\"):\n",
    "        dataToLightYield[filename] = GetLightYield(filename)"
   ]
  },
  {
   "cell_type": "code",
   "execution_count": 721,
   "metadata": {
    "scrolled": true
   },
   "outputs": [
    {
     "data": {
      "text/plain": [
       "<Figure size 576x396 with 0 Axes>"
      ]
     },
     "metadata": {},
     "output_type": "display_data"
    }
   ],
   "source": [
    "for key in dataToLightYield:\n",
    "\n",
    "    value = dataToLightYield[key]\n",
    "\n",
    "    i = key.find(\"_\")\n",
    "    ptcl = key[0:i]\n",
    "    key = key[i + 1:]\n",
    "\n",
    "    i = key.find(\"_\")\n",
    "    energy = key[0:i]\n",
    "    key = key[i + 1:]\n",
    "\n",
    "    i = key.find(\".\")\n",
    "    unit = key[0:i]\n",
    "\n",
    "    ptcl, energy, unit\n",
    "\n",
    "    try:\n",
    "        os.mkdir(\"LightOutput/\"+particle+energy+unit)\n",
    "    except:\n",
    "        pass\n",
    "\n",
    "    bins = plt.hist(value, bins = 60, density = True)\n",
    "    plt.xlabel(\"Light Output (a.u.)\")\n",
    "    plt.ylabel(\"probability density\")\n",
    "    plt.title(\"Scintillator Light Yield from \" \n",
    "               + energy + \" \" + unit + \" \" + ptcl)\n",
    "    \n",
    "    plt.ylim( 0, max(bins[0]) )\n",
    "    plt.xlim( 0, max(bins[1]) * 1.2 )\n",
    "    plt.savefig(\"LightOutput/\"+particle+energy+unit+\"/lightRF.png\")\n",
    "    \n",
    "    plt.clf()"
   ]
  },
  {
   "cell_type": "code",
   "execution_count": 720,
   "metadata": {},
   "outputs": [
    {
     "data": {
      "text/plain": [
       "(array([2.39402888, 1.73807675, 1.5141889 , 1.32957962, 1.19014069,\n",
       "        1.12533105, 1.06837712, 1.00356748, 1.03106248, 0.91911855,\n",
       "        0.86609248, 0.87591213, 0.87787605, 0.85038105, 0.89751534,\n",
       "        0.81699427, 0.9151907 , 0.83074177, 0.88965963, 0.8327057 ,\n",
       "        0.87787605, 0.81503034, 0.76593213, 0.9014432 , 0.93679391,\n",
       "        0.92108248, 0.97803641, 0.9426857 , 1.00553141, 1.08016069,\n",
       "        0.96036105, 1.10176391, 0.99374784, 1.03106248, 1.11354748,\n",
       "        1.02909855, 1.00945927, 1.08801641, 1.06052141, 1.12140319,\n",
       "        1.01142319, 0.91322677, 0.88376784, 0.81306641, 0.87983998,\n",
       "        0.75807641, 0.65791606, 0.7777157 , 0.71094213, 0.69719463,\n",
       "        0.69130284, 0.69326677, 0.66184392, 0.63631284, 0.5989982 ,\n",
       "        0.60488999, 0.64220463, 0.54989999, 0.58132285, 0.61863749]),\n",
       " array([1.40081937e-06, 1.78324520e-02, 3.56635032e-02, 5.34945544e-02,\n",
       "        7.13256056e-02, 8.91566568e-02, 1.06987708e-01, 1.24818759e-01,\n",
       "        1.42649810e-01, 1.60480862e-01, 1.78311913e-01, 1.96142964e-01,\n",
       "        2.13974015e-01, 2.31805066e-01, 2.49636117e-01, 2.67467169e-01,\n",
       "        2.85298220e-01, 3.03129271e-01, 3.20960322e-01, 3.38791373e-01,\n",
       "        3.56622425e-01, 3.74453476e-01, 3.92284527e-01, 4.10115578e-01,\n",
       "        4.27946629e-01, 4.45777681e-01, 4.63608732e-01, 4.81439783e-01,\n",
       "        4.99270834e-01, 5.17101885e-01, 5.34932936e-01, 5.52763988e-01,\n",
       "        5.70595039e-01, 5.88426090e-01, 6.06257141e-01, 6.24088192e-01,\n",
       "        6.41919244e-01, 6.59750295e-01, 6.77581346e-01, 6.95412397e-01,\n",
       "        7.13243448e-01, 7.31074500e-01, 7.48905551e-01, 7.66736602e-01,\n",
       "        7.84567653e-01, 8.02398704e-01, 8.20229756e-01, 8.38060807e-01,\n",
       "        8.55891858e-01, 8.73722909e-01, 8.91553960e-01, 9.09385011e-01,\n",
       "        9.27216063e-01, 9.45047114e-01, 9.62878165e-01, 9.80709216e-01,\n",
       "        9.98540267e-01, 1.01637132e+00, 1.03420237e+00, 1.05203342e+00,\n",
       "        1.06986447e+00]),\n",
       " <BarContainer object of 60 artists>)"
      ]
     },
     "execution_count": 720,
     "metadata": {},
     "output_type": "execute_result"
    }
   ],
   "source": [
    "bins"
   ]
  },
  {
   "cell_type": "code",
   "execution_count": 520,
   "metadata": {},
   "outputs": [],
   "source": []
  },
  {
   "cell_type": "code",
   "execution_count": 521,
   "metadata": {},
   "outputs": [],
   "source": []
  },
  {
   "cell_type": "code",
   "execution_count": null,
   "metadata": {},
   "outputs": [],
   "source": []
  }
 ],
 "metadata": {
  "kernelspec": {
   "display_name": "Python 3",
   "language": "python",
   "name": "python3"
  },
  "language_info": {
   "codemirror_mode": {
    "name": "ipython",
    "version": 3
   },
   "file_extension": ".py",
   "mimetype": "text/x-python",
   "name": "python",
   "nbconvert_exporter": "python",
   "pygments_lexer": "ipython3",
   "version": "3.8.1"
  }
 },
 "nbformat": 4,
 "nbformat_minor": 4
}
